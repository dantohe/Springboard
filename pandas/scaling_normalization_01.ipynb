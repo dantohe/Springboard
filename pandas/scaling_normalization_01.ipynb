{
 "cells": [
  {
   "cell_type": "markdown",
   "id": "a0dc0284-ccab-404c-8d8c-5fcf0b5185d8",
   "metadata": {},
   "source": [
    "#  Scaling and Normalization Exercises   \n",
    "Credits:  \n",
    "https://www.kaggle.com/braindeadcoder/lending-club-data   \n",
    "https://pub.towardsai.net/how-when-and-why-should-you-normalize-standardize-rescale-your-data-3f083def38ff"
   ]
  },
  {
   "cell_type": "code",
   "execution_count": 1,
   "id": "f9e83aea-7925-40f8-b1d8-2491ff5febe2",
   "metadata": {},
   "outputs": [],
   "source": [
    "import pandas as pd\n",
    "import numpy as np \n",
    "import seaborn as sns\n",
    "import matplotlib.pyplot as plt"
   ]
  },
  {
   "cell_type": "code",
   "execution_count": 5,
   "id": "863bffdb-368a-4d74-928f-ef654ed6ba50",
   "metadata": {},
   "outputs": [],
   "source": [
    "# the data\n",
    "cols = ['loan_amnt', 'int_rate', 'installment']\n",
    "data = pd.read_csv('/Users/dantohe/Development/Projects/Springboard/datasets/lending_club/accepted_2007_to_2018q4.csv/accepted_2007_to_2018Q4.csv', nrows = 30000, usecols = cols)"
   ]
  },
  {
   "cell_type": "code",
   "execution_count": 6,
   "id": "32cb0fb6-758e-4d22-9590-9046a9a9df03",
   "metadata": {},
   "outputs": [
    {
     "data": {
      "text/plain": [
       "<bound method NDFrame.head of        loan_amnt  int_rate  installment\n",
       "0         3600.0     13.99       123.03\n",
       "1        24700.0     11.99       820.28\n",
       "2        20000.0     10.78       432.66\n",
       "3        35000.0     14.85       829.90\n",
       "4        10400.0     22.45       289.91\n",
       "...          ...       ...          ...\n",
       "29995     9600.0      8.38       302.52\n",
       "29996     9600.0     11.22       315.30\n",
       "29997     5000.0     13.18       168.91\n",
       "29998     8000.0      9.76       257.24\n",
       "29999    25000.0     13.67       577.44\n",
       "\n",
       "[30000 rows x 3 columns]>"
      ]
     },
     "execution_count": 6,
     "metadata": {},
     "output_type": "execute_result"
    }
   ],
   "source": [
    "data.head"
   ]
  },
  {
   "cell_type": "code",
   "execution_count": 7,
   "id": "7c6a8796-d387-41ef-a051-5a4ae7798376",
   "metadata": {},
   "outputs": [
    {
     "data": {
      "text/html": [
       "<div>\n",
       "<style scoped>\n",
       "    .dataframe tbody tr th:only-of-type {\n",
       "        vertical-align: middle;\n",
       "    }\n",
       "\n",
       "    .dataframe tbody tr th {\n",
       "        vertical-align: top;\n",
       "    }\n",
       "\n",
       "    .dataframe thead th {\n",
       "        text-align: right;\n",
       "    }\n",
       "</style>\n",
       "<table border=\"1\" class=\"dataframe\">\n",
       "  <thead>\n",
       "    <tr style=\"text-align: right;\">\n",
       "      <th></th>\n",
       "      <th>loan_amnt</th>\n",
       "      <th>int_rate</th>\n",
       "      <th>installment</th>\n",
       "    </tr>\n",
       "  </thead>\n",
       "  <tbody>\n",
       "    <tr>\n",
       "      <th>count</th>\n",
       "      <td>30000.000000</td>\n",
       "      <td>30000.000000</td>\n",
       "      <td>30000.000000</td>\n",
       "    </tr>\n",
       "    <tr>\n",
       "      <th>mean</th>\n",
       "      <td>15000.651667</td>\n",
       "      <td>12.242581</td>\n",
       "      <td>434.344285</td>\n",
       "    </tr>\n",
       "    <tr>\n",
       "      <th>std</th>\n",
       "      <td>8709.706176</td>\n",
       "      <td>4.209334</td>\n",
       "      <td>248.655252</td>\n",
       "    </tr>\n",
       "    <tr>\n",
       "      <th>min</th>\n",
       "      <td>1000.000000</td>\n",
       "      <td>5.320000</td>\n",
       "      <td>30.540000</td>\n",
       "    </tr>\n",
       "    <tr>\n",
       "      <th>25%</th>\n",
       "      <td>8000.000000</td>\n",
       "      <td>9.170000</td>\n",
       "      <td>255.030000</td>\n",
       "    </tr>\n",
       "    <tr>\n",
       "      <th>50%</th>\n",
       "      <td>13950.000000</td>\n",
       "      <td>11.990000</td>\n",
       "      <td>378.150000</td>\n",
       "    </tr>\n",
       "    <tr>\n",
       "      <th>75%</th>\n",
       "      <td>20000.000000</td>\n",
       "      <td>14.480000</td>\n",
       "      <td>574.727500</td>\n",
       "    </tr>\n",
       "    <tr>\n",
       "      <th>max</th>\n",
       "      <td>35000.000000</td>\n",
       "      <td>28.990000</td>\n",
       "      <td>1354.660000</td>\n",
       "    </tr>\n",
       "  </tbody>\n",
       "</table>\n",
       "</div>"
      ],
      "text/plain": [
       "          loan_amnt      int_rate   installment\n",
       "count  30000.000000  30000.000000  30000.000000\n",
       "mean   15000.651667     12.242581    434.344285\n",
       "std     8709.706176      4.209334    248.655252\n",
       "min     1000.000000      5.320000     30.540000\n",
       "25%     8000.000000      9.170000    255.030000\n",
       "50%    13950.000000     11.990000    378.150000\n",
       "75%    20000.000000     14.480000    574.727500\n",
       "max    35000.000000     28.990000   1354.660000"
      ]
     },
     "execution_count": 7,
     "metadata": {},
     "output_type": "execute_result"
    }
   ],
   "source": [
    "data.describe()"
   ]
  },
  {
   "cell_type": "markdown",
   "id": "d4ac3ea7-84b2-44e2-9379-d82bdb3783ef",
   "metadata": {},
   "source": [
    "## Standardization (Standard Scalar)   \n"
   ]
  },
  {
   "cell_type": "markdown",
   "id": "352eca9f-3896-49f9-b272-df0053ad89b1",
   "metadata": {},
   "source": [
    "from sklearn.preprocessing import StandardScaler\n",
    "scaler = StandardScaler() \n",
    "data_scaled = scaler.fit_transform(data)"
   ]
  },
  {
   "cell_type": "code",
   "execution_count": 10,
   "id": "d12112d6-2250-4f43-aedd-4faef2e7db56",
   "metadata": {},
   "outputs": [
    {
     "name": "stdout",
     "output_type": "stream",
     "text": [
      "[ 1.23160741e-17  3.27323354e-16 -5.11590770e-17]\n",
      "[1. 1. 1.]\n"
     ]
    }
   ],
   "source": [
    "print(data_scaled.mean(axis=0))\n",
    "print(data_scaled.std(axis=0))"
   ]
  },
  {
   "cell_type": "code",
   "execution_count": 11,
   "id": "2a6ceaf1-ff12-46bd-92db-95db9e6e271f",
   "metadata": {},
   "outputs": [
    {
     "name": "stdout",
     "output_type": "stream",
     "text": [
      "Min values (Loan Amount, Int rate and Installment):  [-1.60750371 -1.64460636 -1.62397944]\n",
      "Max values (Loan Amount, Int rate and Installment):  [2.29625217 3.97870534 3.70123312]\n"
     ]
    }
   ],
   "source": [
    "print('Min values (Loan Amount, Int rate and Installment): ', data_scaled.min(axis=0))\n",
    "print('Max values (Loan Amount, Int rate and Installment): ', data_scaled.max(axis=0))"
   ]
  },
  {
   "cell_type": "markdown",
   "id": "b59040f4-c65b-4cc4-bfcd-bad5738f8b67",
   "metadata": {},
   "source": [
    "## Normalization (Min-Max Scalar)   "
   ]
  },
  {
   "cell_type": "code",
   "execution_count": 13,
   "id": "6d1c7e46-a42a-4805-8936-52555b30a509",
   "metadata": {},
   "outputs": [],
   "source": [
    "from sklearn.preprocessing import MinMaxScaler\n",
    "scaler = MinMaxScaler() \n",
    "data_scaled = scaler.fit_transform(data)"
   ]
  },
  {
   "cell_type": "code",
   "execution_count": 14,
   "id": "7e2e686a-fc66-47ce-8201-b4031a42b02d",
   "metadata": {},
   "outputs": [
    {
     "name": "stdout",
     "output_type": "stream",
     "text": [
      "means (Loan Amount, Int rate and Installment):  [0.41178387 0.29246224 0.30496049]\n",
      "std (Loan Amount, Int rate and Installment):  [0.25616356 0.17783115 0.18778593]\n"
     ]
    }
   ],
   "source": [
    "print('means (Loan Amount, Int rate and Installment): ', data_scaled.mean(axis=0))\n",
    "print('std (Loan Amount, Int rate and Installment): ', data_scaled.std(axis=0))"
   ]
  },
  {
   "cell_type": "code",
   "execution_count": 15,
   "id": "025741c8-acc2-4fa6-aff5-d370a6f2a5ec",
   "metadata": {},
   "outputs": [
    {
     "name": "stdout",
     "output_type": "stream",
     "text": [
      "Min (Loan Amount, Int rate and Installment):  [0. 0. 0.]\n",
      "Max (Loan Amount, Int rate and Installment):  [1. 1. 1.]\n"
     ]
    }
   ],
   "source": [
    "print('Min (Loan Amount, Int rate and Installment): ', data_scaled.min(axis=0))\n",
    "print('Max (Loan Amount, Int rate and Installment): ', data_scaled.max(axis=0))"
   ]
  },
  {
   "cell_type": "markdown",
   "id": "53082424-fb01-428f-91f0-7a6a56626199",
   "metadata": {},
   "source": [
    "## Robust Scalar (Scaling to median and quantiles)   \n"
   ]
  },
  {
   "cell_type": "code",
   "execution_count": 16,
   "id": "64e70b1f-5996-4190-89d7-97ce39243086",
   "metadata": {},
   "outputs": [],
   "source": [
    "from sklearn.preprocessing import RobustScaler\n",
    "scaler = RobustScaler() \n",
    "data_scaled = scaler.fit_transform(data)"
   ]
  },
  {
   "cell_type": "code",
   "execution_count": 17,
   "id": "3cfc123b-3572-483e-a1d5-d12b5ab951fc",
   "metadata": {},
   "outputs": [
    {
     "name": "stdout",
     "output_type": "stream",
     "text": [
      "means (Loan Amount, Int rate and Installment):  [0.08755431 0.04756711 0.1757733 ]\n",
      "std (Loan Amount, Int rate and Installment):  [0.72579675 0.79270497 0.77776995]\n"
     ]
    }
   ],
   "source": [
    "print('means (Loan Amount, Int rate and Installment): ', data_scaled.mean(axis=0))\n",
    "print('std (Loan Amount, Int rate and Installment): ', data_scaled.std(axis=0))"
   ]
  },
  {
   "cell_type": "code",
   "execution_count": 18,
   "id": "9dbc12d5-7731-4cc9-a596-e70d68bf0cbd",
   "metadata": {},
   "outputs": [
    {
     "name": "stdout",
     "output_type": "stream",
     "text": [
      "Min (Loan Amount, Int rate and Installment):  [-1.07916667 -1.25612053 -1.0873091 ]\n",
      "Max (Loan Amount, Int rate and Installment):  [1.75416667 3.20150659 3.05448119]\n"
     ]
    }
   ],
   "source": [
    "print('Min (Loan Amount, Int rate and Installment): ', data_scaled.min(axis=0))\n",
    "print('Max (Loan Amount, Int rate and Installment): ', data_scaled.max(axis=0))"
   ]
  },
  {
   "cell_type": "code",
   "execution_count": null,
   "id": "4d16f142-ccb5-4e1d-8115-686309bff9f4",
   "metadata": {},
   "outputs": [],
   "source": []
  }
 ],
 "metadata": {
  "kernelspec": {
   "display_name": "Python 3",
   "language": "python",
   "name": "python3"
  },
  "language_info": {
   "codemirror_mode": {
    "name": "ipython",
    "version": 3
   },
   "file_extension": ".py",
   "mimetype": "text/x-python",
   "name": "python",
   "nbconvert_exporter": "python",
   "pygments_lexer": "ipython3",
   "version": "3.8.2"
  }
 },
 "nbformat": 4,
 "nbformat_minor": 5
}
