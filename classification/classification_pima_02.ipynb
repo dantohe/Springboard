{
 "cells": [
  {
   "cell_type": "markdown",
   "id": "bb206bb0-d0aa-438c-bf6e-e4889855988e",
   "metadata": {},
   "source": [
    "# Using Pima dataset for classification"
   ]
  },
  {
   "cell_type": "code",
   "execution_count": 1,
   "id": "ffd2b991-e99e-484e-8db2-42ef725fefcb",
   "metadata": {},
   "outputs": [],
   "source": [
    "import numpy as np # linear algebra\n",
    "import pandas as pd # data processing, CSV file I/O (e.g. pd.read_csv)\n",
    "import matplotlib.pyplot as plt\n",
    "import seaborn as sns"
   ]
  },
  {
   "cell_type": "code",
   "execution_count": 2,
   "id": "ab0159f5-11f4-4312-ad3a-467111e8d141",
   "metadata": {},
   "outputs": [],
   "source": [
    "df=pd.read_csv('/Users/dantohe/Development/Projects/Springboard/datasets/Pima_Indians_Diabetes/diabetes.csv')"
   ]
  },
  {
   "cell_type": "code",
   "execution_count": 3,
   "id": "d858b7cd-e7eb-4bad-bdf3-fd31cf2bb79e",
   "metadata": {},
   "outputs": [
    {
     "name": "stdout",
     "output_type": "stream",
     "text": [
      "<class 'pandas.core.frame.DataFrame'>\n",
      "RangeIndex: 768 entries, 0 to 767\n",
      "Data columns (total 9 columns):\n",
      " #   Column                    Non-Null Count  Dtype  \n",
      "---  ------                    --------------  -----  \n",
      " 0   Pregnancies               768 non-null    int64  \n",
      " 1   Glucose                   768 non-null    int64  \n",
      " 2   BloodPressure             768 non-null    int64  \n",
      " 3   SkinThickness             768 non-null    int64  \n",
      " 4   Insulin                   768 non-null    int64  \n",
      " 5   BMI                       768 non-null    float64\n",
      " 6   DiabetesPedigreeFunction  768 non-null    float64\n",
      " 7   Age                       768 non-null    int64  \n",
      " 8   Outcome                   768 non-null    int64  \n",
      "dtypes: float64(2), int64(7)\n",
      "memory usage: 54.1 KB\n"
     ]
    }
   ],
   "source": [
    "df.info()"
   ]
  },
  {
   "cell_type": "code",
   "execution_count": 5,
   "id": "052570aa-7553-4317-8d0b-30d204b3581b",
   "metadata": {},
   "outputs": [
    {
     "data": {
      "text/plain": [
       "(768, 9)"
      ]
     },
     "execution_count": 5,
     "metadata": {},
     "output_type": "execute_result"
    }
   ],
   "source": [
    "df.shape"
   ]
  },
  {
   "cell_type": "code",
   "execution_count": 7,
   "id": "1c748ae4-921c-4479-a5a3-52f00b0e6420",
   "metadata": {},
   "outputs": [
    {
     "data": {
      "text/plain": [
       "Index(['Pregnancies', 'Glucose', 'BloodPressure', 'SkinThickness', 'Insulin',\n",
       "       'BMI', 'DiabetesPedigreeFunction', 'Age', 'Outcome'],\n",
       "      dtype='object')"
      ]
     },
     "execution_count": 7,
     "metadata": {},
     "output_type": "execute_result"
    }
   ],
   "source": [
    "df.columns"
   ]
  },
  {
   "cell_type": "markdown",
   "id": "7c70471f-045b-4a05-8ff5-70af8e305876",
   "metadata": {},
   "source": [
    "### Pick a subset of features"
   ]
  },
  {
   "cell_type": "code",
   "execution_count": 9,
   "id": "a78e2374-8bfa-4fc7-a48b-bd3cab4dd1d0",
   "metadata": {},
   "outputs": [],
   "source": [
    "feature_columns = ['Pregnancies','Insulin','BMI','Age']\n",
    "x= df[feature_columns]\n",
    "y = df.Outcome\n"
   ]
  },
  {
   "cell_type": "code",
   "execution_count": 11,
   "id": "57e7d420-6f71-4e23-a3ca-7194ec361e25",
   "metadata": {},
   "outputs": [
    {
     "name": "stdout",
     "output_type": "stream",
     "text": [
      "<class 'pandas.core.frame.DataFrame'>\n",
      "RangeIndex: 768 entries, 0 to 767\n",
      "Data columns (total 4 columns):\n",
      " #   Column       Non-Null Count  Dtype  \n",
      "---  ------       --------------  -----  \n",
      " 0   Pregnancies  768 non-null    int64  \n",
      " 1   Insulin      768 non-null    int64  \n",
      " 2   BMI          768 non-null    float64\n",
      " 3   Age          768 non-null    int64  \n",
      "dtypes: float64(1), int64(3)\n",
      "memory usage: 24.1 KB\n"
     ]
    }
   ],
   "source": [
    "x.info()"
   ]
  },
  {
   "cell_type": "code",
   "execution_count": 13,
   "id": "caddbd85-7213-4c99-aca0-d9c30e1603ab",
   "metadata": {},
   "outputs": [
    {
     "data": {
      "text/plain": [
       "<bound method NDFrame.head of 0      1\n",
       "1      0\n",
       "2      1\n",
       "3      0\n",
       "4      1\n",
       "      ..\n",
       "763    0\n",
       "764    0\n",
       "765    0\n",
       "766    1\n",
       "767    0\n",
       "Name: Outcome, Length: 768, dtype: int64>"
      ]
     },
     "execution_count": 13,
     "metadata": {},
     "output_type": "execute_result"
    }
   ],
   "source": [
    "y.head"
   ]
  },
  {
   "cell_type": "markdown",
   "id": "37dcc8fc-cc18-44e5-8c8a-02fc956def25",
   "metadata": {},
   "source": [
    "### Splitting in training and testing    \n",
    "By default train_test_split will allocate 25% of the data set to testing.  "
   ]
  },
  {
   "cell_type": "code",
   "execution_count": 14,
   "id": "9e84474c-035a-4d57-bb27-d6321051ec08",
   "metadata": {},
   "outputs": [],
   "source": [
    "from sklearn.model_selection import train_test_split\n",
    "x_train,x_test,y_train,y_test = train_test_split(x,y,random_state=0)"
   ]
  },
  {
   "cell_type": "code",
   "execution_count": 15,
   "id": "be95e610-dd4f-4f7f-8e4a-bcc4401362f0",
   "metadata": {},
   "outputs": [
    {
     "data": {
      "text/plain": [
       "(576, 4)"
      ]
     },
     "execution_count": 15,
     "metadata": {},
     "output_type": "execute_result"
    }
   ],
   "source": [
    "x_train.shape"
   ]
  },
  {
   "cell_type": "code",
   "execution_count": 16,
   "id": "d7bb8bb8-8b39-415a-8386-ff65afd8b3cd",
   "metadata": {},
   "outputs": [
    {
     "data": {
      "text/plain": [
       "(576,)"
      ]
     },
     "execution_count": 16,
     "metadata": {},
     "output_type": "execute_result"
    }
   ],
   "source": [
    "y_train.shape"
   ]
  },
  {
   "cell_type": "code",
   "execution_count": 17,
   "id": "249001ad-f9ce-4e53-be4f-212c8f1c33e6",
   "metadata": {},
   "outputs": [
    {
     "data": {
      "text/plain": [
       "(192, 4)"
      ]
     },
     "execution_count": 17,
     "metadata": {},
     "output_type": "execute_result"
    }
   ],
   "source": [
    "x_test.shape"
   ]
  },
  {
   "cell_type": "markdown",
   "id": "ed7f4828-d0c9-4edb-9f3e-9c560530f3ed",
   "metadata": {},
   "source": [
    "### Using logistic regression for learning.   "
   ]
  },
  {
   "cell_type": "code",
   "execution_count": 18,
   "id": "a94ca7fb-6b68-41cc-b79f-e06b57fb257f",
   "metadata": {},
   "outputs": [],
   "source": [
    "from sklearn.linear_model import LogisticRegression\n",
    "from sklearn import preprocessing\n",
    "from sklearn.metrics import accuracy_score"
   ]
  },
  {
   "cell_type": "code",
   "execution_count": 21,
   "id": "0a975b22-faa3-409f-9a8f-57d8ba71abae",
   "metadata": {},
   "outputs": [
    {
     "data": {
      "text/plain": [
       "LogisticRegression()"
      ]
     },
     "execution_count": 21,
     "metadata": {},
     "output_type": "execute_result"
    }
   ],
   "source": [
    "#fitting\n",
    "lr = LogisticRegression()\n",
    "lr.fit(x_train, y_train)"
   ]
  },
  {
   "cell_type": "code",
   "execution_count": 23,
   "id": "d69113d1-33a9-435c-9eb2-cc0e41f598a6",
   "metadata": {},
   "outputs": [],
   "source": [
    "#class prediction\n",
    "y_pred_class = lr.predict(x_test)"
   ]
  },
  {
   "cell_type": "code",
   "execution_count": 25,
   "id": "443e4f3f-fb6d-4412-961e-843e63e0dfcc",
   "metadata": {},
   "outputs": [
    {
     "data": {
      "text/plain": [
       "array([0, 0, 0, 0, 0, 0, 0, 1, 0, 1, 0, 1, 0, 0, 0, 0, 0, 0, 0, 0, 0, 0,\n",
       "       0, 0, 0, 0, 0, 1, 0, 0, 0, 0, 0, 0, 0, 0, 0, 0, 0, 0, 0, 0, 0, 0,\n",
       "       1, 0, 0, 0, 0, 0, 0, 0, 1, 0, 0, 0, 0, 1, 0, 0, 1, 0, 0, 0, 0, 0,\n",
       "       0, 0, 0, 0, 0, 0, 0, 1, 0, 0, 1, 0, 0, 0, 1, 0, 0, 0, 0, 0, 0, 1,\n",
       "       1, 0, 0, 0, 0, 0, 0, 0, 1, 1, 1, 0, 1, 0, 0, 0, 0, 0, 0, 0, 0, 0,\n",
       "       0, 1, 0, 0, 0, 0, 0, 0, 0, 1, 1, 1, 0, 1, 0, 0, 0, 0, 0, 0, 0, 0,\n",
       "       0, 1, 0, 1, 0, 0, 0, 0, 0, 0, 0, 0, 0, 0, 0, 0, 0, 0, 0, 0, 0, 0,\n",
       "       1, 0, 1, 0, 0, 1, 0, 0, 0, 0, 0, 0, 1, 0, 0, 0, 0, 1, 0, 0, 1, 0,\n",
       "       1, 0, 0, 0, 0, 1, 0, 0, 0, 0, 0, 0, 0, 0, 0, 0])"
      ]
     },
     "execution_count": 25,
     "metadata": {},
     "output_type": "execute_result"
    }
   ],
   "source": [
    "#these are the predictions from the model\n",
    "y_pred_class\n"
   ]
  },
  {
   "cell_type": "markdown",
   "id": "e5e99294-4d93-4526-bd8e-80e2e6d848db",
   "metadata": {},
   "source": [
    "### Calculate the classification accurcy    \n",
    "How many were correctly classified.   "
   ]
  },
  {
   "cell_type": "code",
   "execution_count": 27,
   "id": "fdf3ec02-7170-4739-8813-8906d1f72732",
   "metadata": {},
   "outputs": [
    {
     "name": "stdout",
     "output_type": "stream",
     "text": [
      "0.6770833333333334\n"
     ]
    }
   ],
   "source": [
    "print(accuracy_score(y_test, y_pred_class))"
   ]
  },
  {
   "cell_type": "markdown",
   "id": "3d0a50e7-0de6-4db8-9ba0-a0f14973e8a9",
   "metadata": {},
   "source": [
    "### The NULL ACCURACY     \n",
    "The accuracy achieved by allways predicting the most frequent class.    "
   ]
  },
  {
   "cell_type": "code",
   "execution_count": 28,
   "id": "4e81bc74-9e38-4d33-b75c-1de28a9ab0c7",
   "metadata": {},
   "outputs": [
    {
     "data": {
      "text/plain": [
       "192"
      ]
     },
     "execution_count": 28,
     "metadata": {},
     "output_type": "execute_result"
    }
   ],
   "source": [
    "y_test.count()"
   ]
  },
  {
   "cell_type": "code",
   "execution_count": 29,
   "id": "cb5887e3-17d6-4c5e-a6bb-0c0fb57a8859",
   "metadata": {},
   "outputs": [
    {
     "data": {
      "text/plain": [
       "0    130\n",
       "1     62\n",
       "Name: Outcome, dtype: int64"
      ]
     },
     "execution_count": 29,
     "metadata": {},
     "output_type": "execute_result"
    }
   ],
   "source": [
    "y_test.value_counts()"
   ]
  },
  {
   "cell_type": "code",
   "execution_count": 30,
   "id": "6b770171-f577-4c32-90fa-d102b6ff206d",
   "metadata": {},
   "outputs": [
    {
     "data": {
      "text/plain": [
       "0    500\n",
       "1    268\n",
       "Name: Outcome, dtype: int64"
      ]
     },
     "execution_count": 30,
     "metadata": {},
     "output_type": "execute_result"
    }
   ],
   "source": [
    "y.value_counts()"
   ]
  },
  {
   "cell_type": "code",
   "execution_count": 31,
   "id": "70218b4f-2363-4b62-aa29-ccf71f2772a0",
   "metadata": {},
   "outputs": [],
   "source": [
    "#how many ones are there"
   ]
  },
  {
   "cell_type": "code",
   "execution_count": 32,
   "id": "188a8fd2-50fa-4d1b-9eb1-cdf8ba358ab6",
   "metadata": {},
   "outputs": [
    {
     "data": {
      "text/plain": [
       "0.3229166666666667"
      ]
     },
     "execution_count": 32,
     "metadata": {},
     "output_type": "execute_result"
    }
   ],
   "source": [
    "y_test.mean()"
   ]
  },
  {
   "cell_type": "code",
   "execution_count": 33,
   "id": "20164ecd-7bef-4832-97cf-28cb5f362b4c",
   "metadata": {},
   "outputs": [
    {
     "data": {
      "text/plain": [
       "0.6770833333333333"
      ]
     },
     "execution_count": 33,
     "metadata": {},
     "output_type": "execute_result"
    }
   ],
   "source": [
    "1-y_test.mean()"
   ]
  },
  {
   "cell_type": "code",
   "execution_count": 34,
   "id": "d394ad6c-202d-43bd-ac3d-053227300e8f",
   "metadata": {},
   "outputs": [
    {
     "data": {
      "text/plain": [
       "0.6770833333333333"
      ]
     },
     "execution_count": 34,
     "metadata": {},
     "output_type": "execute_result"
    }
   ],
   "source": [
    "## null accuracy - for binary class\n",
    "max(y_test.mean(),1-y_test.mean())"
   ]
  },
  {
   "cell_type": "code",
   "execution_count": 35,
   "id": "59280b24-960e-4dd8-aa21-0f0fcb7ff5fc",
   "metadata": {},
   "outputs": [
    {
     "data": {
      "text/plain": [
       "0    0.677083\n",
       "Name: Outcome, dtype: float64"
      ]
     },
     "execution_count": 35,
     "metadata": {},
     "output_type": "execute_result"
    }
   ],
   "source": [
    "## null accuracy - for multi class\n",
    "y_test.value_counts().head(1)/len(y_test)"
   ]
  },
  {
   "cell_type": "markdown",
   "id": "5d127e1e-9585-44d5-87c2-ba22b3e7e726",
   "metadata": {},
   "source": [
    "### Comfusion Matrix    \n",
    "ACTUAL, PREDICTED !!!!!"
   ]
  },
  {
   "cell_type": "code",
   "execution_count": 37,
   "id": "a390dee6-d077-4267-b127-12f68c151893",
   "metadata": {},
   "outputs": [
    {
     "name": "stdout",
     "output_type": "stream",
     "text": [
      "[[114  16]\n",
      " [ 46  16]]\n"
     ]
    }
   ],
   "source": [
    "from sklearn import metrics\n",
    "print(metrics.confusion_matrix(y_test,y_pred_class))"
   ]
  },
  {
   "cell_type": "code",
   "execution_count": 38,
   "id": "8ac0d3d7-8fed-4bbe-a403-4dbf1bd2a520",
   "metadata": {},
   "outputs": [],
   "source": [
    " confusion_matrix = metrics.confusion_matrix(y_test, y_pred_class)"
   ]
  },
  {
   "cell_type": "code",
   "execution_count": null,
   "id": "b8840738-ec4d-42e1-ac2e-5e2bad10bf1a",
   "metadata": {},
   "outputs": [],
   "source": [
    "tp = confusion_matrix[1,1]\n",
    "tn = confusion_matrix[0,0]\n",
    "fn = confusion_matrix[1,0]\n",
    "fp = confusion_matrix[0,1]"
   ]
  }
 ],
 "metadata": {
  "kernelspec": {
   "display_name": "Python 3",
   "language": "python",
   "name": "python3"
  },
  "language_info": {
   "codemirror_mode": {
    "name": "ipython",
    "version": 3
   },
   "file_extension": ".py",
   "mimetype": "text/x-python",
   "name": "python",
   "nbconvert_exporter": "python",
   "pygments_lexer": "ipython3",
   "version": "3.8.2"
  }
 },
 "nbformat": 4,
 "nbformat_minor": 5
}
