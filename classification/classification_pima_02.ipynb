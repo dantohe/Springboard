{
 "cells": [
  {
   "cell_type": "markdown",
   "id": "bb206bb0-d0aa-438c-bf6e-e4889855988e",
   "metadata": {},
   "source": [
    "# Using Pima dataset for classification"
   ]
  },
  {
   "cell_type": "code",
   "execution_count": 1,
   "id": "ffd2b991-e99e-484e-8db2-42ef725fefcb",
   "metadata": {},
   "outputs": [],
   "source": [
    "import numpy as np # linear algebra\n",
    "import pandas as pd # data processing, CSV file I/O (e.g. pd.read_csv)\n",
    "import matplotlib.pyplot as plt\n",
    "import seaborn as sns"
   ]
  },
  {
   "cell_type": "code",
   "execution_count": 2,
   "id": "ab0159f5-11f4-4312-ad3a-467111e8d141",
   "metadata": {},
   "outputs": [],
   "source": [
    "df=pd.read_csv('/Users/dantohe/Development/Projects/Springboard/datasets/Pima_Indians_Diabetes/diabetes.csv')"
   ]
  },
  {
   "cell_type": "code",
   "execution_count": 3,
   "id": "d858b7cd-e7eb-4bad-bdf3-fd31cf2bb79e",
   "metadata": {},
   "outputs": [
    {
     "name": "stdout",
     "output_type": "stream",
     "text": [
      "<class 'pandas.core.frame.DataFrame'>\n",
      "RangeIndex: 768 entries, 0 to 767\n",
      "Data columns (total 9 columns):\n",
      " #   Column                    Non-Null Count  Dtype  \n",
      "---  ------                    --------------  -----  \n",
      " 0   Pregnancies               768 non-null    int64  \n",
      " 1   Glucose                   768 non-null    int64  \n",
      " 2   BloodPressure             768 non-null    int64  \n",
      " 3   SkinThickness             768 non-null    int64  \n",
      " 4   Insulin                   768 non-null    int64  \n",
      " 5   BMI                       768 non-null    float64\n",
      " 6   DiabetesPedigreeFunction  768 non-null    float64\n",
      " 7   Age                       768 non-null    int64  \n",
      " 8   Outcome                   768 non-null    int64  \n",
      "dtypes: float64(2), int64(7)\n",
      "memory usage: 54.1 KB\n"
     ]
    }
   ],
   "source": [
    "df.info()"
   ]
  },
  {
   "cell_type": "code",
   "execution_count": 5,
   "id": "052570aa-7553-4317-8d0b-30d204b3581b",
   "metadata": {},
   "outputs": [
    {
     "data": {
      "text/plain": [
       "(768, 9)"
      ]
     },
     "execution_count": 5,
     "metadata": {},
     "output_type": "execute_result"
    }
   ],
   "source": [
    "df.shape"
   ]
  },
  {
   "cell_type": "code",
   "execution_count": 7,
   "id": "1c748ae4-921c-4479-a5a3-52f00b0e6420",
   "metadata": {},
   "outputs": [
    {
     "data": {
      "text/plain": [
       "Index(['Pregnancies', 'Glucose', 'BloodPressure', 'SkinThickness', 'Insulin',\n",
       "       'BMI', 'DiabetesPedigreeFunction', 'Age', 'Outcome'],\n",
       "      dtype='object')"
      ]
     },
     "execution_count": 7,
     "metadata": {},
     "output_type": "execute_result"
    }
   ],
   "source": [
    "df.columns"
   ]
  },
  {
   "cell_type": "markdown",
   "id": "7c70471f-045b-4a05-8ff5-70af8e305876",
   "metadata": {},
   "source": [
    "### Pick a subset of features"
   ]
  },
  {
   "cell_type": "code",
   "execution_count": 9,
   "id": "a78e2374-8bfa-4fc7-a48b-bd3cab4dd1d0",
   "metadata": {},
   "outputs": [],
   "source": [
    "feature_columns = ['Pregnancies','Insulin','BMI','Age']\n",
    "x= df[feature_columns]\n",
    "y = df.Outcome\n"
   ]
  },
  {
   "cell_type": "code",
   "execution_count": 11,
   "id": "57e7d420-6f71-4e23-a3ca-7194ec361e25",
   "metadata": {},
   "outputs": [
    {
     "name": "stdout",
     "output_type": "stream",
     "text": [
      "<class 'pandas.core.frame.DataFrame'>\n",
      "RangeIndex: 768 entries, 0 to 767\n",
      "Data columns (total 4 columns):\n",
      " #   Column       Non-Null Count  Dtype  \n",
      "---  ------       --------------  -----  \n",
      " 0   Pregnancies  768 non-null    int64  \n",
      " 1   Insulin      768 non-null    int64  \n",
      " 2   BMI          768 non-null    float64\n",
      " 3   Age          768 non-null    int64  \n",
      "dtypes: float64(1), int64(3)\n",
      "memory usage: 24.1 KB\n"
     ]
    }
   ],
   "source": [
    "x.info()"
   ]
  },
  {
   "cell_type": "code",
   "execution_count": 13,
   "id": "caddbd85-7213-4c99-aca0-d9c30e1603ab",
   "metadata": {},
   "outputs": [
    {
     "data": {
      "text/plain": [
       "<bound method NDFrame.head of 0      1\n",
       "1      0\n",
       "2      1\n",
       "3      0\n",
       "4      1\n",
       "      ..\n",
       "763    0\n",
       "764    0\n",
       "765    0\n",
       "766    1\n",
       "767    0\n",
       "Name: Outcome, Length: 768, dtype: int64>"
      ]
     },
     "execution_count": 13,
     "metadata": {},
     "output_type": "execute_result"
    }
   ],
   "source": [
    "y.head"
   ]
  },
  {
   "cell_type": "markdown",
   "id": "37dcc8fc-cc18-44e5-8c8a-02fc956def25",
   "metadata": {},
   "source": [
    "### Splitting in training and testing    \n",
    "By default train_test_split will allocate 25% of the data set to testing.  "
   ]
  },
  {
   "cell_type": "code",
   "execution_count": 14,
   "id": "9e84474c-035a-4d57-bb27-d6321051ec08",
   "metadata": {},
   "outputs": [],
   "source": [
    "from sklearn.model_selection import train_test_split\n",
    "x_train,x_test,y_train,y_test = train_test_split(x,y,random_state=0)"
   ]
  },
  {
   "cell_type": "code",
   "execution_count": 15,
   "id": "be95e610-dd4f-4f7f-8e4a-bcc4401362f0",
   "metadata": {},
   "outputs": [
    {
     "data": {
      "text/plain": [
       "(576, 4)"
      ]
     },
     "execution_count": 15,
     "metadata": {},
     "output_type": "execute_result"
    }
   ],
   "source": [
    "x_train.shape"
   ]
  },
  {
   "cell_type": "code",
   "execution_count": 16,
   "id": "d7bb8bb8-8b39-415a-8386-ff65afd8b3cd",
   "metadata": {},
   "outputs": [
    {
     "data": {
      "text/plain": [
       "(576,)"
      ]
     },
     "execution_count": 16,
     "metadata": {},
     "output_type": "execute_result"
    }
   ],
   "source": [
    "y_train.shape"
   ]
  },
  {
   "cell_type": "code",
   "execution_count": 17,
   "id": "249001ad-f9ce-4e53-be4f-212c8f1c33e6",
   "metadata": {},
   "outputs": [
    {
     "data": {
      "text/plain": [
       "(192, 4)"
      ]
     },
     "execution_count": 17,
     "metadata": {},
     "output_type": "execute_result"
    }
   ],
   "source": [
    "x_test.shape"
   ]
  },
  {
   "cell_type": "markdown",
   "id": "ed7f4828-d0c9-4edb-9f3e-9c560530f3ed",
   "metadata": {},
   "source": [
    "### Using logistic regression for learning.   "
   ]
  },
  {
   "cell_type": "code",
   "execution_count": 18,
   "id": "a94ca7fb-6b68-41cc-b79f-e06b57fb257f",
   "metadata": {},
   "outputs": [],
   "source": [
    "from sklearn.linear_model import LogisticRegression\n",
    "from sklearn import preprocessing\n",
    "from sklearn.metrics import accuracy_score"
   ]
  },
  {
   "cell_type": "code",
   "execution_count": 21,
   "id": "0a975b22-faa3-409f-9a8f-57d8ba71abae",
   "metadata": {},
   "outputs": [
    {
     "data": {
      "text/plain": [
       "LogisticRegression()"
      ]
     },
     "execution_count": 21,
     "metadata": {},
     "output_type": "execute_result"
    }
   ],
   "source": [
    "#fitting\n",
    "lr = LogisticRegression()\n",
    "lr.fit(x_train, y_train)"
   ]
  },
  {
   "cell_type": "code",
   "execution_count": 23,
   "id": "d69113d1-33a9-435c-9eb2-cc0e41f598a6",
   "metadata": {},
   "outputs": [],
   "source": [
    "#class prediction\n",
    "y_pred_class = lr.predict(x_test)"
   ]
  },
  {
   "cell_type": "code",
   "execution_count": 25,
   "id": "443e4f3f-fb6d-4412-961e-843e63e0dfcc",
   "metadata": {},
   "outputs": [
    {
     "data": {
      "text/plain": [
       "array([0, 0, 0, 0, 0, 0, 0, 1, 0, 1, 0, 1, 0, 0, 0, 0, 0, 0, 0, 0, 0, 0,\n",
       "       0, 0, 0, 0, 0, 1, 0, 0, 0, 0, 0, 0, 0, 0, 0, 0, 0, 0, 0, 0, 0, 0,\n",
       "       1, 0, 0, 0, 0, 0, 0, 0, 1, 0, 0, 0, 0, 1, 0, 0, 1, 0, 0, 0, 0, 0,\n",
       "       0, 0, 0, 0, 0, 0, 0, 1, 0, 0, 1, 0, 0, 0, 1, 0, 0, 0, 0, 0, 0, 1,\n",
       "       1, 0, 0, 0, 0, 0, 0, 0, 1, 1, 1, 0, 1, 0, 0, 0, 0, 0, 0, 0, 0, 0,\n",
       "       0, 1, 0, 0, 0, 0, 0, 0, 0, 1, 1, 1, 0, 1, 0, 0, 0, 0, 0, 0, 0, 0,\n",
       "       0, 1, 0, 1, 0, 0, 0, 0, 0, 0, 0, 0, 0, 0, 0, 0, 0, 0, 0, 0, 0, 0,\n",
       "       1, 0, 1, 0, 0, 1, 0, 0, 0, 0, 0, 0, 1, 0, 0, 0, 0, 1, 0, 0, 1, 0,\n",
       "       1, 0, 0, 0, 0, 1, 0, 0, 0, 0, 0, 0, 0, 0, 0, 0])"
      ]
     },
     "execution_count": 25,
     "metadata": {},
     "output_type": "execute_result"
    }
   ],
   "source": [
    "#these are the predictions from the model\n",
    "y_pred_class\n"
   ]
  },
  {
   "cell_type": "markdown",
   "id": "e5e99294-4d93-4526-bd8e-80e2e6d848db",
   "metadata": {},
   "source": [
    "### Calculate the classification accurcy    \n",
    "How many were correctly classified.   "
   ]
  },
  {
   "cell_type": "code",
   "execution_count": 27,
   "id": "fdf3ec02-7170-4739-8813-8906d1f72732",
   "metadata": {},
   "outputs": [
    {
     "name": "stdout",
     "output_type": "stream",
     "text": [
      "0.6770833333333334\n"
     ]
    }
   ],
   "source": [
    "print(accuracy_score(y_test, y_pred_class))"
   ]
  },
  {
   "cell_type": "markdown",
   "id": "3d0a50e7-0de6-4db8-9ba0-a0f14973e8a9",
   "metadata": {},
   "source": [
    "### The NULL ACCURACY     \n",
    "The accuracy achieved by allways predicting the most frequent class.    "
   ]
  },
  {
   "cell_type": "code",
   "execution_count": 28,
   "id": "4e81bc74-9e38-4d33-b75c-1de28a9ab0c7",
   "metadata": {},
   "outputs": [
    {
     "data": {
      "text/plain": [
       "192"
      ]
     },
     "execution_count": 28,
     "metadata": {},
     "output_type": "execute_result"
    }
   ],
   "source": [
    "y_test.count()"
   ]
  },
  {
   "cell_type": "code",
   "execution_count": 29,
   "id": "cb5887e3-17d6-4c5e-a6bb-0c0fb57a8859",
   "metadata": {},
   "outputs": [
    {
     "data": {
      "text/plain": [
       "0    130\n",
       "1     62\n",
       "Name: Outcome, dtype: int64"
      ]
     },
     "execution_count": 29,
     "metadata": {},
     "output_type": "execute_result"
    }
   ],
   "source": [
    "y_test.value_counts()"
   ]
  },
  {
   "cell_type": "code",
   "execution_count": 30,
   "id": "6b770171-f577-4c32-90fa-d102b6ff206d",
   "metadata": {},
   "outputs": [
    {
     "data": {
      "text/plain": [
       "0    500\n",
       "1    268\n",
       "Name: Outcome, dtype: int64"
      ]
     },
     "execution_count": 30,
     "metadata": {},
     "output_type": "execute_result"
    }
   ],
   "source": [
    "y.value_counts()"
   ]
  },
  {
   "cell_type": "code",
   "execution_count": 31,
   "id": "70218b4f-2363-4b62-aa29-ccf71f2772a0",
   "metadata": {},
   "outputs": [],
   "source": [
    "#how many ones are there"
   ]
  },
  {
   "cell_type": "code",
   "execution_count": 32,
   "id": "188a8fd2-50fa-4d1b-9eb1-cdf8ba358ab6",
   "metadata": {},
   "outputs": [
    {
     "data": {
      "text/plain": [
       "0.3229166666666667"
      ]
     },
     "execution_count": 32,
     "metadata": {},
     "output_type": "execute_result"
    }
   ],
   "source": [
    "y_test.mean()"
   ]
  },
  {
   "cell_type": "code",
   "execution_count": 33,
   "id": "20164ecd-7bef-4832-97cf-28cb5f362b4c",
   "metadata": {},
   "outputs": [
    {
     "data": {
      "text/plain": [
       "0.6770833333333333"
      ]
     },
     "execution_count": 33,
     "metadata": {},
     "output_type": "execute_result"
    }
   ],
   "source": [
    "1-y_test.mean()"
   ]
  },
  {
   "cell_type": "code",
   "execution_count": 34,
   "id": "d394ad6c-202d-43bd-ac3d-053227300e8f",
   "metadata": {},
   "outputs": [
    {
     "data": {
      "text/plain": [
       "0.6770833333333333"
      ]
     },
     "execution_count": 34,
     "metadata": {},
     "output_type": "execute_result"
    }
   ],
   "source": [
    "## null accuracy - for binary class\n",
    "max(y_test.mean(),1-y_test.mean())"
   ]
  },
  {
   "cell_type": "code",
   "execution_count": 35,
   "id": "59280b24-960e-4dd8-aa21-0f0fcb7ff5fc",
   "metadata": {},
   "outputs": [
    {
     "data": {
      "text/plain": [
       "0    0.677083\n",
       "Name: Outcome, dtype: float64"
      ]
     },
     "execution_count": 35,
     "metadata": {},
     "output_type": "execute_result"
    }
   ],
   "source": [
    "## null accuracy - for multi class\n",
    "y_test.value_counts().head(1)/len(y_test)"
   ]
  },
  {
   "cell_type": "markdown",
   "id": "5d127e1e-9585-44d5-87c2-ba22b3e7e726",
   "metadata": {},
   "source": [
    "### Comfusion Matrix    \n",
    "ACTUAL, PREDICTED !!!!!"
   ]
  },
  {
   "cell_type": "code",
   "execution_count": 37,
   "id": "a390dee6-d077-4267-b127-12f68c151893",
   "metadata": {},
   "outputs": [
    {
     "name": "stdout",
     "output_type": "stream",
     "text": [
      "[[114  16]\n",
      " [ 46  16]]\n"
     ]
    }
   ],
   "source": [
    "from sklearn import metrics\n",
    "print(metrics.confusion_matrix(y_test,y_pred_class))"
   ]
  },
  {
   "cell_type": "code",
   "execution_count": 38,
   "id": "8ac0d3d7-8fed-4bbe-a403-4dbf1bd2a520",
   "metadata": {},
   "outputs": [],
   "source": [
    " confusion_matrix = metrics.confusion_matrix(y_test, y_pred_class)"
   ]
  },
  {
   "cell_type": "code",
   "execution_count": 39,
   "id": "b8840738-ec4d-42e1-ac2e-5e2bad10bf1a",
   "metadata": {},
   "outputs": [],
   "source": [
    "tp = confusion_matrix[1,1]\n",
    "tn = confusion_matrix[0,0]\n",
    "fn = confusion_matrix[1,0]\n",
    "fp = confusion_matrix[0,1]"
   ]
  },
  {
   "cell_type": "markdown",
   "id": "f425eb93-979c-4a2f-b817-52da4fb2b41d",
   "metadata": {},
   "source": [
    "### Accuracy"
   ]
  },
  {
   "cell_type": "code",
   "execution_count": 40,
   "id": "fb612dfe-f41b-4b40-adcb-2f73debf7010",
   "metadata": {},
   "outputs": [
    {
     "name": "stdout",
     "output_type": "stream",
     "text": [
      "0.6770833333333334\n"
     ]
    }
   ],
   "source": [
    "accuracy = (tp+tn)*1.0/(tp+tn+fp+fn)\n",
    "print(accuracy)"
   ]
  },
  {
   "cell_type": "code",
   "execution_count": 41,
   "id": "b8f3c880-1132-411b-99e0-d70523495b0d",
   "metadata": {},
   "outputs": [
    {
     "name": "stdout",
     "output_type": "stream",
     "text": [
      "0.6770833333333334\n"
     ]
    }
   ],
   "source": [
    "print(metrics.accuracy_score(y_test,y_pred_class))"
   ]
  },
  {
   "cell_type": "markdown",
   "id": "834bd785-200f-441f-94e9-250c8191c7ab",
   "metadata": {},
   "source": [
    "### Classification error"
   ]
  },
  {
   "cell_type": "code",
   "execution_count": 43,
   "id": "4f90e899-9ad0-42d0-8821-875ac40d3a28",
   "metadata": {},
   "outputs": [
    {
     "name": "stdout",
     "output_type": "stream",
     "text": [
      "0.32291666666666663\n"
     ]
    }
   ],
   "source": [
    "classification_error = 1 - accuracy\n",
    "print(1-metrics.accuracy_score(y_test,y_pred_class))"
   ]
  },
  {
   "cell_type": "markdown",
   "id": "1dfc0f87-bd69-446b-b71c-b6aecb049934",
   "metadata": {},
   "source": [
    "### Sensitivity - RECALL     \n",
    "When the value is positive how many times is it predicted correctly."
   ]
  },
  {
   "cell_type": "code",
   "execution_count": 45,
   "id": "1a42a8b2-af38-4918-a148-441b85b9150d",
   "metadata": {},
   "outputs": [
    {
     "name": "stdout",
     "output_type": "stream",
     "text": [
      "0.25806451612903225\n"
     ]
    }
   ],
   "source": [
    "sensitivity = tp*1.0/(tp+fn)\n",
    "print(metrics.recall_score(y_test,y_pred_class))"
   ]
  },
  {
   "cell_type": "markdown",
   "id": "8e679e22-ae44-4246-ae20-3d90cd52c0a5",
   "metadata": {},
   "source": [
    "### Speciicity     \n",
    "When the value is negative how often is predicted corectly."
   ]
  },
  {
   "cell_type": "code",
   "execution_count": 47,
   "id": "c393b3be-85c7-440d-9f08-a3be4dd0205c",
   "metadata": {},
   "outputs": [
    {
     "name": "stdout",
     "output_type": "stream",
     "text": [
      "0.8769230769230769\n"
     ]
    }
   ],
   "source": [
    "speciicity = tn*1.0/(tn+fp)\n",
    "print(speciicity)"
   ]
  },
  {
   "cell_type": "markdown",
   "id": "f94be27e-b6ac-4fd2-a043-83782377d488",
   "metadata": {},
   "source": [
    "### Precision     \n",
    "When te value is predicted how oten is it predicted correctly."
   ]
  },
  {
   "cell_type": "code",
   "execution_count": 49,
   "id": "8c405426-1643-4391-9961-94267e93bb59",
   "metadata": {},
   "outputs": [
    {
     "data": {
      "text/plain": [
       "0.5"
      ]
     },
     "execution_count": 49,
     "metadata": {},
     "output_type": "execute_result"
    }
   ],
   "source": [
    "precision = tp *1.0/(tp+fp)\n",
    "precision"
   ]
  },
  {
   "cell_type": "code",
   "execution_count": 50,
   "id": "f519e827-995b-449b-8c8b-c8c5338a53cb",
   "metadata": {},
   "outputs": [
    {
     "name": "stdout",
     "output_type": "stream",
     "text": [
      "0.5\n"
     ]
    }
   ],
   "source": [
    "print(metrics.precision_score(y_test,y_pred_class))"
   ]
  },
  {
   "cell_type": "code",
   "execution_count": 51,
   "id": "d4fa0221-480e-4f0e-ba95-eac7fe47c4b5",
   "metadata": {},
   "outputs": [
    {
     "data": {
      "text/plain": [
       "array([0, 0, 0, 0, 0, 0, 0, 1, 0, 1])"
      ]
     },
     "execution_count": 51,
     "metadata": {},
     "output_type": "execute_result"
    }
   ],
   "source": [
    "lr.predict(x_test)[0:10]"
   ]
  },
  {
   "cell_type": "code",
   "execution_count": 52,
   "id": "435660d0-ff75-4f16-9159-20763bea35fe",
   "metadata": {},
   "outputs": [
    {
     "data": {
      "text/plain": [
       "array([[0.61405867, 0.38594133],\n",
       "       [0.7505398 , 0.2494602 ],\n",
       "       [0.74167648, 0.25832352],\n",
       "       [0.60291327, 0.39708673],\n",
       "       [0.88426611, 0.11573389],\n",
       "       [0.87695895, 0.12304105],\n",
       "       [0.50819992, 0.49180008],\n",
       "       [0.44582289, 0.55417711],\n",
       "       [0.77950769, 0.22049231],\n",
       "       [0.25853303, 0.74146697]])"
      ]
     },
     "execution_count": 52,
     "metadata": {},
     "output_type": "execute_result"
    }
   ],
   "source": [
    "lr.predict_proba(x_test)[0:10]"
   ]
  },
  {
   "cell_type": "code",
   "execution_count": 53,
   "id": "c3ab1cb8-cdc4-4271-9d85-06c963be7fee",
   "metadata": {},
   "outputs": [
    {
     "data": {
      "text/plain": [
       "array([0.38594133, 0.2494602 , 0.25832352, 0.39708673, 0.11573389,\n",
       "       0.12304105, 0.49180008, 0.55417711, 0.22049231, 0.74146697])"
      ]
     },
     "execution_count": 53,
     "metadata": {},
     "output_type": "execute_result"
    }
   ],
   "source": [
    "lr.predict_proba(x_test)[0:10, 1]"
   ]
  },
  {
   "cell_type": "code",
   "execution_count": 54,
   "id": "2e605848-eabe-4da7-9876-4651303524c8",
   "metadata": {},
   "outputs": [],
   "source": [
    "y_pred_prob = lr.predict_proba(x_test)[0:10, 1]"
   ]
  },
  {
   "cell_type": "code",
   "execution_count": 56,
   "id": "459a30df-6009-4fd9-909a-ed857f65f5a5",
   "metadata": {},
   "outputs": [],
   "source": [
    "import matplotlib.pyplot as plt\n",
    "# plt.rcParams['font.size'=14]"
   ]
  },
  {
   "cell_type": "code",
   "execution_count": 61,
   "id": "e439e976-79c8-4688-8ce7-34cda59c1aa3",
   "metadata": {},
   "outputs": [
    {
     "data": {
      "text/plain": [
       "(0.0, 1.0)"
      ]
     },
     "execution_count": 61,
     "metadata": {},
     "output_type": "execute_result"
    },
    {
     "data": {
      "image/png": "[encoded data removed]",
      "text/plain": [
       "<Figure size 432x288 with 1 Axes>"
      ]
     },
     "metadata": {
      "needs_background": "light"
     },
     "output_type": "display_data"
    }
   ],
   "source": [
    "plt.hist(y_pred_prob, bins =8)\n",
    "plt.xlim(0,1)"
   ]
  },
  {
   "cell_type": "markdown",
   "id": "22782985-de0d-4b73-a7e2-a69d2714ccd6",
   "metadata": {},
   "source": [
    "### Decrese the treshhold - increase sensitivity "
   ]
  },
  {
   "cell_type": "code",
   "execution_count": 62,
   "id": "c4253bf9-9446-4462-a91b-dc578673734f",
   "metadata": {},
   "outputs": [],
   "source": [
    "from sklearn.preprocessing import binarize\n"
   ]
  },
  {
   "cell_type": "markdown",
   "id": "466736b7-4a6d-43df-95b7-bd79404a7332",
   "metadata": {},
   "source": [
    "### AUC"
   ]
  },
  {
   "cell_type": "code",
   "execution_count": 64,
   "id": "bcbf346c-d84b-44bb-9a92-00ab0bb900b2",
   "metadata": {},
   "outputs": [
    {
     "data": {
      "text/plain": [
       "0.5674937965260546"
      ]
     },
     "execution_count": 64,
     "metadata": {},
     "output_type": "execute_result"
    }
   ],
   "source": [
    "# from sklearn.cross_validation \n",
    "metrics.roc_auc_score(y_test, y_pred_class)"
   ]
  },
  {
   "cell_type": "code",
   "execution_count": 67,
   "id": "37bef463-1c6b-4743-a6cd-10a578857ff1",
   "metadata": {},
   "outputs": [
    {
     "data": {
      "image/png": "[encoded data removed]",
      "text/plain": [
       "<Figure size 432x288 with 1 Axes>"
      ]
     },
     "metadata": {
      "needs_background": "light"
     },
     "output_type": "display_data"
    }
   ],
   "source": [
    "y_pred_prob = lr.predict_proba(x_test)[:, 1]\n",
    "fpr, tpr, thresholds = metrics.roc_curve(y_test, y_pred_prob)\n",
    "plt.plot(fpr, tpr)\n",
    "plt.xlim([0.0, 1.0])\n",
    "plt.ylim([0.0, 1.0])\n",
    "plt.title('ROC curve for diabetes classifier')\n",
    "plt.xlabel('False Positive Rate (1 - Specificity)')\n",
    "plt.ylabel('True Positive Rate (Sensitivity)')\n",
    "plt.grid(True)"
   ]
  },
  {
   "cell_type": "code",
   "execution_count": 68,
   "id": "07c42949-af87-4c8f-9140-0e28e4a06185",
   "metadata": {},
   "outputs": [
    {
     "name": "stdout",
     "output_type": "stream",
     "text": [
      "0.7227047146401985\n"
     ]
    }
   ],
   "source": [
    "print(metrics.roc_auc_score(y_test, y_pred_prob))\n"
   ]
  },
  {
   "cell_type": "code",
   "execution_count": 71,
   "id": "425331e3-87a1-4df5-8ac1-2d21384878d8",
   "metadata": {},
   "outputs": [
    {
     "data": {
      "text/plain": [
       "0.7425071225071225"
      ]
     },
     "execution_count": 71,
     "metadata": {},
     "output_type": "execute_result"
    }
   ],
   "source": [
    "\n",
    "# calculate cross-validated AUC\n",
    "from sklearn.model_selection import cross_val_score\n",
    "cross_val_score(lr, x, y, cv=10, scoring='roc_auc').mean()"
   ]
  },
  {
   "cell_type": "code",
   "execution_count": null,
   "id": "ff220fb7-8c86-4a71-b831-4b73cf6e0128",
   "metadata": {},
   "outputs": [],
   "source": []
  }
 ],
 "metadata": {
  "kernelspec": {
   "display_name": "Python 3",
   "language": "python",
   "name": "python3"
  },
  "language_info": {
   "codemirror_mode": {
    "name": "ipython",
    "version": 3
   },
   "file_extension": ".py",
   "mimetype": "text/x-python",
   "name": "python",
   "nbconvert_exporter": "python",
   "pygments_lexer": "ipython3",
   "version": "3.8.2"
  }
 },
 "nbformat": 4,
 "nbformat_minor": 5
}
