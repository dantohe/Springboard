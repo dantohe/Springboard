{
 "cells": [
  {
   "cell_type": "markdown",
   "id": "68e53068-58b3-4281-aa8e-88868a1505ab",
   "metadata": {},
   "source": [
    "# Naive Bayes Classifier for Sentiment Analysis.  \n",
    "Refrence:   \n",
    "https://towardsdatascience.com/sentiment-analysis-of-tweets-using-multinomial-naive-bayes-1009ed24276b"
   ]
  },
  {
   "cell_type": "code",
   "execution_count": 1,
   "id": "bd95792e-e932-4e75-893e-b578beb9cea0",
   "metadata": {},
   "outputs": [],
   "source": [
    "import pandas as pd\n",
    "import numpy as np\n",
    "# Read the data from CSV files\n",
    "n = ['id', 'date','name','text','typr','rep','rtw','faw','stcount','foll','frien','listcount']\n",
    "\n",
    "data_positive = pd.read_csv('/Users/dantohe/Development/Projects/Springboard/datasets/tweets_rus/positive.csv', sep=';',error_bad_lines=False, names=n, usecols=['text'])\n",
    "data_negative = pd.read_csv('/Users/dantohe/Development/Projects/Springboard/datasets/tweets_rus/negative.csv', sep=';',error_bad_lines=False, names=n, usecols=['text'])\n",
    "\n",
    "# Create balanced dataset\n",
    "sample_size = min(data_positive.shape[0], data_negative.shape[0])\n",
    "raw_data = np.concatenate((data_positive['text'].values[:sample_size], \n",
    "                           data_negative['text'].values[:sample_size]), axis=0) \n",
    "labels = [1]*sample_size + [0]*sample_size"
   ]
  },
  {
   "cell_type": "markdown",
   "id": "a7886008-0bff-48f4-8a56-00b7abe6b1a1",
   "metadata": {},
   "source": [
    "### Text Preprocessing   "
   ]
  },
  {
   "cell_type": "code",
   "execution_count": 3,
   "id": "42b6f88e-f401-4aaf-b5d8-7e7bad2cc1a8",
   "metadata": {},
   "outputs": [],
   "source": [
    "import re\n",
    "def preprocess_text(text):\n",
    "    text = re.sub('((www\\.[^\\s]+)|(https?://[^\\s]+))','URL', text)\n",
    "    text = re.sub('@[^\\s]+','USER', text)\n",
    "    text = text.lower().replace(\"ё\", \"е\")\n",
    "    text = re.sub('[^a-zA-Zа-яА-Я1-9]+', ' ', text)\n",
    "    text = re.sub(' +',' ', text)\n",
    "    return text.strip()\n",
    "data = [preprocess_text(t) for t in raw_data]"
   ]
  },
  {
   "cell_type": "code",
   "execution_count": 4,
   "id": "7cb63eb7-b2a6-4c2e-a6b6-64e8f80fb3d4",
   "metadata": {},
   "outputs": [],
   "source": [
    "from sklearn.pipeline import Pipeline\n",
    "from sklearn.naive_bayes import MultinomialNB\n",
    "from sklearn.feature_extraction.text import CountVectorizer, TfidfTransformer\n",
    "from sklearn.model_selection import train_test_split, GridSearchCV\n",
    "text_clf = Pipeline([('vect', CountVectorizer()),\n",
    "                     ('tfidf', TfidfTransformer()),\n",
    "                     ('clf', MultinomialNB())])\n",
    "tuned_parameters = {\n",
    "    'vect__ngram_range': [(1, 1), (1, 2), (2, 2)],\n",
    "    'tfidf__use_idf': (True, False),\n",
    "    'tfidf__norm': ('l1', 'l2'),\n",
    "    'clf__alpha': [1, 1e-1, 1e-2]\n",
    "}"
   ]
  },
  {
   "cell_type": "code",
   "execution_count": 5,
   "id": "693025e9-1683-4200-9328-1ba81c668c5b",
   "metadata": {},
   "outputs": [],
   "source": [
    "x_train, x_test, y_train, y_test = train_test_split(data, labels, test_size=0.33, random_state=42)"
   ]
  },
  {
   "cell_type": "code",
   "execution_count": null,
   "id": "3dffa248-504f-43cf-b36a-aa1833e9c4f6",
   "metadata": {},
   "outputs": [
    {
     "name": "stdout",
     "output_type": "stream",
     "text": [
      "# Tuning hyper-parameters for f1_macro\n",
      "\n"
     ]
    }
   ],
   "source": [
    "from sklearn.metrics import classification_report\n",
    "\n",
    "score = 'f1_macro'\n",
    "print(\"# Tuning hyper-parameters for %s\" % score)\n",
    "print()\n",
    "np.errstate(divide='ignore')\n",
    "clf = GridSearchCV(text_clf, tuned_parameters, cv=10, scoring=score)\n",
    "clf.fit(x_train, y_train)\n",
    "\n",
    "print(\"Best parameters set found on development set:\")\n",
    "print()\n",
    "print(clf.best_params_)\n",
    "print()\n",
    "print(\"Grid scores on development set:\")\n",
    "print()\n",
    "for mean, std, params in zip(clf.cv_results_['mean_test_score'], \n",
    "                             clf.cv_results_['std_test_score'], \n",
    "                             clf.cv_results_['params']):\n",
    "    print(\"%0.3f (+/-%0.03f) for %r\" % (mean, std * 2, params))\n",
    "print()\n",
    "\n",
    "print(\"Detailed classification report:\")\n",
    "print()\n",
    "print(\"The model is trained on the full development set.\")\n",
    "print(\"The scores are computed on the full evaluation set.\")\n",
    "print()\n",
    "print(classification_report(y_test, clf.predict(x_test), digits=4))\n",
    "print()\n"
   ]
  },
  {
   "cell_type": "code",
   "execution_count": null,
   "id": "31fdb032-bec6-4a20-bd24-60aa187e667c",
   "metadata": {},
   "outputs": [],
   "source": []
  }
 ],
 "metadata": {
  "kernelspec": {
   "display_name": "Python 3",
   "language": "python",
   "name": "python3"
  },
  "language_info": {
   "codemirror_mode": {
    "name": "ipython",
    "version": 3
   },
   "file_extension": ".py",
   "mimetype": "text/x-python",
   "name": "python",
   "nbconvert_exporter": "python",
   "pygments_lexer": "ipython3",
   "version": "3.8.2"
  }
 },
 "nbformat": 4,
 "nbformat_minor": 5
}
