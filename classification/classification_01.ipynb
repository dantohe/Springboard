{
 "cells": [
  {
   "cell_type": "code",
   "execution_count": 1,
   "id": "f1ca2a9d-a455-44eb-b8fe-20ee861ee38b",
   "metadata": {},
   "outputs": [],
   "source": [
    "# Python code to illustrate\n",
    "# classification using data set\n",
    "#Importing the required library\n",
    "import pandas as pd\n",
    "from sklearn.model_selection import train_test_split\n",
    "from sklearn.ensemble import RandomForestClassifier\n",
    "from sklearn.preprocessing import LabelEncoder\n",
    "from sklearn.metrics import confusion_matrix\n",
    "from sklearn.metrics import accuracy_score\n",
    "from sklearn.metrics import classification_report"
   ]
  },
  {
   "cell_type": "code",
   "execution_count": 2,
   "id": "fea53ef2-9053-4efd-9f36-857506494393",
   "metadata": {},
   "outputs": [],
   "source": [
    "#Importing the dataset\n",
    "dataset = pd.read_csv(\n",
    "          'https://archive.ics.uci.edu/ml/machine-learning-'+\n",
    "          'databases/iris/iris.data',sep= ',', header= None)\n",
    "data = dataset.iloc[:, :]\n"
   ]
  },
  {
   "cell_type": "code",
   "execution_count": 3,
   "id": "48675b7d-d2c2-4dbd-aea9-61d8623ff449",
   "metadata": {},
   "outputs": [
    {
     "name": "stdout",
     "output_type": "stream",
     "text": [
      "Sum of NULL values in each column. \n",
      "0    0\n",
      "1    0\n",
      "2    0\n",
      "3    0\n",
      "4    0\n",
      "dtype: int64\n"
     ]
    }
   ],
   "source": [
    "#checking for null values\n",
    "print(\"Sum of NULL values in each column. \")\n",
    "print(data.isnull().sum())"
   ]
  },
  {
   "cell_type": "code",
   "execution_count": 4,
   "id": "3dd7b5bb-ccae-4453-8ccc-cc2110b8f6d2",
   "metadata": {},
   "outputs": [],
   "source": [
    "#separating the predicting column from the whole dataset\n",
    "X = data.iloc[:, :-1].values\n",
    "y = dataset.iloc[:, 4].values"
   ]
  },
  {
   "cell_type": "code",
   "execution_count": 5,
   "id": "51e001c3-31b1-40f4-b864-1d1b037fec8a",
   "metadata": {},
   "outputs": [],
   "source": [
    "#Encoding the predicting variable\n",
    "labelencoder_y = LabelEncoder()\n",
    "y = labelencoder_y.fit_transform(y)\n",
    " \n",
    "#Splitting the data into test and train dataset\n",
    "X_train, X_test, y_train, y_test = train_test_split(\n",
    "              X, y, test_size = 0.3, random_state = 0)"
   ]
  },
  {
   "cell_type": "code",
   "execution_count": 6,
   "id": "db242203-f6bb-46b5-a71e-94dc461526dd",
   "metadata": {},
   "outputs": [],
   "source": [
    "#Using the random forest classifier for the prediction\n",
    "classifier=RandomForestClassifier()\n",
    "classifier=classifier.fit(X_train,y_train)\n",
    "predicted=classifier.predict(X_test)"
   ]
  },
  {
   "cell_type": "code",
   "execution_count": 7,
   "id": "a615b351-c2db-41d2-b5b1-11fc8ba55447",
   "metadata": {},
   "outputs": [
    {
     "name": "stdout",
     "output_type": "stream",
     "text": [
      "Confusion Matrix :\n",
      "[[16  0  0]\n",
      " [ 0 17  1]\n",
      " [ 0  0 11]]\n",
      "Accuracy Score : 0.9777777777777777\n",
      "Report : \n",
      "              precision    recall  f1-score   support\n",
      "\n",
      "           0       1.00      1.00      1.00        16\n",
      "           1       1.00      0.94      0.97        18\n",
      "           2       0.92      1.00      0.96        11\n",
      "\n",
      "    accuracy                           0.98        45\n",
      "   macro avg       0.97      0.98      0.98        45\n",
      "weighted avg       0.98      0.98      0.98        45\n",
      "\n"
     ]
    }
   ],
   "source": [
    "#printing the results\n",
    "print ('Confusion Matrix :')\n",
    "print(confusion_matrix(y_test, predicted))\n",
    "print ('Accuracy Score :',accuracy_score(y_test, predicted))\n",
    "print ('Report : ')\n",
    "print (classification_report(y_test, predicted))"
   ]
  },
  {
   "cell_type": "code",
   "execution_count": null,
   "id": "ebe59abf-9b08-4c8e-b56e-ae202db1f7b1",
   "metadata": {},
   "outputs": [],
   "source": []
  }
 ],
 "metadata": {
  "kernelspec": {
   "display_name": "Python 3",
   "language": "python",
   "name": "python3"
  },
  "language_info": {
   "codemirror_mode": {
    "name": "ipython",
    "version": 3
   },
   "file_extension": ".py",
   "mimetype": "text/x-python",
   "name": "python",
   "nbconvert_exporter": "python",
   "pygments_lexer": "ipython3",
   "version": "3.8.2"
  }
 },
 "nbformat": 4,
 "nbformat_minor": 5
}
