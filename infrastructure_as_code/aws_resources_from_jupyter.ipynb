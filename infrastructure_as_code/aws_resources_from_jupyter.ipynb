{
 "cells": [
  {
   "cell_type": "markdown",
   "id": "41e9cf31-ebe0-4baa-9c68-7bf2d12c640d",
   "metadata": {},
   "source": [
    "# AWS Resources deployment using a Jupyter Notebook"
   ]
  },
  {
   "cell_type": "code",
   "execution_count": 1,
   "id": "7c9de4e6-6906-4199-b3df-fcbbb0b38735",
   "metadata": {},
   "outputs": [],
   "source": [
    "# !python3 -m pip install boto3\n",
    "# !python3 -m pip install requests\n",
    "# !python3 -m pip install tqdm\n",
    "# !python3 -m pip install pandas\n",
    "# !python3 -m pip install s3fs\n",
    "# !python3 -m pip install -q -U paramiko\n",
    "# !python3 -m pip install -q -U scp"
   ]
  },
  {
   "cell_type": "code",
   "execution_count": 2,
   "id": "a917524a-01c5-425e-9f9f-16ee942515bc",
   "metadata": {},
   "outputs": [],
   "source": [
    "import IPython\n",
    "import boto3\n",
    "import time\n",
    "import os\n",
    "import json\n",
    "import requests\n",
    "import pandas as pd\n",
    "import paramiko\n",
    "import scp\n",
    "from zipfile import ZipFile\n",
    "from urllib.request import urlopen\n",
    "from tqdm.notebook import tqdm"
   ]
  },
  {
   "cell_type": "markdown",
   "id": "c8d6db2e-ac80-4501-b1ac-5b64995221d9",
   "metadata": {},
   "source": [
    "#### Some basic settings"
   ]
  },
  {
   "cell_type": "code",
   "execution_count": 3,
   "id": "d71841ba-3cbf-4afb-ad3a-4e3a4b1c688f",
   "metadata": {},
   "outputs": [],
   "source": [
    "my_bucket_name = 'dantohe-my-experimental-iac-01'\n",
    "my_region = 'us-west-2'\n",
    "stem = 'my-experimental'\n",
    "my_InstanceProfileName = f'{stem}-InstanceProfileName-iac-01'\n",
    "ec2_pem_name      = f'{stem}-kp-june-2021-01'\n",
    "my_role_name = f'{stem}-ec2-role-01'\n",
    "my_security_group_name = f'{stem}-Airflow-security-group-01'\n",
    "\n",
    "ec2 = boto3.client('ec2')\n",
    "iam = boto3.client('iam')"
   ]
  },
  {
   "cell_type": "markdown",
   "id": "2139318e-ce88-479a-bfcf-a585adeacbb8",
   "metadata": {},
   "source": [
    "#### Create an EC2 key-pair    \n",
    "If the key already exists then don't do anything.    "
   ]
  },
  {
   "cell_type": "code",
   "execution_count": 4,
   "id": "2ebdbe0e-7d3e-457d-968f-4459fa4728fb",
   "metadata": {},
   "outputs": [
    {
     "name": "stdout",
     "output_type": "stream",
     "text": [
      "key already exists\n"
     ]
    }
   ],
   "source": [
    "\n",
    "key_exists = False\n",
    "\n",
    "response = ec2.describe_key_pairs()['KeyPairs']\n",
    "for key in response:\n",
    "    if key['KeyName'] == ec2_pem_name:\n",
    "        key_exists = True\n",
    "    found_instance = ec2.describe_instances(\n",
    "        Filters=[\n",
    "            {\n",
    "                'Name': 'key-name',\n",
    "                'Values': [key['KeyName']]\n",
    "            }\n",
    "        ]\n",
    "    )['Reservations']\n",
    "#     if len(found_instance) == 0:\n",
    "#         print (key['KeyName'] + \" is unused\")\n",
    "\n",
    "if key_exists:\n",
    "    print('key already exists')\n",
    "else:\n",
    "    ec2_pem_path = f'./{ec2_pem_name}.pem'\n",
    "    if os.path.isfile(ec2_pem_path):\n",
    "        os.remove(ec2_pem_path)\n",
    "    ec2_keypair = ec2.create_key_pair(KeyName=ec2_pem_name)\n",
    "    with open(ec2_pem_path, 'w+') as ec2_pem_file:\n",
    "        ec2_pem_file.write(str(ec2_keypair['KeyMaterial']))\n",
    "    !chmod 400 {ec2_pem_path}\n",
    "    print(f'{ec2_pem_name} has been created sucessfully and the pem is available at\\n{ec2_pem_path}')\n",
    "    "
   ]
  },
  {
   "cell_type": "markdown",
   "id": "67d4a5eb-fa33-41c6-af0c-df1368cec7e2",
   "metadata": {},
   "source": [
    "#### EC2 Resources    \n",
    "IAM - refrences: https://boto3.amazonaws.com/v1/documentation/api/latest/reference/services/iam.html#role   \n"
   ]
  },
  {
   "cell_type": "code",
   "execution_count": 5,
   "id": "e9e3bfc4-a5e8-47e3-9f0b-28104994971e",
   "metadata": {},
   "outputs": [
    {
     "name": "stdout",
     "output_type": "stream",
     "text": [
      "my-experimental-ec2-role-01 has been createed - the S3 policies has been attached\n"
     ]
    }
   ],
   "source": [
    "roles = iam.list_roles()\n",
    "role_list = roles['Roles']\n",
    "ec2_role= None\n",
    "\n",
    "for key in role_list:\n",
    "    if key['RoleName'] == my_role_name:\n",
    "        ec2_role = key\n",
    "\n",
    "if ec2_role is not None:\n",
    "    print(f'Role {my_role_name} already exists')\n",
    "else:\n",
    "    ec2_role = iam.create_role(\n",
    "        Path='/',\n",
    "        RoleName=my_role_name,\n",
    "        Description='',\n",
    "        MaxSessionDuration=3600,\n",
    "        AssumeRolePolicyDocument=\"\"\"{\n",
    "      \"Version\": \"2012-10-17\",\n",
    "      \"Statement\": [\n",
    "        {\n",
    "          \"Effect\": \"Allow\",\n",
    "          \"Principal\": { \"Service\": \"ec2.amazonaws.com\"},\n",
    "          \"Action\": \"sts:AssumeRole\"\n",
    "        }\n",
    "      ]\n",
    "    }\"\"\".replace('<dw_bucket>', my_bucket_name))['Role']\n",
    "    ### Also atach the S3 policy to the role\n",
    "    for ec2_policy in  [\n",
    "        'arn:aws:iam::aws:policy/AmazonS3FullAccess']:\n",
    "        assert iam.attach_role_policy(\n",
    "            RoleName=ec2_role['RoleName'],\n",
    "            PolicyArn=ec2_policy)['ResponseMetadata']['HTTPStatusCode'] == 200\n",
    "    \n",
    "    print(f'{my_role_name} has been createed - the S3 policies has been attached')\n",
    "#     ec2_role['Arn']"
   ]
  },
  {
   "cell_type": "markdown",
   "id": "46cffba3-baa3-41ec-b649-a469cb64cfa5",
   "metadata": {},
   "source": [
    "#### Attaches S3 acces policy to the role"
   ]
  },
  {
   "cell_type": "code",
   "execution_count": 6,
   "id": "068c5382-60b7-49a5-b806-174bd5b63bfe",
   "metadata": {},
   "outputs": [],
   "source": [
    "# for ec2_policy in  [\n",
    "#         'arn:aws:iam::aws:policy/AmazonS3FullAccess']:\n",
    "#     assert iam.attach_role_policy(\n",
    "#         RoleName=ec2_role['RoleName'],\n",
    "#         PolicyArn=ec2_policy)['ResponseMetadata']['HTTPStatusCode'] == 200"
   ]
  },
  {
   "cell_type": "markdown",
   "id": "dfe68362-8d20-486f-85f4-8358a744b5ce",
   "metadata": {},
   "source": [
    "#### Creates the instance profile AND adds the role to instance profile"
   ]
  },
  {
   "cell_type": "code",
   "execution_count": 6,
   "id": "24191b2d-60fa-4dc1-b3ab-e08fab506780",
   "metadata": {},
   "outputs": [
    {
     "name": "stdout",
     "output_type": "stream",
     "text": [
      "my-experimental-InstanceProfileName-iac-01 has been created\n"
     ]
    }
   ],
   "source": [
    "instance_profiles = iam.list_instance_profiles()\n",
    "instance_profiles_list = instance_profiles['InstanceProfiles']\n",
    "ec2_instance_profile = None\n",
    "\n",
    "# existing_instance_profile_names =[]\n",
    "\n",
    "for key in instance_profiles_list:\n",
    "    if key['InstanceProfileName'] == my_InstanceProfileName:\n",
    "        ec2_instance_profile =key\n",
    "#     existing_instance_profile_names.append(key['InstanceProfileName'])\n",
    "\n",
    "# if my_InstanceProfileName in existing_instance_profile_names:\n",
    "#     print(f'{my_InstanceProfileName} already exists')\n",
    "if ec2_instance_profile is not None:\n",
    "    print(f'{my_InstanceProfileName} already exists')\n",
    "else:\n",
    "    #creates the instaance profile\n",
    "    ec2_instance_profile = iam.create_instance_profile(InstanceProfileName=my_InstanceProfileName)['InstanceProfile']\n",
    "    iam.get_waiter('instance_profile_exists').wait(InstanceProfileName=my_InstanceProfileName)\n",
    "\n",
    "    #adds the role to the instance profile\n",
    "    assert iam.add_role_to_instance_profile(InstanceProfileName=ec2_instance_profile['InstanceProfileName'], RoleName=ec2_role['RoleName'])['ResponseMetadata']['HTTPStatusCode'] == 200\n",
    "    print(f'{my_InstanceProfileName} has been created')"
   ]
  },
  {
   "cell_type": "markdown",
   "id": "346d0f93-4832-4c54-a704-942ec550f7ad",
   "metadata": {},
   "source": [
    "#### Createting a security group"
   ]
  },
  {
   "cell_type": "code",
   "execution_count": 7,
   "id": "9bed00b6-0eac-4146-8f16-a3e4c0f872bd",
   "metadata": {},
   "outputs": [
    {
     "name": "stdout",
     "output_type": "stream",
     "text": [
      "The security group my-experimental-Airflow-security-group-01 has been created\n"
     ]
    }
   ],
   "source": [
    "security_groups = ec2.describe_security_groups()\n",
    "existing_security_groups = security_groups['SecurityGroups']\n",
    "\n",
    "ec2_sg = None\n",
    "\n",
    "for key in existing_security_groups:\n",
    "    if key['GroupName'] == my_security_group_name:\n",
    "      ec2_sg=key  \n",
    "    \n",
    "if ec2_sg is not None:\n",
    "    print(f'The security group {my_security_group_name} already exists')\n",
    "else:\n",
    "    ec2_sg = ec2.create_security_group(\n",
    "        Description='Allows 22 trafic',\n",
    "        GroupName=my_security_group_name)\n",
    "    ec2.authorize_security_group_ingress(CidrIp='0.0.0.0/0', FromPort=22, ToPort=22, GroupId=ec2_sg['GroupId'], IpProtocol='TCP')\n",
    "    ec2.authorize_security_group_ingress(CidrIp='0.0.0.0/0', FromPort=8080, ToPort=8080, GroupId=ec2_sg['GroupId'], IpProtocol='TCP')\n",
    "    ec2.authorize_security_group_ingress(CidrIp='0.0.0.0/0', FromPort=5555, ToPort=5555, GroupId=ec2_sg['GroupId'], IpProtocol='TCP')\n",
    "    ec2.authorize_security_group_ingress(CidrIp='0.0.0.0/0', FromPort=3306, ToPort=3306, GroupId=ec2_sg['GroupId'], IpProtocol='TCP')\n",
    "    print(f'The security group {my_security_group_name} has been created')"
   ]
  },
  {
   "cell_type": "markdown",
   "id": "8d851109-267d-49cc-84fe-29f5a7c6b957",
   "metadata": {},
   "source": [
    "#### Requesting spot instance(s)"
   ]
  },
  {
   "cell_type": "code",
   "execution_count": 8,
   "id": "1967d703-9b6a-4907-aa10-7c7bdb157764",
   "metadata": {},
   "outputs": [
    {
     "data": {
      "text/plain": [
       "'sir-yv6hjdwg'"
      ]
     },
     "execution_count": 8,
     "metadata": {},
     "output_type": "execute_result"
    }
   ],
   "source": [
    "# time.sleep(30) #wait instance profile...\n",
    "# ec2_ami_id = 'ami-0aeeebd8d2ab47354'\n",
    "#Amazon Linux AMI - it has some issues and complications with installing mysql and airflow\n",
    "# ec2_ami_id = 'ami-0aeeebd8d2ab47354'\n",
    "#defaulting to ubuntu\n",
    "ec2_ami_id = 'ami-09e67e426f25ce0d7'\n",
    "ec2_spot = ec2.request_spot_instances(\n",
    "    AvailabilityZoneGroup='us-east-1',\n",
    "    InstanceCount=1,\n",
    "    LaunchSpecification={\n",
    "        'SecurityGroupIds': [ec2_sg['GroupId']],\n",
    "        'EbsOptimized': False,\n",
    "        'KeyName': ec2_pem_name,\n",
    "        'ImageId': ec2_ami_id,\n",
    "        'InstanceType': 't3.large',\n",
    "        'IamInstanceProfile': {\n",
    "            'Arn': ec2_instance_profile['Arn']\n",
    "        },\n",
    "        \"BlockDeviceMappings\": [\n",
    "            {\n",
    "                \"DeviceName\": \"/dev/sda1\",\n",
    "                \"Ebs\": {\n",
    "                        \"DeleteOnTermination\": True,\n",
    "                        \"VolumeSize\": 30,\n",
    "                        \"Encrypted\": False,\n",
    "                        \"VolumeType\": \"gp2\"\n",
    "                }\n",
    "            }\n",
    "        ],\n",
    "    },\n",
    "    SpotPrice='0.10',\n",
    "    Type='one-time',\n",
    "    InstanceInterruptionBehavior='terminate'\n",
    ")\n",
    "ec2_spot_id = ec2_spot['SpotInstanceRequests'][0]['SpotInstanceRequestId']\n",
    "ec2.get_waiter('spot_instance_request_fulfilled').wait(SpotInstanceRequestIds=[ec2_spot_id])\n",
    "ec2_spot_id"
   ]
  },
  {
   "cell_type": "code",
   "execution_count": null,
   "id": "e489da89-928f-4c04-8f21-3a3792de47dc",
   "metadata": {},
   "outputs": [],
   "source": []
  },
  {
   "cell_type": "code",
   "execution_count": null,
   "id": "f6a42c74-b114-48d8-bacb-ee2f9f4aa204",
   "metadata": {},
   "outputs": [],
   "source": []
  },
  {
   "cell_type": "markdown",
   "id": "a36d7d1c-e86c-49c0-9886-c9e4120c0f29",
   "metadata": {},
   "source": [
    "## Clean Up"
   ]
  },
  {
   "cell_type": "markdown",
   "id": "0dc4475d-f115-4d8b-ab31-1c9f0f3721a2",
   "metadata": {},
   "source": [
    "#### Terminate spot instance(s)"
   ]
  },
  {
   "cell_type": "code",
   "execution_count": 9,
   "id": "cc7b4a1e-4f13-47f6-af4e-1eeab774d41c",
   "metadata": {},
   "outputs": [
    {
     "name": "stdout",
     "output_type": "stream",
     "text": [
      "i-01427e7deb0cbc3f9\n",
      "The ec2 instance sir-yv6hjdwg has been removed\n",
      "\t{'TerminatingInstances': [{'CurrentState': {'Code': 32, 'Name': 'shutting-down'}, 'InstanceId': 'i-01427e7deb0cbc3f9', 'PreviousState': {'Code': 16, 'Name': 'running'}}], 'ResponseMetadata': {'RequestId': 'e8535aea-0300-4ee1-ac94-0c783f7d9323', 'HTTPStatusCode': 200, 'HTTPHeaders': {'x-amzn-requestid': 'e8535aea-0300-4ee1-ac94-0c783f7d9323', 'cache-control': 'no-cache, no-store', 'strict-transport-security': 'max-age=31536000; includeSubDomains', 'content-type': 'text/xml;charset=UTF-8', 'transfer-encoding': 'chunked', 'vary': 'accept-encoding', 'date': 'Fri, 25 Jun 2021 01:01:01 GMT', 'server': 'AmazonEC2'}, 'RetryAttempts': 0}}\n"
     ]
    }
   ],
   "source": [
    "\n",
    "response = ec2.describe_spot_instance_requests(SpotInstanceRequestIds=[ec2_spot_id])\n",
    "instances = []\n",
    "for instance in response['SpotInstanceRequests']:\n",
    "    instances.append(instance['InstanceId'])\n",
    "    print(instance['InstanceId'])\n",
    "\n",
    "try:\n",
    "    response = ec2.terminate_instances(InstanceIds=instances)\n",
    "    if response['ResponseMetadata']['HTTPStatusCode'] == 200:\n",
    "        print(f'The ec2 instance {ec2_spot_id} has been removed\\n\\t{response}')\n",
    "except Exception:\n",
    "    print(f'The ec2 instance {ec2_spot_id} has NOT been removed\\n\\t{response} - probably because it did not exist')\n",
    "    pass  "
   ]
  },
  {
   "cell_type": "markdown",
   "id": "6bcb19d4-b0e1-450b-b20b-40d04ec9395f",
   "metadata": {},
   "source": [
    "#### Removes the security group"
   ]
  },
  {
   "cell_type": "code",
   "execution_count": null,
   "id": "f5c28d02-7ff2-4aef-bfd7-afc1c39d5f0e",
   "metadata": {},
   "outputs": [],
   "source": [
    "# waiting some time as the instance might take a moment to shutdown\n",
    "# time.sleep(60)\n",
    "ec2.delete_security_group(GroupName=my_security_group_name)['ResponseMetadata']['HTTPStatusCode']\n",
    "try:\n",
    "    if ec2.delete_security_group(GroupName=my_security_group_name)['ResponseMetadata']['HTTPStatusCode'] == 200:\n",
    "        print(f'{my_security_group_name} has been deleted')\n",
    "except Exception:\n",
    "    print(f'{my_security_group_name} has NOT BEEN deleted - most likely it did not exist')\n",
    "    pass  "
   ]
  },
  {
   "cell_type": "markdown",
   "id": "e2c84806-2375-4796-bee6-669337012d99",
   "metadata": {},
   "source": [
    "#### Removes role from instance profile"
   ]
  },
  {
   "cell_type": "code",
   "execution_count": 14,
   "id": "feea829a-69d5-4d9f-93bb-b394e3da9dad",
   "metadata": {},
   "outputs": [
    {
     "name": "stdout",
     "output_type": "stream",
     "text": [
      "The role my-experimental-ec2-role-01 has been removed from my-experimental-InstanceProfileName-iac-01 \n",
      "\t{'ResponseMetadata': {'RequestId': '572059ef-f0eb-4756-96d9-4c28bfcdc837', 'HTTPStatusCode': 200, 'HTTPHeaders': {'x-amzn-requestid': '572059ef-f0eb-4756-96d9-4c28bfcdc837', 'content-type': 'text/xml', 'content-length': '238', 'date': 'Fri, 25 Jun 2021 01:05:14 GMT'}, 'RetryAttempts': 0}}\n"
     ]
    }
   ],
   "source": [
    "# removes role from instance profile\n",
    "try:\n",
    "    response = iam.remove_role_from_instance_profile(\n",
    "        InstanceProfileName=my_InstanceProfileName,\n",
    "        RoleName=my_role_name\n",
    "    )\n",
    "    if response['ResponseMetadata']['HTTPStatusCode'] == 200:\n",
    "        print(f'The role {my_role_name} has been removed from {my_InstanceProfileName} \\n\\t{response}')\n",
    "except Exception:\n",
    "    print(f'The role {my_role_name} has been NOT BEEEN removed from {my_InstanceProfileName} - most likely it was not attached in the first place')\n",
    "    pass  \n"
   ]
  },
  {
   "cell_type": "markdown",
   "id": "76e5e5f0-75cb-4fce-8469-dadf821f6ca4",
   "metadata": {},
   "source": [
    "#### Removes the instance profile "
   ]
  },
  {
   "cell_type": "code",
   "execution_count": 15,
   "id": "7e496eed-8149-40eb-9732-3c025a40a7c9",
   "metadata": {},
   "outputs": [
    {
     "name": "stdout",
     "output_type": "stream",
     "text": [
      "The instance profile  my-experimental-InstanceProfileName-iac-01 has been removed \n",
      "\t{'ResponseMetadata': {'RequestId': '64987f20-98fb-4551-b767-115a83002404', 'HTTPStatusCode': 200, 'HTTPHeaders': {'x-amzn-requestid': '64987f20-98fb-4551-b767-115a83002404', 'content-type': 'text/xml', 'content-length': '222', 'date': 'Fri, 25 Jun 2021 01:05:22 GMT'}, 'RetryAttempts': 0}}\n"
     ]
    }
   ],
   "source": [
    "try:\n",
    "    response = iam.delete_instance_profile(InstanceProfileName=my_InstanceProfileName)\n",
    "    if response['ResponseMetadata']['HTTPStatusCode'] == 200:\n",
    "        print(f'The instance profile  {my_InstanceProfileName} has been removed \\n\\t{response}')\n",
    "except Exception:\n",
    "    print(f'The instance profile  {my_InstanceProfileName} has NOT BEEN removed most likely it did not exist in the first place')\n",
    "    pass  "
   ]
  },
  {
   "cell_type": "markdown",
   "id": "4abc30cb-ad28-4421-83d2-924d57d0129c",
   "metadata": {},
   "source": [
    "#### Detach the policies from the role"
   ]
  },
  {
   "cell_type": "code",
   "execution_count": 16,
   "id": "e47ec123-ce1c-42cf-b081-25911a6da324",
   "metadata": {},
   "outputs": [],
   "source": [
    "for ec2_policy in  [\n",
    "        'arn:aws:iam::aws:policy/AmazonS3FullAccess']:\n",
    "    assert iam.detach_role_policy(\n",
    "        RoleName=ec2_role['RoleName'],\n",
    "        PolicyArn=ec2_policy)['ResponseMetadata']['HTTPStatusCode'] == 200\n",
    "# response = client.detach_role_policy(\n",
    "#     RoleName='string',\n",
    "#     PolicyArn='string'\n",
    "# )    "
   ]
  },
  {
   "cell_type": "markdown",
   "id": "8a27163b-68f9-45c0-bf23-40b0ce52ad77",
   "metadata": {},
   "source": [
    "#### Removes the role"
   ]
  },
  {
   "cell_type": "code",
   "execution_count": 17,
   "id": "41804615-0f42-40f0-86f6-51e66cc18840",
   "metadata": {},
   "outputs": [
    {
     "name": "stdout",
     "output_type": "stream",
     "text": [
      "The role  my-experimental-InstanceProfileName-iac-01 has been removed \n",
      "\t{'ResponseMetadata': {'RequestId': '0cbb3ea3-0e7f-4685-b99d-ff92df367578', 'HTTPStatusCode': 200, 'HTTPHeaders': {'x-amzn-requestid': '0cbb3ea3-0e7f-4685-b99d-ff92df367578', 'content-type': 'text/xml', 'content-length': '200', 'date': 'Fri, 25 Jun 2021 01:05:29 GMT'}, 'RetryAttempts': 0}}\n"
     ]
    }
   ],
   "source": [
    "try:\n",
    "    response = iam.delete_role(RoleName=my_role_name)\n",
    "    if response['ResponseMetadata']['HTTPStatusCode'] == 200:\n",
    "        print(f'The role  {my_InstanceProfileName} has been removed \\n\\t{response}')\n",
    "except Exception:\n",
    "    print(f'The resource {my_role_name} has NOT BEEN removed most likely it did not exist in the first place')\n",
    "    pass  \n",
    "\n"
   ]
  },
  {
   "cell_type": "code",
   "execution_count": null,
   "id": "4f3c70a0-2b74-4b4c-9d91-94d806f51afe",
   "metadata": {},
   "outputs": [],
   "source": []
  }
 ],
 "metadata": {
  "kernelspec": {
   "display_name": "Python 3",
   "language": "python",
   "name": "python3"
  },
  "language_info": {
   "codemirror_mode": {
    "name": "ipython",
    "version": 3
   },
   "file_extension": ".py",
   "mimetype": "text/x-python",
   "name": "python",
   "nbconvert_exporter": "python",
   "pygments_lexer": "ipython3",
   "version": "3.8.2"
  }
 },
 "nbformat": 4,
 "nbformat_minor": 5
}
