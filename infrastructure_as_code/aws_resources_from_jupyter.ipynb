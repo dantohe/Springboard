{
 "cells": [
  {
   "cell_type": "markdown",
   "id": "41e9cf31-ebe0-4baa-9c68-7bf2d12c640d",
   "metadata": {},
   "source": [
    "# AWS Resources deployment using a Jupyter Notebook"
   ]
  },
  {
   "cell_type": "code",
   "execution_count": null,
   "id": "7c9de4e6-6906-4199-b3df-fcbbb0b38735",
   "metadata": {},
   "outputs": [],
   "source": [
    "!python3 -m pip install boto3\n",
    "!python3 -m pip install requests\n",
    "!python3 -m pip install tqdm\n",
    "!python3 -m pip install pandas\n",
    "!python3 -m pip install s3fs"
   ]
  },
  {
   "cell_type": "code",
   "execution_count": null,
   "id": "a917524a-01c5-425e-9f9f-16ee942515bc",
   "metadata": {},
   "outputs": [],
   "source": [
    "import IPython\n",
    "import boto3\n",
    "import time\n",
    "import os\n",
    "import json\n",
    "import requests\n",
    "import pandas as pd\n",
    "from zipfile import ZipFile\n",
    "from urllib.request import urlopen\n",
    "from tqdm.notebook import tqdm"
   ]
  },
  {
   "cell_type": "markdown",
   "id": "c8d6db2e-ac80-4501-b1ac-5b64995221d9",
   "metadata": {},
   "source": [
    "#### Some basic settings"
   ]
  },
  {
   "cell_type": "code",
   "execution_count": 74,
   "id": "d71841ba-3cbf-4afb-ad3a-4e3a4b1c688f",
   "metadata": {},
   "outputs": [],
   "source": [
    "my_bucket_name = 'dantohe-my-experimental-iac-01'\n",
    "my_region = 'us-west-2'\n",
    "stem = 'my-experimental'\n",
    "my_InstanceProfileName = f'{stem}-InstanceProfileName-iac-02'\n",
    "ec2_pem_name      = f'{stem}-kp-june-2021-01'\n",
    "my_role_name = f'{stem}-ec2-role-02'"
   ]
  },
  {
   "cell_type": "markdown",
   "id": "2139318e-ce88-479a-bfcf-a585adeacbb8",
   "metadata": {},
   "source": [
    "#### Create an EC2 key-pair    \n",
    "If the key already exists then don't do anything.    "
   ]
  },
  {
   "cell_type": "code",
   "execution_count": 34,
   "id": "2ebdbe0e-7d3e-457d-968f-4459fa4728fb",
   "metadata": {},
   "outputs": [
    {
     "name": "stdout",
     "output_type": "stream",
     "text": [
      "my-experimental-kp-june-2021-04 has been created sucessfully and the pem is available at\n",
      "./my-experimental-kp-june-2021-04.pem\n"
     ]
    }
   ],
   "source": [
    "ec2 = boto3.client('ec2')\n",
    "key_exists = False\n",
    "\n",
    "response = ec2.describe_key_pairs()['KeyPairs']\n",
    "for key in response:\n",
    "    if key['KeyName'] == ec2_pem_name:\n",
    "        key_exists = True\n",
    "    found_instance = ec2.describe_instances(\n",
    "        Filters=[\n",
    "            {\n",
    "                'Name': 'key-name',\n",
    "                'Values': [key['KeyName']]\n",
    "            }\n",
    "        ]\n",
    "    )['Reservations']\n",
    "#     if len(found_instance) == 0:\n",
    "#         print (key['KeyName'] + \" is unused\")\n",
    "\n",
    "if key_exists:\n",
    "    print('key already exists')\n",
    "else:\n",
    "    ec2_pem_path = f'./{ec2_pem_name}.pem'\n",
    "    if os.path.isfile(ec2_pem_path):\n",
    "        os.remove(ec2_pem_path)\n",
    "    ec2_keypair = ec2.create_key_pair(KeyName=ec2_pem_name)\n",
    "    with open(ec2_pem_path, 'w+') as ec2_pem_file:\n",
    "        ec2_pem_file.write(str(ec2_keypair['KeyMaterial']))\n",
    "    !chmod 400 {ec2_pem_path}\n",
    "    print(f'{ec2_pem_name} has been created sucessfully and the pem is available at\\n{ec2_pem_path}')\n",
    "    "
   ]
  },
  {
   "cell_type": "markdown",
   "id": "67d4a5eb-fa33-41c6-af0c-df1368cec7e2",
   "metadata": {},
   "source": [
    "#### EC2 Resources    \n",
    "IAM - refrences: https://boto3.amazonaws.com/v1/documentation/api/latest/reference/services/iam.html#role   \n"
   ]
  },
  {
   "cell_type": "code",
   "execution_count": 35,
   "id": "dea4995a-807f-46dc-8d93-fdc2efeb9593",
   "metadata": {},
   "outputs": [],
   "source": [
    "iam = boto3.client('iam')"
   ]
  },
  {
   "cell_type": "code",
   "execution_count": 70,
   "id": "e9e3bfc4-a5e8-47e3-9f0b-28104994971e",
   "metadata": {},
   "outputs": [
    {
     "name": "stdout",
     "output_type": "stream",
     "text": [
      "Role my-experimental-ec2-role-02 already exists\n"
     ]
    }
   ],
   "source": [
    "roles = iam.list_roles()\n",
    "role_list = roles['Roles']\n",
    "existing_roles =[]\n",
    "for key in role_list:\n",
    "    existing_roles.append(key['RoleName'])\n",
    "    #print(key['RoleName'])\n",
    "    #print(key['Arn'])\n",
    "\n",
    "if my_role_name in existing_roles:\n",
    "    print(f'Role {my_role_name} already exists')\n",
    "else:\n",
    "    ec2_role = iam.create_role(\n",
    "        Path='/',\n",
    "        RoleName=my_role_name,\n",
    "        Description='',\n",
    "        MaxSessionDuration=3600,\n",
    "        AssumeRolePolicyDocument=\"\"\"{\n",
    "      \"Version\": \"2012-10-17\",\n",
    "      \"Statement\": [\n",
    "        {\n",
    "          \"Effect\": \"Allow\",\n",
    "          \"Principal\": { \"Service\": \"ec2.amazonaws.com\"},\n",
    "          \"Action\": \"sts:AssumeRole\"\n",
    "        }\n",
    "      ]\n",
    "    }\"\"\".replace('<dw_bucket>', my_bucket_name))['Role']\n",
    "    print(f'{my_role_name} has been createed')\n",
    "#     ec2_role['Arn']"
   ]
  },
  {
   "cell_type": "markdown",
   "id": "46cffba3-baa3-41ec-b649-a469cb64cfa5",
   "metadata": {},
   "source": [
    "#### Attaches S3 acces policy to the role"
   ]
  },
  {
   "cell_type": "code",
   "execution_count": 60,
   "id": "068c5382-60b7-49a5-b806-174bd5b63bfe",
   "metadata": {},
   "outputs": [],
   "source": [
    "for ec2_policy in  [\n",
    "        'arn:aws:iam::aws:policy/AmazonS3FullAccess']:\n",
    "    assert iam.attach_role_policy(\n",
    "        RoleName=ec2_role['RoleName'],\n",
    "        PolicyArn=ec2_policy)['ResponseMetadata']['HTTPStatusCode'] == 200"
   ]
  },
  {
   "cell_type": "code",
   "execution_count": 75,
   "id": "24191b2d-60fa-4dc1-b3ab-e08fab506780",
   "metadata": {},
   "outputs": [
    {
     "name": "stdout",
     "output_type": "stream",
     "text": [
      "my-experimental-InstanceProfileName-iac-02 has been created\n"
     ]
    }
   ],
   "source": [
    "instance_profiles = iam.list_instance_profiles()\n",
    "instance_profiles_list = instance_profiles['InstanceProfiles']\n",
    "# print(instance_profiles_list)\n",
    "existing_instance_profile_names =[]\n",
    "for key in instance_profiles_list:\n",
    "#     print(key['InstanceProfileName'])\n",
    "    existing_instance_profile_names.append(key['InstanceProfileName'])\n",
    "if my_InstanceProfileName in existing_instance_profile_names:\n",
    "    print(f'{my_InstanceProfileName} already exists')\n",
    "else:\n",
    "    ec2_instance_profile = iam.create_instance_profile(InstanceProfileName=my_InstanceProfileName)['InstanceProfile']\n",
    "    iam.get_waiter('instance_profile_exists').wait(InstanceProfileName=my_InstanceProfileName)\n",
    "    print(f'{my_InstanceProfileName} has been created')\n",
    "#     ec2_instance_profile['Arn']"
   ]
  },
  {
   "cell_type": "markdown",
   "id": "ffe786f3-656c-4339-a907-6347aa69ea4c",
   "metadata": {},
   "source": [
    "#### Adding role to instance profile"
   ]
  },
  {
   "cell_type": "code",
   "execution_count": 90,
   "id": "cdffc386-7d64-4cdf-9e1a-d6f41d5ab6b0",
   "metadata": {},
   "outputs": [],
   "source": [
    "assert iam.add_role_to_instance_profile(\n",
    "    InstanceProfileName=ec2_instance_profile['InstanceProfileName'],\n",
    "    RoleName=ec2_role['RoleName'])['ResponseMetadata']['HTTPStatusCode'] == 200"
   ]
  },
  {
   "cell_type": "code",
   "execution_count": null,
   "id": "9bed00b6-0eac-4146-8f16-a3e4c0f872bd",
   "metadata": {},
   "outputs": [],
   "source": [
    "ec2_sg = ec2.create_security_group(\n",
    "    Description='Allows 22 trafic',\n",
    "    GroupName='Airflow')\n",
    "ec2.authorize_security_group_ingress(CidrIp='0.0.0.0/0', FromPort=22, ToPort=22, GroupId=ec2_sg['GroupId'], IpProtocol='TCP')\n",
    "ec2.authorize_security_group_ingress(CidrIp='0.0.0.0/0', FromPort=8080, ToPort=8080, GroupId=ec2_sg['GroupId'], IpProtocol='TCP')\n",
    "ec2.authorize_security_group_ingress(CidrIp='0.0.0.0/0', FromPort=5555, ToPort=5555, GroupId=ec2_sg['GroupId'], IpProtocol='TCP')\n",
    "ec2.authorize_security_group_ingress(CidrIp='0.0.0.0/0', FromPort=3306, ToPort=3306, GroupId=ec2_sg['GroupId'], IpProtocol='TCP')\n",
    "ec2_sg['GroupId']"
   ]
  },
  {
   "cell_type": "code",
   "execution_count": null,
   "id": "cbdc78a5-152f-4089-84ec-b78884df7e6e",
   "metadata": {},
   "outputs": [],
   "source": []
  },
  {
   "cell_type": "code",
   "execution_count": null,
   "id": "1967d703-9b6a-4907-aa10-7c7bdb157764",
   "metadata": {},
   "outputs": [],
   "source": []
  },
  {
   "cell_type": "code",
   "execution_count": null,
   "id": "e489da89-928f-4c04-8f21-3a3792de47dc",
   "metadata": {},
   "outputs": [],
   "source": []
  },
  {
   "cell_type": "code",
   "execution_count": null,
   "id": "f6a42c74-b114-48d8-bacb-ee2f9f4aa204",
   "metadata": {},
   "outputs": [],
   "source": []
  },
  {
   "cell_type": "markdown",
   "id": "a36d7d1c-e86c-49c0-9886-c9e4120c0f29",
   "metadata": {},
   "source": [
    "## Clean Up"
   ]
  },
  {
   "cell_type": "code",
   "execution_count": 94,
   "id": "feea829a-69d5-4d9f-93bb-b394e3da9dad",
   "metadata": {},
   "outputs": [
    {
     "name": "stdout",
     "output_type": "stream",
     "text": [
      "The role my-experimental-ec2-role-02 has been NOT BEEEN removed from my-experimental-InstanceProfileName-iac-02 - most likely it was not attached in the first place\n",
      "The instance profile  my-experimental-InstanceProfileName-iac-02 has NOT BEEN removed most likely it did not exist in the first place\n"
     ]
    }
   ],
   "source": [
    "# my_InstanceProfileName = f'{stem}-InstanceProfileName-iac-02'\n",
    "# ec2_pem_name      = f'{stem}-kp-june-2021-01'\n",
    "# my_role_name = f'{stem}-ec2-role-02'\n",
    "\n",
    "# removes role from instance profile\n",
    "try:\n",
    "    response = iam.remove_role_from_instance_profile(\n",
    "        InstanceProfileName=my_InstanceProfileName,\n",
    "        RoleName=my_role_name\n",
    "    )\n",
    "    if response['ResponseMetadata']['HTTPStatusCode'] == 200:\n",
    "        print(f'The role {my_role_name} has been removed from {my_InstanceProfileName} \\n\\t{response}')\n",
    "except Exception:\n",
    "    print(f'The role {my_role_name} has been NOT BEEEN removed from {my_InstanceProfileName} - most likely it was not attached in the first place')\n",
    "    pass  \n",
    "\n",
    "# removes the instance profile \n",
    "try:\n",
    "    response = iam.delete_instance_profile(InstanceProfileName=my_InstanceProfileName)\n",
    "    if response['ResponseMetadata']['HTTPStatusCode'] == 200:\n",
    "        print(f'The instance profile  {my_InstanceProfileName} has been removed \\n\\t{response}')\n",
    "except Exception:\n",
    "    print(f'The instance profile  {my_InstanceProfileName} has NOT BEEN removed most likely it did not exist in the first place')\n",
    "    pass  \n"
   ]
  },
  {
   "cell_type": "code",
   "execution_count": null,
   "id": "c3110b56-752c-4a1c-9494-192e002071ed",
   "metadata": {},
   "outputs": [],
   "source": []
  }
 ],
 "metadata": {
  "kernelspec": {
   "display_name": "Python 3",
   "language": "python",
   "name": "python3"
  },
  "language_info": {
   "codemirror_mode": {
    "name": "ipython",
    "version": 3
   },
   "file_extension": ".py",
   "mimetype": "text/x-python",
   "name": "python",
   "nbconvert_exporter": "python",
   "pygments_lexer": "ipython3",
   "version": "3.8.2"
  }
 },
 "nbformat": 4,
 "nbformat_minor": 5
}
