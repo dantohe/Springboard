{
 "cells": [
  {
   "cell_type": "markdown",
   "id": "41e9cf31-ebe0-4baa-9c68-7bf2d12c640d",
   "metadata": {},
   "source": [
    "# AWS Resources deployment using a Jupyter Notebook"
   ]
  },
  {
   "cell_type": "code",
   "execution_count": null,
   "id": "7c9de4e6-6906-4199-b3df-fcbbb0b38735",
   "metadata": {},
   "outputs": [],
   "source": [
    "!python3 -m pip install boto3\n",
    "!python3 -m pip install requests\n",
    "!python3 -m pip install tqdm\n",
    "!python3 -m pip install pandas\n",
    "!python3 -m pip install s3fs"
   ]
  },
  {
   "cell_type": "code",
   "execution_count": null,
   "id": "a917524a-01c5-425e-9f9f-16ee942515bc",
   "metadata": {},
   "outputs": [],
   "source": [
    "import IPython\n",
    "import boto3\n",
    "import time\n",
    "import os\n",
    "import json\n",
    "import requests\n",
    "import pandas as pd\n",
    "from zipfile import ZipFile\n",
    "from urllib.request import urlopen\n",
    "from tqdm.notebook import tqdm"
   ]
  },
  {
   "cell_type": "markdown",
   "id": "c8d6db2e-ac80-4501-b1ac-5b64995221d9",
   "metadata": {},
   "source": [
    "#### Some basic settings"
   ]
  },
  {
   "cell_type": "code",
   "execution_count": null,
   "id": "d71841ba-3cbf-4afb-ad3a-4e3a4b1c688f",
   "metadata": {},
   "outputs": [],
   "source": [
    "my_bucket_name = 'dantohe-my-experimental-iac-01'\n",
    "my_region = 'us-west-2'\n",
    "stem = 'my-experimental'\n",
    "my_InstanceProfileName = f'{stem}-InstanceProfileName-iac-01'"
   ]
  },
  {
   "cell_type": "markdown",
   "id": "2139318e-ce88-479a-bfcf-a585adeacbb8",
   "metadata": {},
   "source": [
    "#### Create an EC2 key-pair    \n",
    "If the key already exists then don't do anything.    "
   ]
  },
  {
   "cell_type": "code",
   "execution_count": null,
   "id": "2ebdbe0e-7d3e-457d-968f-4459fa4728fb",
   "metadata": {},
   "outputs": [],
   "source": [
    "ec2 = boto3.client('ec2')\n",
    "key_exists = False\n",
    "ec2_pem_name      = f'{stem}-kp-june-2021-04'\n",
    "\n",
    "response = ec2.describe_key_pairs()['KeyPairs']\n",
    "for key in response:\n",
    "    if key['KeyName'] == ec2_pem_name:\n",
    "        key_exists = True\n",
    "    found_instance = ec2.describe_instances(\n",
    "        Filters=[\n",
    "            {\n",
    "                'Name': 'key-name',\n",
    "                'Values': [key['KeyName']]\n",
    "            }\n",
    "        ]\n",
    "    )['Reservations']\n",
    "#     if len(found_instance) == 0:\n",
    "#         print (key['KeyName'] + \" is unused\")\n",
    "\n",
    "if key_exists:\n",
    "    print('key already exists')\n",
    "else:\n",
    "    ec2_pem_path = f'./{ec2_pem_name}.pem'\n",
    "    if os.path.isfile(ec2_pem_path):\n",
    "        os.remove(ec2_pem_path)\n",
    "    ec2_keypair = ec2.create_key_pair(KeyName=ec2_pem_name)\n",
    "    with open(ec2_pem_path, 'w+') as ec2_pem_file:\n",
    "        ec2_pem_file.write(str(ec2_keypair['KeyMaterial']))\n",
    "    !chmod 400 {ec2_pem_path}\n",
    "    print(f'{ec2_pem_name} has been created sucessfully and the pem is available at\\n{ec2_pem_path}')\n",
    "    "
   ]
  },
  {
   "cell_type": "markdown",
   "id": "67d4a5eb-fa33-41c6-af0c-df1368cec7e2",
   "metadata": {},
   "source": [
    "#### EC2 Resources"
   ]
  },
  {
   "cell_type": "code",
   "execution_count": null,
   "id": "dea4995a-807f-46dc-8d93-fdc2efeb9593",
   "metadata": {},
   "outputs": [],
   "source": [
    "iam = boto3.client('iam')"
   ]
  },
  {
   "cell_type": "code",
   "execution_count": null,
   "id": "e9e3bfc4-a5e8-47e3-9f0b-28104994971e",
   "metadata": {},
   "outputs": [],
   "source": [
    "ec2_role = iam.create_role(\n",
    "    Path='/',\n",
    "    RoleName=f'{stem}-ec2-role',\n",
    "    Description='',\n",
    "    MaxSessionDuration=3600,\n",
    "    AssumeRolePolicyDocument=\"\"\"{\n",
    "  \"Version\": \"2012-10-17\",\n",
    "  \"Statement\": [\n",
    "    {\n",
    "      \"Effect\": \"Allow\",\n",
    "      \"Principal\": { \"Service\": \"ec2.amazonaws.com\"},\n",
    "      \"Action\": \"sts:AssumeRole\"\n",
    "    }\n",
    "  ]\n",
    "}\"\"\".replace('<dw_bucket>', my_bucket_name))['Role']\n",
    "ec2_role['Arn']"
   ]
  },
  {
   "cell_type": "code",
   "execution_count": null,
   "id": "068c5382-60b7-49a5-b806-174bd5b63bfe",
   "metadata": {},
   "outputs": [],
   "source": [
    "for ec2_policy in  [\n",
    "        'arn:aws:iam::aws:policy/AmazonS3FullAccess']:\n",
    "    assert iam.attach_role_policy(\n",
    "        RoleName=ec2_role['RoleName'],\n",
    "        PolicyArn=ec2_policy)['ResponseMetadata']['HTTPStatusCode'] == 200"
   ]
  },
  {
   "cell_type": "code",
   "execution_count": null,
   "id": "24191b2d-60fa-4dc1-b3ab-e08fab506780",
   "metadata": {},
   "outputs": [],
   "source": [
    "ec2_instance_profile = iam.create_instance_profile(InstanceProfileName=my_InstanceProfileName)['InstanceProfile']\n",
    "iam.get_waiter('instance_profile_exists').wait(InstanceProfileName=my_InstanceProfileName)\n",
    "ec2_instance_profile['Arn']"
   ]
  },
  {
   "cell_type": "code",
   "execution_count": null,
   "id": "cdffc386-7d64-4cdf-9e1a-d6f41d5ab6b0",
   "metadata": {},
   "outputs": [],
   "source": [
    "assert iam.add_role_to_instance_profile(\n",
    "    InstanceProfileName=ec2_instance_profile['InstanceProfileName'],\n",
    "    RoleName=ec2_role['RoleName'])['ResponseMetadata']['HTTPStatusCode'] == 200"
   ]
  },
  {
   "cell_type": "code",
   "execution_count": null,
   "id": "9bed00b6-0eac-4146-8f16-a3e4c0f872bd",
   "metadata": {},
   "outputs": [],
   "source": [
    "ec2_sg = ec2.create_security_group(\n",
    "    Description='Allows 22 trafic',\n",
    "    GroupName='Airflow')\n",
    "ec2.authorize_security_group_ingress(CidrIp='0.0.0.0/0', FromPort=22, ToPort=22, GroupId=ec2_sg['GroupId'], IpProtocol='TCP')\n",
    "ec2.authorize_security_group_ingress(CidrIp='0.0.0.0/0', FromPort=8080, ToPort=8080, GroupId=ec2_sg['GroupId'], IpProtocol='TCP')\n",
    "ec2.authorize_security_group_ingress(CidrIp='0.0.0.0/0', FromPort=5555, ToPort=5555, GroupId=ec2_sg['GroupId'], IpProtocol='TCP')\n",
    "ec2.authorize_security_group_ingress(CidrIp='0.0.0.0/0', FromPort=3306, ToPort=3306, GroupId=ec2_sg['GroupId'], IpProtocol='TCP')\n",
    "ec2_sg['GroupId']"
   ]
  },
  {
   "cell_type": "code",
   "execution_count": null,
   "id": "cbdc78a5-152f-4089-84ec-b78884df7e6e",
   "metadata": {},
   "outputs": [],
   "source": []
  }
 ],
 "metadata": {
  "kernelspec": {
   "display_name": "Python 3",
   "language": "python",
   "name": "python3"
  },
  "language_info": {
   "codemirror_mode": {
    "name": "ipython",
    "version": 3
   },
   "file_extension": ".py",
   "mimetype": "text/x-python",
   "name": "python",
   "nbconvert_exporter": "python",
   "pygments_lexer": "ipython3",
   "version": "3.8.2"
  }
 },
 "nbformat": 4,
 "nbformat_minor": 5
}
