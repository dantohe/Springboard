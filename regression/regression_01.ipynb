{
 "cells": [
  {
   "cell_type": "code",
   "execution_count": 28,
   "id": "7cb4dff3-5044-45d3-a9dd-b61ab196a99f",
   "metadata": {},
   "outputs": [],
   "source": [
    "import matplotlib\n",
    "# matplotlib.use('GTK3Agg')\n",
    "  \n",
    "import matplotlib.pyplot as plt\n",
    "import numpy as np\n",
    "from sklearn import datasets, linear_model\n",
    "import pandas as pd"
   ]
  },
  {
   "cell_type": "code",
   "execution_count": 29,
   "id": "5c34ed70-11dd-4773-8616-f2df893867eb",
   "metadata": {},
   "outputs": [],
   "source": [
    "# Load CSV and columns\n",
    "df = pd.read_csv(\"../../../datasets/housing/Housing.csv\")\n",
    "  \n",
    "Y = df['price']\n",
    "X = df['lotsize']"
   ]
  },
  {
   "cell_type": "code",
   "execution_count": 30,
   "id": "9a22886d-9def-4a2a-815d-31314c4f8225",
   "metadata": {},
   "outputs": [],
   "source": [
    "  \n",
    "X=X.values.reshape(len(X),1)\n",
    "Y=Y.values.reshape(len(Y),1)\n",
    "  \n",
    "# Split the data into training/testing sets\n",
    "X_train = X[:-250]\n",
    "X_test = X[-250:]\n",
    "  \n",
    "# Split the targets into training/testing sets\n",
    "Y_train = Y[:-250]\n",
    "Y_test = Y[-250:]"
   ]
  },
  {
   "cell_type": "code",
   "execution_count": 31,
   "id": "d294f2b6-04f9-4877-bc82-9ca29b6212e1",
   "metadata": {},
   "outputs": [
    {
     "data": {
      "image/png": "[encoded data removed]",
      "text/plain": [
       "<Figure size 432x288 with 1 Axes>"
      ]
     },
     "metadata": {},
     "output_type": "display_data"
    }
   ],
   "source": [
    "\n",
    "  \n",
    "# Plot outputs\n",
    "plt.scatter(X_test, Y_test,  color='black')\n",
    "plt.title('Test Data')\n",
    "plt.xlabel('Size')\n",
    "plt.ylabel('Price')\n",
    "plt.xticks(())\n",
    "plt.yticks(())\n",
    "  \n",
    " \n",
    "# Create linear regression object\n",
    "regr = linear_model.LinearRegression()\n",
    "  \n",
    "# Train the model using the training sets\n",
    "regr.fit(X_train, Y_train)\n",
    "  \n",
    "# Plot outputs\n",
    "plt.plot(X_test, regr.predict(X_test), color='red',linewidth=3)\n",
    "plt.show()"
   ]
  }
 ],
 "metadata": {
  "kernelspec": {
   "display_name": "Python 3",
   "language": "python",
   "name": "python3"
  },
  "language_info": {
   "codemirror_mode": {
    "name": "ipython",
    "version": 3
   },
   "file_extension": ".py",
   "mimetype": "text/x-python",
   "name": "python",
   "nbconvert_exporter": "python",
   "pygments_lexer": "ipython3",
   "version": "3.8.2"
  }
 },
 "nbformat": 4,
 "nbformat_minor": 5
}
