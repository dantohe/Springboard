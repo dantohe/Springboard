{
 "cells": [
  {
   "cell_type": "markdown",
   "id": "37b311a7-f4cf-48bd-a6d9-b13d2eea7aac",
   "metadata": {},
   "source": [
    "# Data pre-processing and clenup \n",
    "We will be using the spacy library.   \n",
    "https://allenai.github.io/scispacy/"
   ]
  },
  {
   "cell_type": "code",
   "execution_count": 2,
   "id": "dec9d567-34d6-4dfd-8cd8-5bbe6a1a82e6",
   "metadata": {},
   "outputs": [],
   "source": [
    "import string\n",
    "import spacy\n",
    "from spacy.lang.en.stop_words import STOP_WORDS\n",
    "import en_core_sci_sm\n",
    "import en_core_sci_md\n",
    "import pandas as pd\n",
    "from tqdm import tqdm\n",
    "import logging\n",
    "logger = logging.getLogger(\"spacy\")\n",
    "logger.setLevel(logging.ERROR)"
   ]
  },
  {
   "cell_type": "code",
   "execution_count": 53,
   "id": "5d45c1d3-6eef-4c66-b93f-15bda1089a34",
   "metadata": {},
   "outputs": [
    {
     "name": "stdout",
     "output_type": "stream",
     "text": [
      "\u001b[2K\u001b[38;5;2m✔ Loaded compatibility table\u001b[0m\n",
      "\u001b[1m\n",
      "================= Installed pipeline packages (spaCy v3.0.7) =================\u001b[0m\n",
      "\u001b[38;5;4mℹ spaCy installation:\n",
      "/Users/dantohe/Library/Python/3.8/lib/python/site-packages/spacy\u001b[0m\n",
      "\n",
      "NAME             SPACY            VERSION                            \n",
      "en_core_sci_md   >=3.0.1,<3.1.0   \u001b[38;5;2m0.4.0\u001b[0m   \u001b[38;5;2m✔\u001b[0m\n",
      "en_core_sci_sm   >=3.0.1,<3.1.0   \u001b[38;5;2m0.4.0\u001b[0m   \u001b[38;5;2m✔\u001b[0m\n",
      "en_core_web_sm   >=3.0.0,<3.1.0   \u001b[38;5;2m3.0.0\u001b[0m   \u001b[38;5;2m✔\u001b[0m\n",
      "\n"
     ]
    }
   ],
   "source": [
    "!python3 -m spacy validate"
   ]
  },
  {
   "cell_type": "markdown",
   "id": "e38cfa27-cc9a-4a5f-b419-d2b5a98cea56",
   "metadata": {},
   "source": [
    "### Importing Spacy data models"
   ]
  },
  {
   "cell_type": "code",
   "execution_count": null,
   "id": "96640ced-15b4-4fb1-8027-b695458df62a",
   "metadata": {},
   "outputs": [],
   "source": [
    "!python3 -m pip install https://s3-us-west-2.amazonaws.com/ai2-s2-scispacy/releases/v0.2.4/en_core_sci_lg-0.2.4.tar.gz   \n",
    "!python3 -m pip install https://s3-us-west-2.amazonaws.com/ai2-s2-scispacy/releases/v0.4.0/en_core_sci_sm-0.4.0.tar.gz\n",
    "!python3 -m pip install https://s3-us-west-2.amazonaws.com/ai2-s2-scispacy/releases/v0.4.0/en_core_sci_md-0.4.0.tar.gz\n",
    "import en_core_sci_lg\n",
    "import en_core_sci_sm\n",
    "import en_core_sci_md    "
   ]
  },
  {
   "cell_type": "markdown",
   "id": "0536fa74-ddb6-42ba-9f30-523fdc4383f6",
   "metadata": {},
   "source": [
    "### Punctuation and stop words"
   ]
  },
  {
   "cell_type": "code",
   "execution_count": 54,
   "id": "882ed1b0-133f-4f69-8999-e07fffa8fdfc",
   "metadata": {},
   "outputs": [
    {
     "data": {
      "text/plain": [
       "['through', 'one', 'indeed', 'least', 'every']"
      ]
     },
     "execution_count": 54,
     "metadata": {},
     "output_type": "execute_result"
    }
   ],
   "source": [
    "punctuations = string.punctuation\n",
    "stopwords = list(STOP_WORDS)\n",
    "stopwords[:5]"
   ]
  },
  {
   "cell_type": "markdown",
   "id": "396a852e-bc9d-443f-b9b1-680bc2a3983f",
   "metadata": {},
   "source": [
    "#### Augmenting the list of stop words\n",
    "Credits: https://www.kaggle.com/danielwolffram/topic-modeling-finding-related-articles#Latend-Dirichlet-Allocation   "
   ]
  },
  {
   "cell_type": "code",
   "execution_count": 58,
   "id": "c140b759-92bd-4813-a70d-8501da6916cf",
   "metadata": {},
   "outputs": [],
   "source": [
    "additional_stop_words = [\n",
    "    'doi', 'preprint', 'copyright', 'peer', 'reviewed', 'org', 'https', 'et', 'al', 'author', 'figure', \n",
    "    'rights', 'reserved', 'permission', 'used', 'using', 'biorxiv', 'medrxiv', 'license', 'fig', 'fig.', \n",
    "    'al.', 'Elsevier', 'PMC', 'CZI'\n",
    "]\n",
    "\n",
    "for w in additional_stop_words:\n",
    "    if w not in stopwords:\n",
    "        stopwords.append(w)"
   ]
  },
  {
   "cell_type": "code",
   "execution_count": null,
   "id": "ca8fce66-a81f-4968-a8bc-bf1ab3abf362",
   "metadata": {},
   "outputs": [],
   "source": []
  },
  {
   "cell_type": "code",
   "execution_count": null,
   "id": "90c984c5-47ea-405a-b366-47f67e7f9b07",
   "metadata": {},
   "outputs": [],
   "source": []
  },
  {
   "cell_type": "markdown",
   "id": "c6cf7085-3a46-4363-b923-c86b9d618f13",
   "metadata": {},
   "source": [
    "### Processing the sentences\n",
    "Prepare the spacy processor."
   ]
  },
  {
   "cell_type": "code",
   "execution_count": 60,
   "id": "34050f82-72e6-49fd-8981-4fe92eaf8add",
   "metadata": {},
   "outputs": [],
   "source": [
    "processor = en_core_sci_md.load(disable=[\"tagger\", \"ner\"])\n",
    "processor.max_length = 7000000\n",
    "\n",
    "def spacy_processor(sentence):\n",
    "    my_string = processor(sentence)\n",
    "    my_string = [ word.lemma_.lower().strip() if word.lemma_ != \"-PRON-\" else word.lower_ for word in my_string ]\n",
    "    my_string = [ word for word in my_string if word not in stopwords and word not in punctuations ]\n",
    "    my_string = \" \".join([i for i in my_string])\n",
    "    return my_string"
   ]
  },
  {
   "cell_type": "markdown",
   "id": "0a19e914-7fd5-44a9-90ad-4a1d46f9c8e7",
   "metadata": {},
   "source": [
    "### Load the dataframe from the previous processing"
   ]
  },
  {
   "cell_type": "code",
   "execution_count": 9,
   "id": "49b1301a-e46f-4804-92b4-a0afacb30902",
   "metadata": {},
   "outputs": [
    {
     "name": "stdout",
     "output_type": "stream",
     "text": [
      "Index(['Unnamed: 0', 'Unnamed: 0.1', 'cord_uid', 'sha', 'source_x', 'title',\n",
      "       'doi', 'pmcid', 'pubmed_id', 'license', 'abstract', 'publish_time',\n",
      "       'authors', 'journal', 'url', 'selection', 'language'],\n",
      "      dtype='object')\n",
      "Frame dimentions (117578, 17)\n"
     ]
    }
   ],
   "source": [
    "cord_metadata_processed = pd.read_csv('temp/metadata_2_language_en.zip')\n",
    "metadata = cord_metadata_processed.copy(deep=True)\n",
    "print(metadata.columns)\n",
    "print(f'Frame dimentions {metadata.shape}')"
   ]
  },
  {
   "cell_type": "markdown",
   "id": "7903aa20-8bbd-4585-a34a-3a85ced24ec0",
   "metadata": {},
   "source": [
    "### Subset for assesing Spacy speed"
   ]
  },
  {
   "cell_type": "code",
   "execution_count": 74,
   "id": "c004b90e-5154-4961-a237-f90ff47defe0",
   "metadata": {},
   "outputs": [
    {
     "name": "stdout",
     "output_type": "stream",
     "text": [
      "Frame dimentions (100, 18)\n"
     ]
    }
   ],
   "source": [
    "metadata_subset = metadata[0:100]\n",
    "print(f'Frame dimentions {metadata_subset.shape}')"
   ]
  },
  {
   "cell_type": "code",
   "execution_count": null,
   "id": "e9c517d9-3fb5-4a77-9b71-d5ee0ec30e46",
   "metadata": {},
   "outputs": [],
   "source": [
    "tqdm.pandas()\n",
    "# metadata_subset[\"cleand_text\"] = metadata_subset[\"abstract\"].spacy_processor(spacy_tokenizer)\n",
    "metadata_subset[\"cleand_text\"] = metadata_subset[\"abstract\"].progress_apply(spacy_processor)\n"
   ]
  },
  {
   "cell_type": "code",
   "execution_count": 65,
   "id": "704d90e9-a043-4fff-8d76-bed571548ca8",
   "metadata": {},
   "outputs": [
    {
     "data": {
      "text/plain": [
       "0     inflammatory diseases respiratory tract common...\n",
       "1     endothelin-1 et-1 21 amino acid peptide divers...\n",
       "2     nidovirus subgenomic mrnas contain leader sequ...\n",
       "3     21st international symposium intensive care em...\n",
       "4     report describes design implementation real-ti...\n",
       "                            ...                        \n",
       "95    variety human diseases associated gammaherpesv...\n",
       "96    acute lung injury humans characterized histopa...\n",
       "97    pore-forming toxins pfts constitute single lar...\n",
       "98    high affinity antigen-specific t cells play cr...\n",
       "99    introduction hemophagocytic syndrome hfs poten...\n",
       "Name: cleand_text, Length: 100, dtype: object"
      ]
     },
     "execution_count": 65,
     "metadata": {},
     "output_type": "execute_result"
    }
   ],
   "source": [
    "metadata_subset.shape\n",
    "metadata_subset[\"cleand_text\"]"
   ]
  },
  {
   "cell_type": "markdown",
   "id": "1c962118-035a-45c4-a218-4a3b6786359d",
   "metadata": {},
   "source": [
    "### Performing the text processing on the whole dataframe\n",
    "## Abstract pre-processing"
   ]
  },
  {
   "cell_type": "code",
   "execution_count": 66,
   "id": "f61ab737-d1ad-4283-822f-34d63c996046",
   "metadata": {},
   "outputs": [
    {
     "name": "stderr",
     "output_type": "stream",
     "text": [
      "100%|██████████| 117578/117578 [1:03:41<00:00, 30.77it/s]\n"
     ]
    }
   ],
   "source": [
    "metadata[\"abstract_preprocessed\"] = metadata[\"abstract\"].progress_apply(spacy_processor)"
   ]
  },
  {
   "cell_type": "code",
   "execution_count": 67,
   "id": "3ec29f89-19ba-4b69-81ee-8481445ec4e9",
   "metadata": {},
   "outputs": [
    {
     "data": {
      "text/plain": [
       "0         inflammatory diseases respiratory tract common...\n",
       "1         endothelin-1 et-1 21 amino acid peptide divers...\n",
       "2         nidovirus subgenomic mrnas contain leader sequ...\n",
       "3         21st international symposium intensive care em...\n",
       "4         report describes design implementation real-ti...\n",
       "                                ...                        \n",
       "117573    clinical data 104 hospitalized children 2003 e...\n",
       "117574    background non-pharmaceutical interventions np...\n",
       "117575    endophytes endosymbiotic group microorganisms ...\n",
       "117576    viruses developed numerous elegant strategies ...\n",
       "117577    background middle east respiratory syndrome co...\n",
       "Name: cleand_text, Length: 117578, dtype: object"
      ]
     },
     "execution_count": 67,
     "metadata": {},
     "output_type": "execute_result"
    }
   ],
   "source": [
    "metadata[\"cleand_text\"]"
   ]
  },
  {
   "cell_type": "code",
   "execution_count": 68,
   "id": "6f7c3fe3-6278-4ad3-ac3e-0ed06b809933",
   "metadata": {},
   "outputs": [],
   "source": [
    "compression_opts = dict(method='zip',\n",
    "                        archive_name='out.csv')  \n",
    "metadata.to_csv('temp/metadata_spacy_processed.zip', index=True,\n",
    "          compression=compression_opts)  "
   ]
  },
  {
   "cell_type": "code",
   "execution_count": 69,
   "id": "9a402dd3-b5c5-42fe-bc23-6f9e207b5979",
   "metadata": {},
   "outputs": [],
   "source": [
    "import matplotlib.pyplot as plt\n",
    "from collections import Counter\n",
    "from nltk.corpus import stopwords\n",
    "\n",
    "def word_bar_graph_function(dataframe,column,title):\n",
    "    # adapted from https://www.kaggle.com/benhamner/most-common-forum-topic-words\n",
    "    topic_words = [ z.lower() for y in\n",
    "                       [ x.split() for x in dataframe[column] if isinstance(x, str)]\n",
    "                       for z in y]\n",
    "    word_count_dict = dict(Counter(topic_words))\n",
    "    popular_words = sorted(word_count_dict, key = word_count_dict.get, reverse = True)\n",
    "    popular_words_nonstop = [w for w in popular_words if w not in stopwords.words(\"english\")]\n",
    "    plt.barh(range(50), [word_count_dict[w] for w in reversed(popular_words_nonstop[0:50])])\n",
    "    plt.yticks([x + 0.5 for x in range(50)], reversed(popular_words_nonstop[0:50]))\n",
    "    plt.title(title)\n",
    "    plt.show()"
   ]
  },
  {
   "cell_type": "code",
   "execution_count": 70,
   "id": "d0ba7ebf-65fe-4321-8ebd-2ca86e1317e6",
   "metadata": {},
   "outputs": [
    {
     "data": {
      "image/png": "[encoded data removed]",
      "text/plain": [
       "<Figure size 720x720 with 1 Axes>"
      ]
     },
     "metadata": {
      "needs_background": "light"
     },
     "output_type": "display_data"
    }
   ],
   "source": [
    "plt.figure(figsize=(10,10))\n",
    "word_bar_graph_function(metadata,column='cleand_text', title='Most common tokens')"
   ]
  },
  {
   "cell_type": "code",
   "execution_count": null,
   "id": "ff232383-09e6-49bd-a161-2f4cf4317466",
   "metadata": {},
   "outputs": [],
   "source": []
  },
  {
   "cell_type": "code",
   "execution_count": null,
   "id": "368ccbeb-6c9a-40b0-b40e-e411397c98fe",
   "metadata": {},
   "outputs": [],
   "source": []
  }
 ],
 "metadata": {
  "kernelspec": {
   "display_name": "Python 3",
   "language": "python",
   "name": "python3"
  },
  "language_info": {
   "codemirror_mode": {
    "name": "ipython",
    "version": 3
   },
   "file_extension": ".py",
   "mimetype": "text/x-python",
   "name": "python",
   "nbconvert_exporter": "python",
   "pygments_lexer": "ipython3",
   "version": "3.8.2"
  }
 },
 "nbformat": 4,
 "nbformat_minor": 5
}
