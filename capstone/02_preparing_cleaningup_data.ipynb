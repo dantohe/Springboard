{
 "cells": [
  {
   "cell_type": "markdown",
   "id": "37b311a7-f4cf-48bd-a6d9-b13d2eea7aac",
   "metadata": {},
   "source": [
    "# Data pre-processing and clenup \n",
    "We will be using the spacy library.   \n",
    "https://allenai.github.io/scispacy/"
   ]
  },
  {
   "cell_type": "code",
   "execution_count": 105,
   "id": "dec9d567-34d6-4dfd-8cd8-5bbe6a1a82e6",
   "metadata": {},
   "outputs": [],
   "source": [
    "import string\n",
    "import spacy\n",
    "from spacy.lang.en.stop_words import STOP_WORDS\n",
    "import en_core_sci_sm\n",
    "import en_core_sci_md\n",
    "import pandas as pd\n",
    "pd.options.mode.chained_assignment = None \n",
    "from tqdm import tqdm\n",
    "import logging\n",
    "logger = logging.getLogger(\"spacy\")\n",
    "logger.setLevel(logging.ERROR)"
   ]
  },
  {
   "cell_type": "markdown",
   "id": "e38cfa27-cc9a-4a5f-b419-d2b5a98cea56",
   "metadata": {},
   "source": [
    "### Importing Spacy language models"
   ]
  },
  {
   "cell_type": "code",
   "execution_count": null,
   "id": "96640ced-15b4-4fb1-8027-b695458df62a",
   "metadata": {},
   "outputs": [],
   "source": [
    "!python3 -m pip install https://s3-us-west-2.amazonaws.com/ai2-s2-scispacy/releases/v0.2.4/en_core_sci_lg-0.2.4.tar.gz   \n",
    "!python3 -m pip install https://s3-us-west-2.amazonaws.com/ai2-s2-scispacy/releases/v0.4.0/en_core_sci_sm-0.4.0.tar.gz\n",
    "!python3 -m pip install https://s3-us-west-2.amazonaws.com/ai2-s2-scispacy/releases/v0.4.0/en_core_sci_md-0.4.0.tar.gz\n",
    "import en_core_sci_lg\n",
    "import en_core_sci_sm\n",
    "import en_core_sci_md    "
   ]
  },
  {
   "cell_type": "markdown",
   "id": "b07ee433-7aa6-43f6-9e19-32b833c30450",
   "metadata": {},
   "source": [
    "#### Validate Spacy data models"
   ]
  },
  {
   "cell_type": "code",
   "execution_count": 107,
   "id": "7a931309-e229-49fa-903a-12233102b8db",
   "metadata": {},
   "outputs": [
    {
     "name": "stdout",
     "output_type": "stream",
     "text": [
      "\u001b[2K\u001b[38;5;2m✔ Loaded compatibility table\u001b[0m\n",
      "\u001b[1m\n",
      "================= Installed pipeline packages (spaCy v3.0.7) =================\u001b[0m\n",
      "\u001b[38;5;4mℹ spaCy installation:\n",
      "/Users/dantohe/Library/Python/3.8/lib/python/site-packages/spacy\u001b[0m\n",
      "\n",
      "NAME             SPACY            VERSION                            \n",
      "en_core_sci_md   >=3.0.1,<3.1.0   \u001b[38;5;2m0.4.0\u001b[0m   \u001b[38;5;2m✔\u001b[0m\n",
      "en_core_sci_sm   >=3.0.1,<3.1.0   \u001b[38;5;2m0.4.0\u001b[0m   \u001b[38;5;2m✔\u001b[0m\n",
      "en_core_web_sm   >=3.0.0,<3.1.0   \u001b[38;5;2m3.0.0\u001b[0m   \u001b[38;5;2m✔\u001b[0m\n",
      "\n"
     ]
    }
   ],
   "source": [
    "!python3 -m spacy validate"
   ]
  },
  {
   "cell_type": "markdown",
   "id": "6e8830fe-fe44-45c4-afa3-76fe28423f03",
   "metadata": {},
   "source": [
    "## Loading the data from the previos step"
   ]
  },
  {
   "cell_type": "code",
   "execution_count": 109,
   "id": "e8fb804f-2395-459a-bc3c-604b4c7d164c",
   "metadata": {},
   "outputs": [
    {
     "name": "stdout",
     "output_type": "stream",
     "text": [
      "Index(['Unnamed: 0', 'Unnamed: 0.1', 'cord_uid', 'sha', 'source_x', 'title',\n",
      "       'doi', 'pmcid', 'pubmed_id', 'license', 'abstract', 'publish_time',\n",
      "       'authors', 'journal', 'url', 'selection', 'language'],\n",
      "      dtype='object')\n",
      "Frame dimentions (117578, 17)\n"
     ]
    }
   ],
   "source": [
    "cord_metadata = pd.read_csv('temp/metadata_2_language_en.zip')\n",
    "metadata = cord_metadata.copy(deep=True)\n",
    "print(metadata.columns)\n",
    "print(f'Frame dimentions {metadata.shape}')"
   ]
  },
  {
   "cell_type": "markdown",
   "id": "35dfc307-2d01-4992-9e4b-8f0158c9230e",
   "metadata": {},
   "source": [
    "### Keeping only the articles published after January 1st 2020  \n",
    "We are interested only in the papers published after COVI19 started - arbitrarely picking 01/01/2020.  "
   ]
  },
  {
   "cell_type": "code",
   "execution_count": 111,
   "id": "f73c48c2-4236-4411-8aed-49460ba6846a",
   "metadata": {},
   "outputs": [
    {
     "name": "stdout",
     "output_type": "stream",
     "text": [
      "(30226, 17)\n"
     ]
    }
   ],
   "source": [
    "metadata = metadata[(metadata['publish_time']>'2020-01-01')]\n",
    "print(metadata.shape)"
   ]
  },
  {
   "cell_type": "markdown",
   "id": "0536fa74-ddb6-42ba-9f30-523fdc4383f6",
   "metadata": {},
   "source": [
    "### Punctuation and stop words"
   ]
  },
  {
   "cell_type": "code",
   "execution_count": 112,
   "id": "882ed1b0-133f-4f69-8999-e07fffa8fdfc",
   "metadata": {},
   "outputs": [
    {
     "data": {
      "text/plain": [
       "['through', 'one', 'indeed', 'least', 'every']"
      ]
     },
     "execution_count": 112,
     "metadata": {},
     "output_type": "execute_result"
    }
   ],
   "source": [
    "punctuations = string.punctuation\n",
    "stopwords = list(STOP_WORDS)\n",
    "stopwords[:5]"
   ]
  },
  {
   "cell_type": "markdown",
   "id": "396a852e-bc9d-443f-b9b1-680bc2a3983f",
   "metadata": {},
   "source": [
    "#### Augmenting the list of stop words\n",
    "Credits: https://www.kaggle.com/danielwolffram/topic-modeling-finding-related-articles#Latend-Dirichlet-Allocation   "
   ]
  },
  {
   "cell_type": "code",
   "execution_count": null,
   "id": "c140b759-92bd-4813-a70d-8501da6916cf",
   "metadata": {},
   "outputs": [],
   "source": [
    "additional_stop_words = [\n",
    "    'doi', 'preprint', 'copyright', 'peer', 'reviewed', 'org', 'https', 'et', 'al', 'author', 'figure', \n",
    "    'rights', 'reserved', 'permission', 'used', 'using', 'biorxiv', 'medrxiv', 'license', 'fig', 'fig.', \n",
    "    'al.', 'Elsevier', 'PMC', 'CZI', 'p', '2', '1', '3', 'l', \n",
    "    'common','review','describes','abstract','retrospective','chart','patients','study','may',\n",
    "    'associated','results','including','high''found','one','well','among','Abstract','provide',\n",
    "    'objective','objective:','background','range','features','participates','doi', 'preprint', \n",
    "    'permission', 'use', 'used', 'using', 'biorxiv', 'medrxiv', 'license', 'fig', 'fig.', 'al.', '):'\n",
    "]\n",
    "\n",
    "# additional potential words to be removed\n",
    "# customize_stop_words = ['common','review','describes','abstract','retrospective','chart','patients','study','may',\n",
    "#                         'associated','results','including','high''found','one','well','among','Abstract','provide',\n",
    "#                         'objective','objective:','background','range','features','participates','doi', 'preprint', \n",
    "#                         'copyright', 'org', 'https', 'et ','et' 'al', 'author', 'figure', 'table', 'rights', 'reserved', \n",
    "#                         'permission', 'use', 'used', 'using', 'biorxiv', 'medrxiv', 'license', 'fig', 'fig.', 'al.', \n",
    "#                         'Elsevier', 'PMC', 'CZI']\n",
    "\n",
    "for w in additional_stop_words:\n",
    "    if w not in stopwords:\n",
    "        stopwords.append(w)"
   ]
  },
  {
   "cell_type": "markdown",
   "id": "c6cf7085-3a46-4363-b923-c86b9d618f13",
   "metadata": {},
   "source": [
    "### Processing titles and abstracts\n",
    "Prepare the spacy processor."
   ]
  },
  {
   "cell_type": "code",
   "execution_count": 114,
   "id": "34050f82-72e6-49fd-8981-4fe92eaf8add",
   "metadata": {},
   "outputs": [],
   "source": [
    "processor = en_core_sci_md.load(disable=[\"tagger\", \"ner\"])\n",
    "processor.max_length = 7000000\n",
    "\n",
    "def spacy_processor(sentence):\n",
    "    my_string = processor(sentence)\n",
    "    my_string = [ word.lemma_.lower().strip() if word.lemma_ != \"-PRON-\" else word.lower_ for word in my_string ]\n",
    "    my_string = [ word for word in my_string if word not in stopwords and word not in punctuations ]\n",
    "    my_string = \" \".join([i for i in my_string])\n",
    "    return my_string"
   ]
  },
  {
   "cell_type": "markdown",
   "id": "7903aa20-8bbd-4585-a34a-3a85ced24ec0",
   "metadata": {},
   "source": [
    "### Assesing Spacy speed on a data subset\n",
    "Picking 100 rows."
   ]
  },
  {
   "cell_type": "code",
   "execution_count": 119,
   "id": "c004b90e-5154-4961-a237-f90ff47defe0",
   "metadata": {},
   "outputs": [
    {
     "name": "stdout",
     "output_type": "stream",
     "text": [
      "Frame dimentions (100, 17)\n"
     ]
    }
   ],
   "source": [
    "metadata_subset = metadata[0:100]\n",
    "print(f'Frame dimentions {metadata_subset.shape}')"
   ]
  },
  {
   "cell_type": "markdown",
   "id": "6951837e-fa68-47e3-9c56-468b3bb47ca9",
   "metadata": {},
   "source": [
    "#### Processing a subset of titles"
   ]
  },
  {
   "cell_type": "code",
   "execution_count": 120,
   "id": "e10935af-666a-406d-8ad9-10c503d0a50e",
   "metadata": {},
   "outputs": [
    {
     "name": "stderr",
     "output_type": "stream",
     "text": [
      "100%|██████████| 100/100 [00:00<00:00, 185.10it/s]\n"
     ]
    }
   ],
   "source": [
    "tqdm.pandas()\n",
    "metadata_subset[\"processed_title\"] = metadata_subset[\"title\"].progress_apply(spacy_processor)\n"
   ]
  },
  {
   "cell_type": "code",
   "execution_count": 121,
   "id": "054d397c-6f58-4f08-ac6f-d9d71332e975",
   "metadata": {},
   "outputs": [
    {
     "name": "stdout",
     "output_type": "stream",
     "text": [
      "(100, 18)\n",
      "                                                  title  \\\n",
      "3645  Dexmedetomidine improved renal function in pat...   \n",
      "3646  Whole genome sequencing and phylogenetic analy...   \n",
      "3647  Synthetic carbohydrate-based vaccines: challen...   \n",
      "3648  Identification of antigens presented by MHC fo...   \n",
      "3649  Quantifying the relative impact of contact het...   \n",
      "...                                                 ...   \n",
      "3964  Large-scale Lassa fever outbreaks in Nigeria: ...   \n",
      "3967  A Chimeric Sudan Virus-Like Particle Vaccine C...   \n",
      "3968  Nasal Airway Obstruction Study (NAIROS): a pha...   \n",
      "3969  A single dose polyanhydride-based nanovaccine ...   \n",
      "3970  Systematic selection between age and household...   \n",
      "\n",
      "                                        processed_title  \n",
      "3645  dexmedetomidine improved renal function severe...  \n",
      "3646  genome sequencing phylogenetic analysis human ...  \n",
      "3647  synthetic carbohydrate-based vaccines challeng...  \n",
      "3648  identification antigens presented mhc vaccines...  \n",
      "3649  quantifying relative impact contact heterogene...  \n",
      "...                                                 ...  \n",
      "3964  large-scale lassa fever outbreaks nigeria quan...  \n",
      "3967  chimeric sudan virus-like particle vaccine can...  \n",
      "3968  nasal airway obstruction nairos phase iii open...  \n",
      "3969  single dose polyanhydride-based nanovaccine pa...  \n",
      "3970  systematic selection age household structure m...  \n",
      "\n",
      "[100 rows x 2 columns]\n"
     ]
    }
   ],
   "source": [
    "print(metadata_subset.shape)\n",
    "print(metadata_subset[[\"title\",\"processed_title\"]])"
   ]
  },
  {
   "cell_type": "markdown",
   "id": "f3ae2b1e-3dfb-43be-97be-d0868805525e",
   "metadata": {},
   "source": [
    "#### Processing a subset of abstracts"
   ]
  },
  {
   "cell_type": "code",
   "execution_count": 122,
   "id": "06a45df8-35b8-43be-a32c-bf060a5121dc",
   "metadata": {},
   "outputs": [
    {
     "name": "stderr",
     "output_type": "stream",
     "text": [
      "100%|██████████| 100/100 [00:04<00:00, 23.66it/s]\n"
     ]
    }
   ],
   "source": [
    "metadata_subset[\"processed_abstract\"] = metadata_subset[\"abstract\"].progress_apply(spacy_processor)\n"
   ]
  },
  {
   "cell_type": "code",
   "execution_count": 123,
   "id": "8c026750-86eb-4684-a42c-219aa6737fd0",
   "metadata": {},
   "outputs": [
    {
     "name": "stdout",
     "output_type": "stream",
     "text": [
      "(100, 19)\n",
      "                                               abstract  \\\n",
      "3645  BACKGROUND: Dexmedetomidine has been reported ...   \n",
      "3646  BACKGROUND: Human metapneumovirus (HMPV) is an...   \n",
      "3647  Glycoconjugate vaccines based on bacterial cap...   \n",
      "3648  Mycobacterium tuberculosis (M.tb) is responsib...   \n",
      "3649  BACKGROUND: An efficient surface cleaning stra...   \n",
      "...                                                 ...   \n",
      "3964  Lassa fever (LF) is increasingly recognised as...   \n",
      "3967  Ebola virus infections lead to severe hemorrha...   \n",
      "3968  BACKGROUND: Septoplasty (surgery to straighten...   \n",
      "3969  Mycobacterium avium subsp. paratuberculosis (M...   \n",
      "3970  Numerous epidemic models have been developed t...   \n",
      "\n",
      "                                     processed_abstract  \n",
      "3645  dexmedetomidine reported improve organ dysfunc...  \n",
      "3646  human metapneumovirus hmpv important cause acu...  \n",
      "3647  glycoconjugate vaccines based bacterial capsul...  \n",
      "3648  mycobacterium tuberculosis m.tb responsible de...  \n",
      "3649  efficient surface cleaning strategy target cle...  \n",
      "...                                                 ...  \n",
      "3964  lassa fever lf increasingly recognised importa...  \n",
      "3967  ebola virus infections lead severe hemorrhagic...  \n",
      "3968  septoplasty surgery straighten deviation nasal...  \n",
      "3969  mycobacterium avium subsp paratuberculosis m. ...  \n",
      "3970  numerous epidemic models developed capture asp...  \n",
      "\n",
      "[100 rows x 2 columns]\n"
     ]
    }
   ],
   "source": [
    "print(metadata_subset.shape)\n",
    "print(metadata_subset[[\"abstract\",\"processed_abstract\"]])"
   ]
  },
  {
   "cell_type": "markdown",
   "id": "1c962118-035a-45c4-a218-4a3b6786359d",
   "metadata": {},
   "source": [
    "### Performing the text processing on the whole dataframe\n",
    "#### Title processing"
   ]
  },
  {
   "cell_type": "code",
   "execution_count": 124,
   "id": "f61ab737-d1ad-4283-822f-34d63c996046",
   "metadata": {},
   "outputs": [
    {
     "name": "stderr",
     "output_type": "stream",
     "text": [
      "100%|██████████| 30226/30226 [02:20<00:00, 214.65it/s]\n"
     ]
    }
   ],
   "source": [
    "metadata[\"title_processed\"] = metadata[\"title\"].progress_apply(spacy_processor)"
   ]
  },
  {
   "cell_type": "code",
   "execution_count": 125,
   "id": "3ec29f89-19ba-4b69-81ee-8481445ec4e9",
   "metadata": {},
   "outputs": [
    {
     "data": {
      "text/plain": [
       "3645      dexmedetomidine improved renal function severe...\n",
       "3646      genome sequencing phylogenetic analysis human ...\n",
       "3647      synthetic carbohydrate-based vaccines challeng...\n",
       "3648      identification antigens presented mhc vaccines...\n",
       "3649      quantifying relative impact contact heterogene...\n",
       "                                ...                        \n",
       "117563    analyzing impact coronavirus crisis business m...\n",
       "117565    treatment algorithm covid-19 multidisciplinary...\n",
       "117566    symptom criteria covid‐19 testing heath care w...\n",
       "117567    covid‐19 epidemic disease characteristics chil...\n",
       "117568    chapter 40 role innate immunity regulating rot...\n",
       "Name: title_processed, Length: 30226, dtype: object"
      ]
     },
     "execution_count": 125,
     "metadata": {},
     "output_type": "execute_result"
    }
   ],
   "source": [
    "metadata[\"title_processed\"]"
   ]
  },
  {
   "cell_type": "markdown",
   "id": "d06def70-18cc-4361-ba14-afa635f5764e",
   "metadata": {},
   "source": [
    "#### Abstract processing"
   ]
  },
  {
   "cell_type": "code",
   "execution_count": 126,
   "id": "d8a86932-6075-4adf-9315-b66be9dae549",
   "metadata": {},
   "outputs": [
    {
     "name": "stderr",
     "output_type": "stream",
     "text": [
      "100%|██████████| 30226/30226 [16:08<00:00, 31.22it/s]\n"
     ]
    }
   ],
   "source": [
    "metadata[\"abstract_processed\"] = metadata[\"abstract\"].progress_apply(spacy_processor)"
   ]
  },
  {
   "cell_type": "code",
   "execution_count": 127,
   "id": "ab7c1e8a-e75f-4afd-8668-254fa8222a90",
   "metadata": {},
   "outputs": [
    {
     "data": {
      "text/plain": [
       "3645      dexmedetomidine reported improve organ dysfunc...\n",
       "3646      human metapneumovirus hmpv important cause acu...\n",
       "3647      glycoconjugate vaccines based bacterial capsul...\n",
       "3648      mycobacterium tuberculosis m.tb responsible de...\n",
       "3649      efficient surface cleaning strategy target cle...\n",
       "                                ...                        \n",
       "117563    light current coronavirus crisis business-to-b...\n",
       "117565    novel coronavirus sars-cov-2 pandemic spread r...\n",
       "117566    limitations testing availability challenge cov...\n",
       "117567    mid‐december 2019 disease caused infection sev...\n",
       "117568    rotaviruses rvs important causative agents vir...\n",
       "Name: abstract_processed, Length: 30226, dtype: object"
      ]
     },
     "execution_count": 127,
     "metadata": {},
     "output_type": "execute_result"
    }
   ],
   "source": [
    "metadata[\"abstract_processed\"]"
   ]
  },
  {
   "cell_type": "markdown",
   "id": "9c4d8918-fead-49cf-8e59-11f44c86297c",
   "metadata": {},
   "source": [
    "### Further cleaning: counting unique words in title and abstract in order to eliminate some outliers    \n",
    "Count of all tokens in the columns and unique words in the columns\n"
   ]
  },
  {
   "cell_type": "code",
   "execution_count": 128,
   "id": "82a212ae-19bf-472d-8c90-01b883f880e7",
   "metadata": {},
   "outputs": [
    {
     "data": {
      "text/html": [
       "<div>\n",
       "<style scoped>\n",
       "    .dataframe tbody tr th:only-of-type {\n",
       "        vertical-align: middle;\n",
       "    }\n",
       "\n",
       "    .dataframe tbody tr th {\n",
       "        vertical-align: top;\n",
       "    }\n",
       "\n",
       "    .dataframe thead th {\n",
       "        text-align: right;\n",
       "    }\n",
       "</style>\n",
       "<table border=\"1\" class=\"dataframe\">\n",
       "  <thead>\n",
       "    <tr style=\"text-align: right;\">\n",
       "      <th></th>\n",
       "      <th>Unnamed: 0</th>\n",
       "      <th>Unnamed: 0.1</th>\n",
       "      <th>cord_uid</th>\n",
       "      <th>sha</th>\n",
       "      <th>source_x</th>\n",
       "      <th>title</th>\n",
       "      <th>doi</th>\n",
       "      <th>pmcid</th>\n",
       "      <th>pubmed_id</th>\n",
       "      <th>license</th>\n",
       "      <th>...</th>\n",
       "      <th>journal</th>\n",
       "      <th>url</th>\n",
       "      <th>selection</th>\n",
       "      <th>language</th>\n",
       "      <th>title_processed</th>\n",
       "      <th>abstract_processed</th>\n",
       "      <th>abstract_processed_word_count</th>\n",
       "      <th>abstract_processed_unique_words</th>\n",
       "      <th>title_processed_word_count</th>\n",
       "      <th>title_processed_unique_count</th>\n",
       "    </tr>\n",
       "  </thead>\n",
       "  <tbody>\n",
       "    <tr>\n",
       "      <th>3645</th>\n",
       "      <td>3801</td>\n",
       "      <td>3801</td>\n",
       "      <td>f9tg6xsg</td>\n",
       "      <td>44449ad1cca160ce491d7624f8ae1028f3570c45</td>\n",
       "      <td>PMC</td>\n",
       "      <td>Dexmedetomidine improved renal function in pat...</td>\n",
       "      <td>10.1186/s40560-019-0415-z</td>\n",
       "      <td>PMC6939335</td>\n",
       "      <td>31908779.0</td>\n",
       "      <td>cc-by</td>\n",
       "      <td>...</td>\n",
       "      <td>J Intensive Care</td>\n",
       "      <td>https://www.ncbi.nlm.nih.gov/pmc/articles/PMC6...</td>\n",
       "      <td>0</td>\n",
       "      <td>en</td>\n",
       "      <td>dexmedetomidine improved renal function severe...</td>\n",
       "      <td>dexmedetomidine reported improve organ dysfunc...</td>\n",
       "      <td>202</td>\n",
       "      <td>140</td>\n",
       "      <td>11</td>\n",
       "      <td>11</td>\n",
       "    </tr>\n",
       "    <tr>\n",
       "      <th>3646</th>\n",
       "      <td>3802</td>\n",
       "      <td>3802</td>\n",
       "      <td>1qgpa45q</td>\n",
       "      <td>f5ae3f66face323615df39d838e056ab5fcc98df</td>\n",
       "      <td>PMC</td>\n",
       "      <td>Whole genome sequencing and phylogenetic analy...</td>\n",
       "      <td>10.1186/s12864-019-6400-z</td>\n",
       "      <td>PMC6941262</td>\n",
       "      <td>31898474.0</td>\n",
       "      <td>cc-by</td>\n",
       "      <td>...</td>\n",
       "      <td>BMC Genomics</td>\n",
       "      <td>https://www.ncbi.nlm.nih.gov/pmc/articles/PMC6...</td>\n",
       "      <td>0</td>\n",
       "      <td>en</td>\n",
       "      <td>genome sequencing phylogenetic analysis human ...</td>\n",
       "      <td>human metapneumovirus hmpv important cause acu...</td>\n",
       "      <td>118</td>\n",
       "      <td>96</td>\n",
       "      <td>9</td>\n",
       "      <td>9</td>\n",
       "    </tr>\n",
       "    <tr>\n",
       "      <th>3647</th>\n",
       "      <td>3803</td>\n",
       "      <td>3803</td>\n",
       "      <td>d1pd09zj</td>\n",
       "      <td>1cee4a0d0e823379ec34a462a04561bf4cd736a2</td>\n",
       "      <td>PMC</td>\n",
       "      <td>Synthetic carbohydrate-based vaccines: challen...</td>\n",
       "      <td>10.1186/s12929-019-0591-0</td>\n",
       "      <td>PMC6941340</td>\n",
       "      <td>31900143.0</td>\n",
       "      <td>cc-by</td>\n",
       "      <td>...</td>\n",
       "      <td>J Biomed Sci</td>\n",
       "      <td>https://www.ncbi.nlm.nih.gov/pmc/articles/PMC6...</td>\n",
       "      <td>0</td>\n",
       "      <td>en</td>\n",
       "      <td>synthetic carbohydrate-based vaccines challeng...</td>\n",
       "      <td>glycoconjugate vaccines based bacterial capsul...</td>\n",
       "      <td>70</td>\n",
       "      <td>51</td>\n",
       "      <td>5</td>\n",
       "      <td>5</td>\n",
       "    </tr>\n",
       "    <tr>\n",
       "      <th>3648</th>\n",
       "      <td>3804</td>\n",
       "      <td>3804</td>\n",
       "      <td>44ip3jda</td>\n",
       "      <td>2caf288d2b6723ea0d82657ab1ecb1199a5b3b6b</td>\n",
       "      <td>PMC</td>\n",
       "      <td>Identification of antigens presented by MHC fo...</td>\n",
       "      <td>10.1038/s41541-019-0148-y</td>\n",
       "      <td>PMC6941960</td>\n",
       "      <td>31908851.0</td>\n",
       "      <td>cc-by</td>\n",
       "      <td>...</td>\n",
       "      <td>NPJ Vaccines</td>\n",
       "      <td>https://www.ncbi.nlm.nih.gov/pmc/articles/PMC6...</td>\n",
       "      <td>0</td>\n",
       "      <td>en</td>\n",
       "      <td>identification antigens presented mhc vaccines...</td>\n",
       "      <td>mycobacterium tuberculosis m.tb responsible de...</td>\n",
       "      <td>154</td>\n",
       "      <td>113</td>\n",
       "      <td>6</td>\n",
       "      <td>6</td>\n",
       "    </tr>\n",
       "    <tr>\n",
       "      <th>3649</th>\n",
       "      <td>3805</td>\n",
       "      <td>3805</td>\n",
       "      <td>vk7apmtg</td>\n",
       "      <td>d6430e4ecda76d74dc295a831b9fc1914f7c04db</td>\n",
       "      <td>PMC</td>\n",
       "      <td>Quantifying the relative impact of contact het...</td>\n",
       "      <td>10.1186/s12879-019-4738-0</td>\n",
       "      <td>PMC6942315</td>\n",
       "      <td>31900118.0</td>\n",
       "      <td>cc-by</td>\n",
       "      <td>...</td>\n",
       "      <td>BMC Infect Dis</td>\n",
       "      <td>https://www.ncbi.nlm.nih.gov/pmc/articles/PMC6...</td>\n",
       "      <td>0</td>\n",
       "      <td>en</td>\n",
       "      <td>quantifying relative impact contact heterogene...</td>\n",
       "      <td>efficient surface cleaning strategy target cle...</td>\n",
       "      <td>145</td>\n",
       "      <td>93</td>\n",
       "      <td>9</td>\n",
       "      <td>9</td>\n",
       "    </tr>\n",
       "  </tbody>\n",
       "</table>\n",
       "<p>5 rows × 23 columns</p>\n",
       "</div>"
      ],
      "text/plain": [
       "      Unnamed: 0  Unnamed: 0.1  cord_uid  \\\n",
       "3645        3801          3801  f9tg6xsg   \n",
       "3646        3802          3802  1qgpa45q   \n",
       "3647        3803          3803  d1pd09zj   \n",
       "3648        3804          3804  44ip3jda   \n",
       "3649        3805          3805  vk7apmtg   \n",
       "\n",
       "                                           sha source_x  \\\n",
       "3645  44449ad1cca160ce491d7624f8ae1028f3570c45      PMC   \n",
       "3646  f5ae3f66face323615df39d838e056ab5fcc98df      PMC   \n",
       "3647  1cee4a0d0e823379ec34a462a04561bf4cd736a2      PMC   \n",
       "3648  2caf288d2b6723ea0d82657ab1ecb1199a5b3b6b      PMC   \n",
       "3649  d6430e4ecda76d74dc295a831b9fc1914f7c04db      PMC   \n",
       "\n",
       "                                                  title  \\\n",
       "3645  Dexmedetomidine improved renal function in pat...   \n",
       "3646  Whole genome sequencing and phylogenetic analy...   \n",
       "3647  Synthetic carbohydrate-based vaccines: challen...   \n",
       "3648  Identification of antigens presented by MHC fo...   \n",
       "3649  Quantifying the relative impact of contact het...   \n",
       "\n",
       "                            doi       pmcid   pubmed_id license  ...  \\\n",
       "3645  10.1186/s40560-019-0415-z  PMC6939335  31908779.0   cc-by  ...   \n",
       "3646  10.1186/s12864-019-6400-z  PMC6941262  31898474.0   cc-by  ...   \n",
       "3647  10.1186/s12929-019-0591-0  PMC6941340  31900143.0   cc-by  ...   \n",
       "3648  10.1038/s41541-019-0148-y  PMC6941960  31908851.0   cc-by  ...   \n",
       "3649  10.1186/s12879-019-4738-0  PMC6942315  31900118.0   cc-by  ...   \n",
       "\n",
       "               journal                                                url  \\\n",
       "3645  J Intensive Care  https://www.ncbi.nlm.nih.gov/pmc/articles/PMC6...   \n",
       "3646      BMC Genomics  https://www.ncbi.nlm.nih.gov/pmc/articles/PMC6...   \n",
       "3647      J Biomed Sci  https://www.ncbi.nlm.nih.gov/pmc/articles/PMC6...   \n",
       "3648      NPJ Vaccines  https://www.ncbi.nlm.nih.gov/pmc/articles/PMC6...   \n",
       "3649    BMC Infect Dis  https://www.ncbi.nlm.nih.gov/pmc/articles/PMC6...   \n",
       "\n",
       "     selection language                                    title_processed  \\\n",
       "3645         0       en  dexmedetomidine improved renal function severe...   \n",
       "3646         0       en  genome sequencing phylogenetic analysis human ...   \n",
       "3647         0       en  synthetic carbohydrate-based vaccines challeng...   \n",
       "3648         0       en  identification antigens presented mhc vaccines...   \n",
       "3649         0       en  quantifying relative impact contact heterogene...   \n",
       "\n",
       "                                     abstract_processed  \\\n",
       "3645  dexmedetomidine reported improve organ dysfunc...   \n",
       "3646  human metapneumovirus hmpv important cause acu...   \n",
       "3647  glycoconjugate vaccines based bacterial capsul...   \n",
       "3648  mycobacterium tuberculosis m.tb responsible de...   \n",
       "3649  efficient surface cleaning strategy target cle...   \n",
       "\n",
       "     abstract_processed_word_count abstract_processed_unique_words  \\\n",
       "3645                           202                             140   \n",
       "3646                           118                              96   \n",
       "3647                            70                              51   \n",
       "3648                           154                             113   \n",
       "3649                           145                              93   \n",
       "\n",
       "     title_processed_word_count  title_processed_unique_count  \n",
       "3645                         11                            11  \n",
       "3646                          9                             9  \n",
       "3647                          5                             5  \n",
       "3648                          6                             6  \n",
       "3649                          9                             9  \n",
       "\n",
       "[5 rows x 23 columns]"
      ]
     },
     "execution_count": 128,
     "metadata": {},
     "output_type": "execute_result"
    }
   ],
   "source": [
    "metadata['abstract_processed_word_count'] = metadata['abstract_processed'].astype(str).apply(lambda x: len(x.strip().split()))  # word count in abstract\n",
    "metadata['abstract_processed_unique_words']=metadata['abstract_processed'].astype(str).apply(lambda x:len(set(str(x).split())))  # number of unique words in body\n",
    "metadata['title_processed_word_count'] = metadata['title_processed'].astype(str).apply(lambda x: len(x.strip().split()))  # word count in body\n",
    "metadata['title_processed_unique_count'] = metadata['title_processed'].astype(str).apply(lambda x: len(x.strip().split()))  # word count in body\n",
    "\n",
    "metadata.head()"
   ]
  },
  {
   "cell_type": "markdown",
   "id": "36d95fc5-a339-4104-ae1a-b2c966b4248a",
   "metadata": {},
   "source": [
    "#### Eliminating some NULL values  \n",
    "Check if NULL values are present in the dataset along with count of the NULL values"
   ]
  },
  {
   "cell_type": "code",
   "execution_count": 129,
   "id": "fd51bc99-806d-4271-b9a6-21f9c8278735",
   "metadata": {},
   "outputs": [
    {
     "name": "stdout",
     "output_type": "stream",
     "text": [
      "Unnamed: 0 0\n",
      "Unnamed: 0.1 0\n",
      "cord_uid 0\n",
      "sha 8028\n",
      "source_x 0\n",
      "title 0\n",
      "doi 2088\n",
      "pmcid 13213\n",
      "pubmed_id 11903\n",
      "license 0\n",
      "abstract 0\n",
      "publish_time 0\n",
      "authors 314\n",
      "journal 6270\n",
      "url 0\n",
      "selection 0\n",
      "language 0\n",
      "title_processed 0\n",
      "abstract_processed 0\n",
      "abstract_processed_word_count 0\n",
      "abstract_processed_unique_words 0\n",
      "title_processed_word_count 0\n",
      "title_processed_unique_count 0\n"
     ]
    }
   ],
   "source": [
    "for col in metadata.columns:\n",
    "    print(col, metadata[col].isnull().sum())"
   ]
  },
  {
   "cell_type": "markdown",
   "id": "2d1e79c5-f91f-4e87-b30f-cc6b98b3a153",
   "metadata": {},
   "source": [
    "Let’s delete all rows for whose word count is 0"
   ]
  },
  {
   "cell_type": "code",
   "execution_count": 130,
   "id": "96222899-0347-4707-8887-1f9a153a4b3b",
   "metadata": {},
   "outputs": [
    {
     "name": "stdout",
     "output_type": "stream",
     "text": [
      "(30226, 23)\n",
      "(30220, 23)\n"
     ]
    }
   ],
   "source": [
    "print(metadata.shape)\n",
    "metadata.drop(metadata.index[metadata['abstract_processed_word_count'] == 0], inplace = True)\n",
    "metadata.drop(metadata.index[metadata['title_processed_word_count'] == 0], inplace = True)\n",
    "print(metadata.shape)"
   ]
  },
  {
   "cell_type": "markdown",
   "id": "88270021-e7dc-4b26-af18-21c431a364f7",
   "metadata": {},
   "source": []
  },
  {
   "cell_type": "code",
   "execution_count": null,
   "id": "153c11ae-1baf-44dc-a1bc-835649071cf3",
   "metadata": {},
   "outputs": [],
   "source": []
  },
  {
   "cell_type": "markdown",
   "id": "fd86aa3a-1a7e-4479-86d7-0119588ef071",
   "metadata": {},
   "source": [
    "### Saving the pre processed data "
   ]
  },
  {
   "cell_type": "code",
   "execution_count": 132,
   "id": "6f7c3fe3-6278-4ad3-ac3e-0ed06b809933",
   "metadata": {},
   "outputs": [],
   "source": [
    "compression_opts = dict(method='zip',\n",
    "                        archive_name='out.csv')  \n",
    "metadata.to_csv('temp/metadata_spacy_processed.zip', index=True,\n",
    "          compression=compression_opts)  "
   ]
  },
  {
   "cell_type": "code",
   "execution_count": 133,
   "id": "9a402dd3-b5c5-42fe-bc23-6f9e207b5979",
   "metadata": {},
   "outputs": [],
   "source": [
    "import matplotlib.pyplot as plt\n",
    "from collections import Counter\n",
    "from nltk.corpus import stopwords\n",
    "\n",
    "def word_bar_graph_function(dataframe,column,title):\n",
    "    # adapted from https://www.kaggle.com/benhamner/most-common-forum-topic-words\n",
    "    topic_words = [ z.lower() for y in\n",
    "                       [ x.split() for x in dataframe[column] if isinstance(x, str)]\n",
    "                       for z in y]\n",
    "    word_count_dict = dict(Counter(topic_words))\n",
    "    popular_words = sorted(word_count_dict, key = word_count_dict.get, reverse = True)\n",
    "    popular_words_nonstop = [w for w in popular_words if w not in stopwords.words(\"english\")]\n",
    "    plt.barh(range(50), [word_count_dict[w] for w in reversed(popular_words_nonstop[0:50])])\n",
    "    plt.yticks([x + 0.5 for x in range(50)], reversed(popular_words_nonstop[0:50]))\n",
    "    plt.title(title)\n",
    "    plt.show()"
   ]
  },
  {
   "cell_type": "markdown",
   "id": "a5c02ec8-7f03-4ccc-bd80-51555dc25d9f",
   "metadata": {},
   "source": [
    "### Performing a fast assesment of the results\n",
    "#### Title results"
   ]
  },
  {
   "cell_type": "code",
   "execution_count": 134,
   "id": "d0ba7ebf-65fe-4321-8ebd-2ca86e1317e6",
   "metadata": {},
   "outputs": [
    {
     "data": {
      "image/png": "[encoded data removed]",
      "text/plain": [
       "<Figure size 720x720 with 1 Axes>"
      ]
     },
     "metadata": {
      "needs_background": "light"
     },
     "output_type": "display_data"
    }
   ],
   "source": [
    "plt.figure(figsize=(10,10))\n",
    "word_bar_graph_function(metadata,column='title_processed', title='Most common tokens')"
   ]
  },
  {
   "cell_type": "markdown",
   "id": "a9ab76fd-047d-488b-980a-e7ae4dbdfaee",
   "metadata": {},
   "source": [
    "### Abstract results"
   ]
  },
  {
   "cell_type": "code",
   "execution_count": 135,
   "id": "368ccbeb-6c9a-40b0-b40e-e411397c98fe",
   "metadata": {},
   "outputs": [
    {
     "data": {
      "image/png": "[encoded data removed]",
      "text/plain": [
       "<Figure size 720x720 with 1 Axes>"
      ]
     },
     "metadata": {
      "needs_background": "light"
     },
     "output_type": "display_data"
    }
   ],
   "source": [
    "plt.figure(figsize=(10,10))\n",
    "word_bar_graph_function(metadata,column='abstract_processed', title='Most common tokens')"
   ]
  },
  {
   "cell_type": "code",
   "execution_count": null,
   "id": "d15fc099-6377-49f3-8291-aa77ad60ce2a",
   "metadata": {},
   "outputs": [],
   "source": []
  }
 ],
 "metadata": {
  "kernelspec": {
   "display_name": "Python 3",
   "language": "python",
   "name": "python3"
  },
  "language_info": {
   "codemirror_mode": {
    "name": "ipython",
    "version": 3
   },
   "file_extension": ".py",
   "mimetype": "text/x-python",
   "name": "python",
   "nbconvert_exporter": "python",
   "pygments_lexer": "ipython3",
   "version": "3.8.2"
  }
 },
 "nbformat": 4,
 "nbformat_minor": 5
}
