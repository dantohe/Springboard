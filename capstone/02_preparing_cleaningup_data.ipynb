{
 "cells": [
  {
   "cell_type": "markdown",
   "id": "37b311a7-f4cf-48bd-a6d9-b13d2eea7aac",
   "metadata": {},
   "source": [
    "# Data pre-processing and clenup \n",
    "We will be using the spacy library.   \n",
    "https://allenai.github.io/scispacy/"
   ]
  },
  {
   "cell_type": "code",
   "execution_count": 78,
   "id": "dec9d567-34d6-4dfd-8cd8-5bbe6a1a82e6",
   "metadata": {},
   "outputs": [],
   "source": [
    "import string\n",
    "import spacy\n",
    "from spacy.lang.en.stop_words import STOP_WORDS\n",
    "import en_core_sci_sm\n",
    "import en_core_sci_md\n",
    "import pandas as pd\n",
    "pd.options.mode.chained_assignment = None \n",
    "from tqdm import tqdm\n",
    "import logging\n",
    "logger = logging.getLogger(\"spacy\")\n",
    "logger.setLevel(logging.ERROR)"
   ]
  },
  {
   "cell_type": "markdown",
   "id": "e38cfa27-cc9a-4a5f-b419-d2b5a98cea56",
   "metadata": {},
   "source": [
    "### Importing Spacy language models"
   ]
  },
  {
   "cell_type": "code",
   "execution_count": null,
   "id": "96640ced-15b4-4fb1-8027-b695458df62a",
   "metadata": {},
   "outputs": [],
   "source": [
    "!python3 -m pip install https://s3-us-west-2.amazonaws.com/ai2-s2-scispacy/releases/v0.2.4/en_core_sci_lg-0.2.4.tar.gz   \n",
    "!python3 -m pip install https://s3-us-west-2.amazonaws.com/ai2-s2-scispacy/releases/v0.4.0/en_core_sci_sm-0.4.0.tar.gz\n",
    "!python3 -m pip install https://s3-us-west-2.amazonaws.com/ai2-s2-scispacy/releases/v0.4.0/en_core_sci_md-0.4.0.tar.gz\n",
    "import en_core_sci_lg\n",
    "import en_core_sci_sm\n",
    "import en_core_sci_md    "
   ]
  },
  {
   "cell_type": "markdown",
   "id": "b07ee433-7aa6-43f6-9e19-32b833c30450",
   "metadata": {},
   "source": [
    "#### Validate Spacy data models"
   ]
  },
  {
   "cell_type": "code",
   "execution_count": 79,
   "id": "7a931309-e229-49fa-903a-12233102b8db",
   "metadata": {},
   "outputs": [
    {
     "name": "stdout",
     "output_type": "stream",
     "text": [
      "\u001b[2K\u001b[38;5;2m✔ Loaded compatibility table\u001b[0m\n",
      "\u001b[1m\n",
      "================= Installed pipeline packages (spaCy v3.0.7) =================\u001b[0m\n",
      "\u001b[38;5;4mℹ spaCy installation:\n",
      "/Users/dantohe/Library/Python/3.8/lib/python/site-packages/spacy\u001b[0m\n",
      "\n",
      "NAME             SPACY            VERSION                            \n",
      "en_core_sci_md   >=3.0.1,<3.1.0   \u001b[38;5;2m0.4.0\u001b[0m   \u001b[38;5;2m✔\u001b[0m\n",
      "en_core_sci_sm   >=3.0.1,<3.1.0   \u001b[38;5;2m0.4.0\u001b[0m   \u001b[38;5;2m✔\u001b[0m\n",
      "en_core_web_sm   >=3.0.0,<3.1.0   \u001b[38;5;2m3.0.0\u001b[0m   \u001b[38;5;2m✔\u001b[0m\n",
      "\n"
     ]
    }
   ],
   "source": [
    "!python3 -m spacy validate"
   ]
  },
  {
   "cell_type": "markdown",
   "id": "0536fa74-ddb6-42ba-9f30-523fdc4383f6",
   "metadata": {},
   "source": [
    "### Punctuation and stop words"
   ]
  },
  {
   "cell_type": "code",
   "execution_count": 80,
   "id": "882ed1b0-133f-4f69-8999-e07fffa8fdfc",
   "metadata": {},
   "outputs": [
    {
     "data": {
      "text/plain": [
       "['through', 'one', 'indeed', 'least', 'every']"
      ]
     },
     "execution_count": 80,
     "metadata": {},
     "output_type": "execute_result"
    }
   ],
   "source": [
    "punctuations = string.punctuation\n",
    "stopwords = list(STOP_WORDS)\n",
    "stopwords[:5]"
   ]
  },
  {
   "cell_type": "markdown",
   "id": "396a852e-bc9d-443f-b9b1-680bc2a3983f",
   "metadata": {},
   "source": [
    "#### Augmenting the list of stop words\n",
    "Credits: https://www.kaggle.com/danielwolffram/topic-modeling-finding-related-articles#Latend-Dirichlet-Allocation   "
   ]
  },
  {
   "cell_type": "code",
   "execution_count": 81,
   "id": "c140b759-92bd-4813-a70d-8501da6916cf",
   "metadata": {},
   "outputs": [],
   "source": [
    "additional_stop_words = [\n",
    "    'doi', 'preprint', 'copyright', 'peer', 'reviewed', 'org', 'https', 'et', 'al', 'author', 'figure', \n",
    "    'rights', 'reserved', 'permission', 'used', 'using', 'biorxiv', 'medrxiv', 'license', 'fig', 'fig.', \n",
    "    'al.', 'Elsevier', 'PMC', 'CZI', 'p', '2', '1', '3', 'l'\n",
    "]\n",
    "\n",
    "for w in additional_stop_words:\n",
    "    if w not in stopwords:\n",
    "        stopwords.append(w)"
   ]
  },
  {
   "cell_type": "markdown",
   "id": "c6cf7085-3a46-4363-b923-c86b9d618f13",
   "metadata": {},
   "source": [
    "### Processing titles and abstracts\n",
    "Prepare the spacy processor."
   ]
  },
  {
   "cell_type": "code",
   "execution_count": 82,
   "id": "34050f82-72e6-49fd-8981-4fe92eaf8add",
   "metadata": {},
   "outputs": [],
   "source": [
    "processor = en_core_sci_md.load(disable=[\"tagger\", \"ner\"])\n",
    "processor.max_length = 7000000\n",
    "\n",
    "def spacy_processor(sentence):\n",
    "    my_string = processor(sentence)\n",
    "    my_string = [ word.lemma_.lower().strip() if word.lemma_ != \"-PRON-\" else word.lower_ for word in my_string ]\n",
    "    my_string = [ word for word in my_string if word not in stopwords and word not in punctuations ]\n",
    "    my_string = \" \".join([i for i in my_string])\n",
    "    return my_string"
   ]
  },
  {
   "cell_type": "markdown",
   "id": "0a19e914-7fd5-44a9-90ad-4a1d46f9c8e7",
   "metadata": {},
   "source": [
    "### Load the dataframe from the previous processing"
   ]
  },
  {
   "cell_type": "code",
   "execution_count": 83,
   "id": "49b1301a-e46f-4804-92b4-a0afacb30902",
   "metadata": {},
   "outputs": [
    {
     "name": "stdout",
     "output_type": "stream",
     "text": [
      "Index(['Unnamed: 0', 'Unnamed: 0.1', 'cord_uid', 'sha', 'source_x', 'title',\n",
      "       'doi', 'pmcid', 'pubmed_id', 'license', 'abstract', 'publish_time',\n",
      "       'authors', 'journal', 'url', 'selection', 'language'],\n",
      "      dtype='object')\n",
      "Frame dimentions (117578, 17)\n"
     ]
    }
   ],
   "source": [
    "cord_metadata_processed = pd.read_csv('temp/metadata_2_language_en.zip')\n",
    "metadata = cord_metadata_processed.copy(deep=True)\n",
    "print(metadata.columns)\n",
    "print(f'Frame dimentions {metadata.shape}')"
   ]
  },
  {
   "cell_type": "markdown",
   "id": "7903aa20-8bbd-4585-a34a-3a85ced24ec0",
   "metadata": {},
   "source": [
    "### Assesing Spacy speed on a data subset\n",
    "Picking 100 rows."
   ]
  },
  {
   "cell_type": "code",
   "execution_count": 84,
   "id": "c004b90e-5154-4961-a237-f90ff47defe0",
   "metadata": {},
   "outputs": [
    {
     "name": "stdout",
     "output_type": "stream",
     "text": [
      "Frame dimentions (100, 17)\n"
     ]
    }
   ],
   "source": [
    "metadata_subset = metadata[0:100]\n",
    "print(f'Frame dimentions {metadata_subset.shape}')"
   ]
  },
  {
   "cell_type": "markdown",
   "id": "6951837e-fa68-47e3-9c56-468b3bb47ca9",
   "metadata": {},
   "source": [
    "#### Processing a subset of titles"
   ]
  },
  {
   "cell_type": "code",
   "execution_count": 85,
   "id": "e10935af-666a-406d-8ad9-10c503d0a50e",
   "metadata": {},
   "outputs": [
    {
     "name": "stderr",
     "output_type": "stream",
     "text": [
      "100%|██████████| 100/100 [00:00<00:00, 154.00it/s]\n"
     ]
    }
   ],
   "source": [
    "tqdm.pandas()\n",
    "metadata_subset[\"processed_title\"] = metadata_subset[\"title\"].progress_apply(spacy_processor)\n"
   ]
  },
  {
   "cell_type": "code",
   "execution_count": 91,
   "id": "054d397c-6f58-4f08-ac6f-d9d71332e975",
   "metadata": {},
   "outputs": [
    {
     "name": "stdout",
     "output_type": "stream",
     "text": [
      "(100, 18)\n",
      "                                                title  \\\n",
      "0   Nitric oxide: a pro-inflammatory mediator in l...   \n",
      "1                Role of endothelin-1 in lung disease   \n",
      "2   Sequence requirements for RNA strand transfer ...   \n",
      "3   The 21st International Symposium on Intensive ...   \n",
      "4   Technical Description of RODS: A Real-time Pub...   \n",
      "..                                                ...   \n",
      "95  Endothelial Cells Support Persistent Gammaherp...   \n",
      "96                 Animal models of acute lung injury   \n",
      "97  Activation of the Unfolded Protein Response Is...   \n",
      "98  Prevention of Cytotoxic T Cell Escape Using a ...   \n",
      "99  Multiorgan failure due to hemophagocytic syndr...   \n",
      "\n",
      "                                      processed_title  \n",
      "0   nitric oxide pro-inflammatory mediator lung di...  \n",
      "1                      role endothelin-1 lung disease  \n",
      "2   sequence requirements rna strand transfer nido...  \n",
      "3   21st international symposium intensive care em...  \n",
      "4   technical description rods real-time public he...  \n",
      "..                                                ...  \n",
      "95  endothelial cells support persistent gammaherp...  \n",
      "96                    animal models acute lung injury  \n",
      "97  activation unfolded protein response required ...  \n",
      "98  prevention cytotoxic t cell escape heterocliti...  \n",
      "99  multiorgan failure hemophagocytic syndrome cas...  \n",
      "\n",
      "[100 rows x 2 columns]\n"
     ]
    }
   ],
   "source": [
    "print(metadata_subset.shape)\n",
    "print(metadata_subset[[\"title\",\"processed_title\"]])"
   ]
  },
  {
   "cell_type": "markdown",
   "id": "f3ae2b1e-3dfb-43be-97be-d0868805525e",
   "metadata": {},
   "source": [
    "#### Processing a subset of abstracts"
   ]
  },
  {
   "cell_type": "code",
   "execution_count": 92,
   "id": "06a45df8-35b8-43be-a32c-bf060a5121dc",
   "metadata": {},
   "outputs": [
    {
     "name": "stderr",
     "output_type": "stream",
     "text": [
      "100%|██████████| 100/100 [00:03<00:00, 25.99it/s]\n"
     ]
    }
   ],
   "source": [
    "metadata_subset[\"processed_abstract\"] = metadata_subset[\"abstract\"].progress_apply(spacy_processor)\n"
   ]
  },
  {
   "cell_type": "code",
   "execution_count": 94,
   "id": "8c026750-86eb-4684-a42c-219aa6737fd0",
   "metadata": {},
   "outputs": [
    {
     "name": "stdout",
     "output_type": "stream",
     "text": [
      "(100, 19)\n",
      "                                             abstract  \\\n",
      "0   Inflammatory diseases of the respiratory tract...   \n",
      "1   Endothelin-1 (ET-1) is a 21 amino acid peptide...   \n",
      "2   Nidovirus subgenomic mRNAs contain a leader se...   \n",
      "3   The 21st International Symposium on Intensive ...   \n",
      "4   This report describes the design and implement...   \n",
      "..                                                ...   \n",
      "95  A variety of human diseases are associated wit...   \n",
      "96  Acute lung injury in humans is characterized h...   \n",
      "97  Pore-forming toxins (PFTs) constitute the sing...   \n",
      "98  High affinity antigen-specific T cells play a ...   \n",
      "99  INTRODUCTION: Hemophagocytic syndrome (HFS) is...   \n",
      "\n",
      "                                   processed_abstract  \n",
      "0   inflammatory diseases respiratory tract common...  \n",
      "1   endothelin-1 et-1 21 amino acid peptide divers...  \n",
      "2   nidovirus subgenomic mrnas contain leader sequ...  \n",
      "3   21st international symposium intensive care em...  \n",
      "4   report describes design implementation real-ti...  \n",
      "..                                                ...  \n",
      "95  variety human diseases associated gammaherpesv...  \n",
      "96  acute lung injury humans characterized histopa...  \n",
      "97  pore-forming toxins pfts constitute single lar...  \n",
      "98  high affinity antigen-specific t cells play cr...  \n",
      "99  introduction hemophagocytic syndrome hfs poten...  \n",
      "\n",
      "[100 rows x 2 columns]\n"
     ]
    }
   ],
   "source": [
    "print(metadata_subset.shape)\n",
    "print(metadata_subset[[\"abstract\",\"processed_abstract\"]])"
   ]
  },
  {
   "cell_type": "markdown",
   "id": "1c962118-035a-45c4-a218-4a3b6786359d",
   "metadata": {},
   "source": [
    "### Performing the text processing on the whole dataframe\n",
    "#### Title processing"
   ]
  },
  {
   "cell_type": "code",
   "execution_count": 95,
   "id": "f61ab737-d1ad-4283-822f-34d63c996046",
   "metadata": {},
   "outputs": [
    {
     "name": "stderr",
     "output_type": "stream",
     "text": [
      "100%|██████████| 117578/117578 [10:13<00:00, 191.78it/s]\n"
     ]
    }
   ],
   "source": [
    "metadata[\"title_processed\"] = metadata[\"title\"].progress_apply(spacy_processor)"
   ]
  },
  {
   "cell_type": "code",
   "execution_count": 96,
   "id": "3ec29f89-19ba-4b69-81ee-8481445ec4e9",
   "metadata": {},
   "outputs": [
    {
     "data": {
      "text/plain": [
       "0         nitric oxide pro-inflammatory mediator lung di...\n",
       "1                            role endothelin-1 lung disease\n",
       "2         sequence requirements rna strand transfer nido...\n",
       "3         21st international symposium intensive care em...\n",
       "4         technical description rods real-time public he...\n",
       "                                ...                        \n",
       "117573    brainstem encephalitis associated chandipura a...\n",
       "117574    optimal control theory approach non-pharmaceut...\n",
       "117575    endophytes treasure house bioactive compounds ...\n",
       "117576    proteomic strategies discovery novel diagnosti...\n",
       "117577    impact middle east respiratory syndrome corona...\n",
       "Name: title_processed, Length: 117578, dtype: object"
      ]
     },
     "execution_count": 96,
     "metadata": {},
     "output_type": "execute_result"
    }
   ],
   "source": [
    "metadata[\"title_processed\"]"
   ]
  },
  {
   "cell_type": "markdown",
   "id": "d06def70-18cc-4361-ba14-afa635f5764e",
   "metadata": {},
   "source": [
    "#### Abstract processing"
   ]
  },
  {
   "cell_type": "code",
   "execution_count": 97,
   "id": "d8a86932-6075-4adf-9315-b66be9dae549",
   "metadata": {},
   "outputs": [
    {
     "name": "stderr",
     "output_type": "stream",
     "text": [
      "100%|██████████| 117578/117578 [1:03:36<00:00, 30.81it/s]\n"
     ]
    }
   ],
   "source": [
    "metadata[\"abstract_processed\"] = metadata[\"abstract\"].progress_apply(spacy_processor)"
   ]
  },
  {
   "cell_type": "code",
   "execution_count": 98,
   "id": "6f7c3fe3-6278-4ad3-ac3e-0ed06b809933",
   "metadata": {},
   "outputs": [],
   "source": [
    "compression_opts = dict(method='zip',\n",
    "                        archive_name='out.csv')  \n",
    "metadata.to_csv('temp/metadata_spacy_processed.zip', index=True,\n",
    "          compression=compression_opts)  "
   ]
  },
  {
   "cell_type": "code",
   "execution_count": 99,
   "id": "9a402dd3-b5c5-42fe-bc23-6f9e207b5979",
   "metadata": {},
   "outputs": [],
   "source": [
    "import matplotlib.pyplot as plt\n",
    "from collections import Counter\n",
    "from nltk.corpus import stopwords\n",
    "\n",
    "def word_bar_graph_function(dataframe,column,title):\n",
    "    # adapted from https://www.kaggle.com/benhamner/most-common-forum-topic-words\n",
    "    topic_words = [ z.lower() for y in\n",
    "                       [ x.split() for x in dataframe[column] if isinstance(x, str)]\n",
    "                       for z in y]\n",
    "    word_count_dict = dict(Counter(topic_words))\n",
    "    popular_words = sorted(word_count_dict, key = word_count_dict.get, reverse = True)\n",
    "    popular_words_nonstop = [w for w in popular_words if w not in stopwords.words(\"english\")]\n",
    "    plt.barh(range(50), [word_count_dict[w] for w in reversed(popular_words_nonstop[0:50])])\n",
    "    plt.yticks([x + 0.5 for x in range(50)], reversed(popular_words_nonstop[0:50]))\n",
    "    plt.title(title)\n",
    "    plt.show()"
   ]
  },
  {
   "cell_type": "markdown",
   "id": "a5c02ec8-7f03-4ccc-bd80-51555dc25d9f",
   "metadata": {},
   "source": [
    "### Performing a fast assesment of the results\n",
    "#### Title results"
   ]
  },
  {
   "cell_type": "code",
   "execution_count": 100,
   "id": "d0ba7ebf-65fe-4321-8ebd-2ca86e1317e6",
   "metadata": {},
   "outputs": [
    {
     "data": {
      "image/png": "[encoded data removed]",
      "text/plain": [
       "<Figure size 720x720 with 1 Axes>"
      ]
     },
     "metadata": {
      "needs_background": "light"
     },
     "output_type": "display_data"
    }
   ],
   "source": [
    "plt.figure(figsize=(10,10))\n",
    "word_bar_graph_function(metadata,column='title_processed', title='Most common tokens')"
   ]
  },
  {
   "cell_type": "markdown",
   "id": "a9ab76fd-047d-488b-980a-e7ae4dbdfaee",
   "metadata": {},
   "source": [
    "### Abstract results"
   ]
  },
  {
   "cell_type": "code",
   "execution_count": 101,
   "id": "368ccbeb-6c9a-40b0-b40e-e411397c98fe",
   "metadata": {},
   "outputs": [
    {
     "data": {
      "image/png": "[encoded data removed]",
      "text/plain": [
       "<Figure size 720x720 with 1 Axes>"
      ]
     },
     "metadata": {
      "needs_background": "light"
     },
     "output_type": "display_data"
    }
   ],
   "source": [
    "plt.figure(figsize=(10,10))\n",
    "word_bar_graph_function(metadata,column='abstract_processed', title='Most common tokens')"
   ]
  },
  {
   "cell_type": "code",
   "execution_count": null,
   "id": "d15fc099-6377-49f3-8291-aa77ad60ce2a",
   "metadata": {},
   "outputs": [],
   "source": []
  }
 ],
 "metadata": {
  "kernelspec": {
   "display_name": "Python 3",
   "language": "python",
   "name": "python3"
  },
  "language_info": {
   "codemirror_mode": {
    "name": "ipython",
    "version": 3
   },
   "file_extension": ".py",
   "mimetype": "text/x-python",
   "name": "python",
   "nbconvert_exporter": "python",
   "pygments_lexer": "ipython3",
   "version": "3.8.2"
  }
 },
 "nbformat": 4,
 "nbformat_minor": 5
}
