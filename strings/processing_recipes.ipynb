{
 "cells": [
  {
   "cell_type": "markdown",
   "id": "7d091f5a-4355-4c65-8101-2fd175cf51a7",
   "metadata": {},
   "source": [
    "# Processing recipes   \n",
    "Credits   \n",
    "https://www.oreilly.com/library/view/python-data-science/9781491912126/"
   ]
  },
  {
   "cell_type": "code",
   "execution_count": 5,
   "id": "3b12c70e-aec8-414b-8741-90636e791085",
   "metadata": {},
   "outputs": [],
   "source": [
    "import pandas as pd\n",
    "import numpy as np"
   ]
  },
  {
   "cell_type": "code",
   "execution_count": 1,
   "id": "16ec15f7-e962-4ba3-951d-2eb66ecd52c5",
   "metadata": {},
   "outputs": [
    {
     "name": "stdout",
     "output_type": "stream",
     "text": [
      "  % Total    % Received % Xferd  Average Speed   Time    Time     Time  Current\n",
      "                                 Dload  Upload   Total   Spent    Left  Speed\n",
      "100 29.3M  100 29.3M    0     0  14.2M      0  0:00:02  0:00:02 --:--:-- 14.2M\n"
     ]
    }
   ],
   "source": [
    "!curl -O https://s3.amazonaws.com/openrecipes/20170107-061401-recipeitems.json.gz\n",
    "!gunzip 20170107-061401-recipeitems.json.gz"
   ]
  },
  {
   "cell_type": "code",
   "execution_count": 12,
   "id": "5c8dbd9d-05f6-4158-8c65-4d52fc3cca4d",
   "metadata": {},
   "outputs": [
    {
     "name": "stdout",
     "output_type": "stream",
     "text": [
      "total 295120\n",
      "drwxr-xr-x  6 dantohe  staff        192 May 15 11:02 \u001b[34m.\u001b[m\u001b[m\n",
      "drwxr-xr-x  8 dantohe  staff        256 May 14 17:17 \u001b[34m..\u001b[m\u001b[m\n",
      "drwxr-xr-x  4 dantohe  staff        128 May 15 10:52 \u001b[34m.ipynb_checkpoints\u001b[m\u001b[m\n",
      "-rw-r--r--  1 dantohe  staff  141698284 May 15 10:51 20170107-061401-recipeitems.json\n",
      "-rw-r--r--  1 dantohe  staff      22766 May 15 11:02 processing_recipes.ipynb\n",
      "-rw-r--r--  1 dantohe  staff      13917 May 15 10:48 vectorized_strings.ipynb\n",
      "1.2.3\n"
     ]
    }
   ],
   "source": [
    "!ls -la\n",
    "print(pd.__version__)"
   ]
  },
  {
   "cell_type": "code",
   "execution_count": 11,
   "id": "6a318183-2a0c-468d-94eb-7fe55a39328f",
   "metadata": {},
   "outputs": [],
   "source": [
    "# read the entire file into a Python array\n",
    "from io import StringIO\n",
    "# newdf = pd.read_json(StringIO(temp))\n",
    "\n",
    "with open('20170107-061401-recipeitems.json', 'r') as f:\n",
    "    # Extract each line\n",
    "    data = (line.strip() for line in f)\n",
    "    # Reformat so each line is the element of a list\n",
    "    data_json = \"[{0}]\".format(','.join(data))\n",
    "# read the result as a JSON\n",
    "recipes = pd.read_json(StringIO(data_json))"
   ]
  },
  {
   "cell_type": "code",
   "execution_count": 15,
   "id": "5b8a760b-f5d9-4e2f-a939-1ed4f2e2ac6f",
   "metadata": {},
   "outputs": [
    {
     "name": "stdout",
     "output_type": "stream",
     "text": [
      "(173278, 17)\n",
      "<class 'pandas.core.frame.DataFrame'>\n",
      "RangeIndex: 173278 entries, 0 to 173277\n",
      "Data columns (total 17 columns):\n",
      " #   Column              Non-Null Count   Dtype \n",
      "---  ------              --------------   ----- \n",
      " 0   _id                 173278 non-null  object\n",
      " 1   name                173278 non-null  object\n",
      " 2   ingredients         173278 non-null  object\n",
      " 3   url                 173278 non-null  object\n",
      " 4   image               158278 non-null  object\n",
      " 5   ts                  173278 non-null  object\n",
      " 6   cookTime            117936 non-null  object\n",
      " 7   source              173278 non-null  object\n",
      " 8   recipeYield         165628 non-null  object\n",
      " 9   datePublished       78110 non-null   object\n",
      " 10  prepTime            130186 non-null  object\n",
      " 11  description         158068 non-null  object\n",
      " 12  totalTime           1570 non-null    object\n",
      " 13  creator             395 non-null     object\n",
      " 14  recipeCategory      388 non-null     object\n",
      " 15  dateModified        161 non-null     object\n",
      " 16  recipeInstructions  4 non-null       object\n",
      "dtypes: object(17)\n",
      "memory usage: 22.5+ MB\n"
     ]
    }
   ],
   "source": [
    "print(recipes.shape)\n",
    "recipes.info()"
   ]
  },
  {
   "cell_type": "code",
   "execution_count": 16,
   "id": "1e4b3f2d-2bce-464b-8cdc-f244d4f37dde",
   "metadata": {},
   "outputs": [
    {
     "data": {
      "text/plain": [
       "_id                                {'$oid': '5160756b96cc62079cc2db15'}\n",
       "name                                    Drop Biscuits and Sausage Gravy\n",
       "ingredients           Biscuits\\n3 cups All-purpose Flour\\n2 Tablespo...\n",
       "url                   http://thepioneerwoman.com/cooking/2013/03/dro...\n",
       "image                 http://static.thepioneerwoman.com/cooking/file...\n",
       "ts                                             {'$date': 1365276011104}\n",
       "cookTime                                                          PT30M\n",
       "source                                                  thepioneerwoman\n",
       "recipeYield                                                          12\n",
       "datePublished                                                2013-03-11\n",
       "prepTime                                                          PT10M\n",
       "description           Late Saturday afternoon, after Marlboro Man ha...\n",
       "totalTime                                                           NaN\n",
       "creator                                                             NaN\n",
       "recipeCategory                                                      NaN\n",
       "dateModified                                                        NaN\n",
       "recipeInstructions                                                  NaN\n",
       "Name: 0, dtype: object"
      ]
     },
     "execution_count": 16,
     "metadata": {},
     "output_type": "execute_result"
    }
   ],
   "source": [
    "recipes.iloc[0]\n"
   ]
  },
  {
   "cell_type": "code",
   "execution_count": 17,
   "id": "8ed2600e-12d2-43b9-bb7b-55790548f146",
   "metadata": {},
   "outputs": [
    {
     "data": {
      "text/plain": [
       "count    173278.000000\n",
       "mean        244.617926\n",
       "std         146.705285\n",
       "min           0.000000\n",
       "25%         147.000000\n",
       "50%         221.000000\n",
       "75%         314.000000\n",
       "max        9067.000000\n",
       "Name: ingredients, dtype: float64"
      ]
     },
     "execution_count": 17,
     "metadata": {},
     "output_type": "execute_result"
    }
   ],
   "source": [
    "recipes.ingredients.str.len().describe()\n"
   ]
  },
  {
   "cell_type": "code",
   "execution_count": 18,
   "id": "d8e4ee8b-6323-4fd7-a661-855d4259cfe4",
   "metadata": {},
   "outputs": [
    {
     "data": {
      "text/plain": [
       "'Carrot Pineapple Spice &amp; Brownie Layer Cake with Whipped Cream &amp; Cream Cheese Frosting and Marzipan Carrots'"
      ]
     },
     "execution_count": 18,
     "metadata": {},
     "output_type": "execute_result"
    }
   ],
   "source": [
    "recipes.name[np.argmax(recipes.ingredients.str.len())]\n"
   ]
  },
  {
   "cell_type": "code",
   "execution_count": 19,
   "id": "5f9d6a88-9402-449e-bb50-503612ac2783",
   "metadata": {},
   "outputs": [
    {
     "data": {
      "text/plain": [
       "3524"
      ]
     },
     "execution_count": 19,
     "metadata": {},
     "output_type": "execute_result"
    }
   ],
   "source": [
    "recipes.description.str.contains('[Bb]reakfast').sum()\n"
   ]
  },
  {
   "cell_type": "code",
   "execution_count": 20,
   "id": "f9ee76d3-3b92-45be-9f44-05daa661862f",
   "metadata": {},
   "outputs": [
    {
     "data": {
      "text/plain": [
       "10526"
      ]
     },
     "execution_count": 20,
     "metadata": {},
     "output_type": "execute_result"
    }
   ],
   "source": [
    "recipes.ingredients.str.contains('[Cc]innamon').sum()\n"
   ]
  },
  {
   "cell_type": "code",
   "execution_count": 21,
   "id": "f4c2b994-5654-47df-a745-11fe12544cf1",
   "metadata": {},
   "outputs": [],
   "source": [
    "spice_list = ['salt', 'pepper', 'oregano', 'sage', 'parsley',\n",
    "              'rosemary', 'tarragon', 'thyme', 'paprika', 'cumin']"
   ]
  },
  {
   "cell_type": "code",
   "execution_count": 25,
   "id": "71ae8bcf-ac62-411f-9e72-b0079834e3cf",
   "metadata": {},
   "outputs": [
    {
     "data": {
      "text/html": [
       "<div>\n",
       "<style scoped>\n",
       "    .dataframe tbody tr th:only-of-type {\n",
       "        vertical-align: middle;\n",
       "    }\n",
       "\n",
       "    .dataframe tbody tr th {\n",
       "        vertical-align: top;\n",
       "    }\n",
       "\n",
       "    .dataframe thead th {\n",
       "        text-align: right;\n",
       "    }\n",
       "</style>\n",
       "<table border=\"1\" class=\"dataframe\">\n",
       "  <thead>\n",
       "    <tr style=\"text-align: right;\">\n",
       "      <th></th>\n",
       "      <th>salt</th>\n",
       "      <th>pepper</th>\n",
       "      <th>oregano</th>\n",
       "      <th>sage</th>\n",
       "      <th>parsley</th>\n",
       "      <th>rosemary</th>\n",
       "      <th>tarragon</th>\n",
       "      <th>thyme</th>\n",
       "      <th>paprika</th>\n",
       "      <th>cumin</th>\n",
       "    </tr>\n",
       "  </thead>\n",
       "  <tbody>\n",
       "    <tr>\n",
       "      <th>0</th>\n",
       "      <td>False</td>\n",
       "      <td>False</td>\n",
       "      <td>False</td>\n",
       "      <td>True</td>\n",
       "      <td>False</td>\n",
       "      <td>False</td>\n",
       "      <td>False</td>\n",
       "      <td>False</td>\n",
       "      <td>False</td>\n",
       "      <td>False</td>\n",
       "    </tr>\n",
       "    <tr>\n",
       "      <th>1</th>\n",
       "      <td>False</td>\n",
       "      <td>False</td>\n",
       "      <td>False</td>\n",
       "      <td>False</td>\n",
       "      <td>False</td>\n",
       "      <td>False</td>\n",
       "      <td>False</td>\n",
       "      <td>False</td>\n",
       "      <td>False</td>\n",
       "      <td>False</td>\n",
       "    </tr>\n",
       "    <tr>\n",
       "      <th>2</th>\n",
       "      <td>True</td>\n",
       "      <td>True</td>\n",
       "      <td>False</td>\n",
       "      <td>False</td>\n",
       "      <td>False</td>\n",
       "      <td>False</td>\n",
       "      <td>False</td>\n",
       "      <td>False</td>\n",
       "      <td>False</td>\n",
       "      <td>True</td>\n",
       "    </tr>\n",
       "    <tr>\n",
       "      <th>3</th>\n",
       "      <td>False</td>\n",
       "      <td>False</td>\n",
       "      <td>False</td>\n",
       "      <td>False</td>\n",
       "      <td>False</td>\n",
       "      <td>False</td>\n",
       "      <td>False</td>\n",
       "      <td>False</td>\n",
       "      <td>False</td>\n",
       "      <td>False</td>\n",
       "    </tr>\n",
       "    <tr>\n",
       "      <th>4</th>\n",
       "      <td>False</td>\n",
       "      <td>False</td>\n",
       "      <td>False</td>\n",
       "      <td>False</td>\n",
       "      <td>False</td>\n",
       "      <td>False</td>\n",
       "      <td>False</td>\n",
       "      <td>False</td>\n",
       "      <td>False</td>\n",
       "      <td>False</td>\n",
       "    </tr>\n",
       "  </tbody>\n",
       "</table>\n",
       "</div>"
      ],
      "text/plain": [
       "    salt  pepper  oregano   sage  parsley  rosemary  tarragon  thyme  paprika  \\\n",
       "0  False   False    False   True    False     False     False  False    False   \n",
       "1  False   False    False  False    False     False     False  False    False   \n",
       "2   True    True    False  False    False     False     False  False    False   \n",
       "3  False   False    False  False    False     False     False  False    False   \n",
       "4  False   False    False  False    False     False     False  False    False   \n",
       "\n",
       "   cumin  \n",
       "0  False  \n",
       "1  False  \n",
       "2   True  \n",
       "3  False  \n",
       "4  False  "
      ]
     },
     "execution_count": 25,
     "metadata": {},
     "output_type": "execute_result"
    }
   ],
   "source": [
    "import re\n",
    "spice_df = pd.DataFrame(dict((spice, recipes.ingredients.str.contains(spice, re.IGNORECASE)) for spice in spice_list))\n",
    "spice_df.head()"
   ]
  },
  {
   "cell_type": "code",
   "execution_count": 23,
   "id": "3c5bf195-cb81-409b-a605-7595134e8a65",
   "metadata": {},
   "outputs": [
    {
     "data": {
      "text/plain": [
       "10"
      ]
     },
     "execution_count": 23,
     "metadata": {},
     "output_type": "execute_result"
    }
   ],
   "source": [
    "selection = spice_df.query('parsley & paprika & tarragon')\n",
    "len(selection)"
   ]
  },
  {
   "cell_type": "code",
   "execution_count": 24,
   "id": "c28252d3-0e8e-4e01-84d2-ed5e224f3fa0",
   "metadata": {},
   "outputs": [
    {
     "data": {
      "text/plain": [
       "2069      All cremat with a Little Gem, dandelion and wa...\n",
       "74964                         Lobster with Thermidor butter\n",
       "93768      Burton's Southern Fried Chicken with White Gravy\n",
       "113926                     Mijo's Slow Cooker Shredded Beef\n",
       "137686                     Asparagus Soup with Poached Eggs\n",
       "140530                                 Fried Oyster Po’boys\n",
       "158475                Lamb shank tagine with herb tabbouleh\n",
       "158486                 Southern fried chicken in buttermilk\n",
       "163175            Fried Chicken Sliders with Pickles + Slaw\n",
       "165243                        Bar Tartine Cauliflower Salad\n",
       "Name: name, dtype: object"
      ]
     },
     "execution_count": 24,
     "metadata": {},
     "output_type": "execute_result"
    }
   ],
   "source": [
    "recipes.name[selection.index]\n"
   ]
  },
  {
   "cell_type": "code",
   "execution_count": null,
   "id": "3a14df83-b5b9-4c6d-9164-b9cd6b97e03e",
   "metadata": {},
   "outputs": [],
   "source": []
  }
 ],
 "metadata": {
  "kernelspec": {
   "display_name": "Python 3",
   "language": "python",
   "name": "python3"
  },
  "language_info": {
   "codemirror_mode": {
    "name": "ipython",
    "version": 3
   },
   "file_extension": ".py",
   "mimetype": "text/x-python",
   "name": "python",
   "nbconvert_exporter": "python",
   "pygments_lexer": "ipython3",
   "version": "3.8.2"
  }
 },
 "nbformat": 4,
 "nbformat_minor": 5
}
